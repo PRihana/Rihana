{
  "nbformat": 4,
  "nbformat_minor": 0,
  "metadata": {
    "colab": {
      "name": "02-03-2020.ipynb",
      "provenance": [],
      "authorship_tag": "ABX9TyMmUyems11kTBB+68w2wZlL",
      "include_colab_link": true
    },
    "kernelspec": {
      "name": "python3",
      "display_name": "Python 3"
    }
  },
  "cells": [
    {
      "cell_type": "markdown",
      "metadata": {
        "id": "view-in-github",
        "colab_type": "text"
      },
      "source": [
        "<a href=\"https://colab.research.google.com/github/PRihana/Rihana/blob/master/02_03_2020.ipynb\" target=\"_parent\"><img src=\"https://colab.research.google.com/assets/colab-badge.svg\" alt=\"Open In Colab\"/></a>"
      ]
    },
    {
      "cell_type": "code",
      "metadata": {
        "id": "zgkCuG3O60_D",
        "colab_type": "code",
        "colab": {}
      },
      "source": [
        ""
      ],
      "execution_count": 0,
      "outputs": []
    },
    {
      "cell_type": "markdown",
      "metadata": {
        "id": "-5WCLQ717TrK",
        "colab_type": "text"
      },
      "source": [
        "# python proramming\n",
        "## python programming\n",
        "### python programming\n",
        "#### python programming\n",
        "##### python programming\n",
        "###### python programming\n",
        "###### python programming print function"
      ]
    },
    {
      "cell_type": "code",
      "metadata": {
        "id": "6a0P6Rdz709X",
        "colab_type": "code",
        "outputId": "b25a3207-0230-44cf-8ae6-0f0f534a2de6",
        "colab": {
          "base_uri": "https://localhost:8080/",
          "height": 52
        }
      },
      "source": [
        "print(\"hello\")\n",
        "print(\"everyone\")"
      ],
      "execution_count": 0,
      "outputs": [
        {
          "output_type": "stream",
          "text": [
            "hello\n",
            "everyone\n"
          ],
          "name": "stdout"
        }
      ]
    },
    {
      "cell_type": "code",
      "metadata": {
        "id": "Wf2P22aC8Auj",
        "colab_type": "code",
        "outputId": "e9d7687e-2673-4002-92e5-730968e0f03a",
        "colab": {
          "base_uri": "https://localhost:8080/",
          "height": 52
        }
      },
      "source": [
        "x=10\n",
        "y=20\n",
        "print(x+y)\n",
        "print(x-y)"
      ],
      "execution_count": 0,
      "outputs": [
        {
          "output_type": "stream",
          "text": [
            "30\n",
            "-10\n"
          ],
          "name": "stdout"
        }
      ]
    },
    {
      "cell_type": "code",
      "metadata": {
        "id": "SpTxqMpb8Rtd",
        "colab_type": "code",
        "outputId": "d8e7e4ea-e78d-42fc-a96d-dd56584238f9",
        "colab": {
          "base_uri": "https://localhost:8080/",
          "height": 131
        }
      },
      "source": [
        "x=int(input(\"enter value for x\"))\n",
        "\n",
        "print(type(x),print(type(y))\n",
        "print(x+y)\n",
        "print(x-y)\n",
        "print(x*y)\n",
        "print(x/y)"
      ],
      "execution_count": 0,
      "outputs": [
        {
          "output_type": "error",
          "ename": "SyntaxError",
          "evalue": "ignored",
          "traceback": [
            "\u001b[0;36m  File \u001b[0;32m\"<ipython-input-5-3fe88e31e65f>\"\u001b[0;36m, line \u001b[0;32m3\u001b[0m\n\u001b[0;31m    print(x+y)\u001b[0m\n\u001b[0m        ^\u001b[0m\n\u001b[0;31mSyntaxError\u001b[0m\u001b[0;31m:\u001b[0m invalid syntax\n"
          ]
        }
      ]
    },
    {
      "cell_type": "code",
      "metadata": {
        "colab_type": "code",
        "outputId": "ba71b8c7-c50a-48c3-d69d-a43a29952961",
        "id": "Z0VP5878-Oqe",
        "colab": {
          "base_uri": "https://localhost:8080/",
          "height": 131
        }
      },
      "source": [
        "x=int(input(\"enter value for x\"))\n",
        "y=int(input(\"enter value for y\"))\n",
        "print(type(x),print(type(y))\n",
        "print(x+y)\n",
        "print(x-y)\n",
        "print(x*y)\n",
        "print(x/y)"
      ],
      "execution_count": 0,
      "outputs": [
        {
          "output_type": "error",
          "ename": "SyntaxError",
          "evalue": "ignored",
          "traceback": [
            "\u001b[0;36m  File \u001b[0;32m\"<ipython-input-7-e32b57205474>\"\u001b[0;36m, line \u001b[0;32m4\u001b[0m\n\u001b[0;31m    print(x+y)\u001b[0m\n\u001b[0m        ^\u001b[0m\n\u001b[0;31mSyntaxError\u001b[0m\u001b[0;31m:\u001b[0m invalid syntax\n"
          ]
        }
      ]
    },
    {
      "cell_type": "code",
      "metadata": {
        "colab_type": "code",
        "outputId": "a5145707-db99-48d7-c0f4-fb9ef9fe2211",
        "id": "XxsTUFeu-SDg",
        "colab": {
          "base_uri": "https://localhost:8080/",
          "height": 131
        }
      },
      "source": [
        "x=int(input(\"enter value for x\"))\n",
        "y=int(input(\"enter value for y\"))\n",
        "print(type(x),(type(y))\n",
        "print(x+y)\n",
        "print(x-y)\n",
        "print(x*y)\n",
        "print(x/y)"
      ],
      "execution_count": 0,
      "outputs": [
        {
          "output_type": "error",
          "ename": "SyntaxError",
          "evalue": "ignored",
          "traceback": [
            "\u001b[0;36m  File \u001b[0;32m\"<ipython-input-38-06f62cd3343d>\"\u001b[0;36m, line \u001b[0;32m4\u001b[0m\n\u001b[0;31m    print(x+y)\u001b[0m\n\u001b[0m        ^\u001b[0m\n\u001b[0;31mSyntaxError\u001b[0m\u001b[0;31m:\u001b[0m invalid syntax\n"
          ]
        }
      ]
    },
    {
      "cell_type": "code",
      "metadata": {
        "id": "SLHzPKT49LSq",
        "colab_type": "code",
        "outputId": "4cb06339-ce90-4cd7-db6b-d2ed6a35701f",
        "colab": {
          "base_uri": "https://localhost:8080/",
          "height": 69
        }
      },
      "source": [
        "name=input(\"enter my name is\")\n",
        "age=int(input(\"enter age\"))\n",
        "print(\"my name is\",name,\"and age is\",age)"
      ],
      "execution_count": 0,
      "outputs": [
        {
          "output_type": "stream",
          "text": [
            "enter my name isvina\n",
            "enter age21\n",
            "my name is vina and age is 21\n"
          ],
          "name": "stdout"
        }
      ]
    },
    {
      "cell_type": "code",
      "metadata": {
        "id": "QcdemGIc_eIO",
        "colab_type": "code",
        "outputId": "dfab1815-ec23-4bde-819e-b6871c0fded8",
        "colab": {
          "base_uri": "https://localhost:8080/",
          "height": 87
        }
      },
      "source": [
        "name=input(\"enter my name is\")\n",
        "age=int(input(\"enter age\"))\n",
        "print(\"my name is\",name)\n",
        "print(\"and age is\",age)"
      ],
      "execution_count": 0,
      "outputs": [
        {
          "output_type": "stream",
          "text": [
            "enter my name isgita\n",
            "enter age22\n",
            "my name is gita\n",
            "and age is 22\n"
          ],
          "name": "stdout"
        }
      ]
    },
    {
      "cell_type": "code",
      "metadata": {
        "id": "T9rQoGIQBJkE",
        "colab_type": "code",
        "outputId": "b7b33159-cde4-40a2-9516-01857ac39524",
        "colab": {
          "base_uri": "https://localhost:8080/",
          "height": 69
        }
      },
      "source": [
        "name=input(\"enter my name is\")\n",
        "age=int(input(\"enter age\"))\n",
        "print(\"my name is\",name,end=\" \")\n",
        "print(\"and age is\",age)"
      ],
      "execution_count": 0,
      "outputs": [
        {
          "output_type": "stream",
          "text": [
            "enter my name issita\n",
            "enter age25\n",
            "my name is sita and age is 25\n"
          ],
          "name": "stdout"
        }
      ]
    },
    {
      "cell_type": "code",
      "metadata": {
        "id": "mdFTA5zZBdad",
        "colab_type": "code",
        "outputId": "5c2a7271-6fcf-4377-bf4f-2c143af46348",
        "colab": {
          "base_uri": "https://localhost:8080/",
          "height": 243
        }
      },
      "source": [
        "help(\"keywords\")"
      ],
      "execution_count": 0,
      "outputs": [
        {
          "output_type": "stream",
          "text": [
            "\n",
            "Here is a list of the Python keywords.  Enter any keyword to get more help.\n",
            "\n",
            "False               def                 if                  raise\n",
            "None                del                 import              return\n",
            "True                elif                in                  try\n",
            "and                 else                is                  while\n",
            "as                  except              lambda              with\n",
            "assert              finally             nonlocal            yield\n",
            "break               for                 not                 \n",
            "class               from                or                  \n",
            "continue            global              pass                \n",
            "\n"
          ],
          "name": "stdout"
        }
      ]
    },
    {
      "cell_type": "markdown",
      "metadata": {
        "id": "vtrHnfalCspW",
        "colab_type": "text"
      },
      "source": [
        "## Data types"
      ]
    },
    {
      "cell_type": "code",
      "metadata": {
        "id": "ePTVqFZhBpX6",
        "colab_type": "code",
        "colab": {}
      },
      "source": [
        "\n",
        "#1.fundamental data types-->int,float,complex,boolean,string\n",
        "#2.collection data types-->list,tuple,set,dictionary\n",
        "x=4+5j\n",
        "y=2+5j\n",
        "x+y"
      ],
      "execution_count": 0,
      "outputs": []
    },
    {
      "cell_type": "code",
      "metadata": {
        "id": "NQnfqdc-DZ4m",
        "colab_type": "code",
        "outputId": "aeb9eb4e-9772-48f3-bbdf-7120779b9d7d",
        "colab": {
          "base_uri": "https://localhost:8080/",
          "height": 35
        }
      },
      "source": [
        "x=4+5j\n",
        "y=complex(8,9)\n",
        "x+y"
      ],
      "execution_count": 0,
      "outputs": [
        {
          "output_type": "execute_result",
          "data": {
            "text/plain": [
              "(12+14j)"
            ]
          },
          "metadata": {
            "tags": []
          },
          "execution_count": 29
        }
      ]
    },
    {
      "cell_type": "code",
      "metadata": {
        "id": "JPfbAzpBECEI",
        "colab_type": "code",
        "outputId": "920a5b77-f037-49c7-c0a4-b49481e0b8fd",
        "colab": {
          "base_uri": "https://localhost:8080/",
          "height": 52
        }
      },
      "source": [
        "#boolean\n",
        "a=True\n",
        "b=False\n",
        "print(a,b)\n",
        "print(type(a))"
      ],
      "execution_count": 0,
      "outputs": [
        {
          "output_type": "stream",
          "text": [
            "True False\n",
            "<class 'bool'>\n"
          ],
          "name": "stdout"
        }
      ]
    },
    {
      "cell_type": "code",
      "metadata": {
        "id": "nJsAYM51WIAA",
        "colab_type": "code",
        "outputId": "bf14d13d-7d94-4503-f5e2-6533a7881241",
        "colab": {
          "base_uri": "https://localhost:8080/",
          "height": 104
        }
      },
      "source": [
        "#string\n",
        "s=\"string1\"\n",
        "s1='string2'\n",
        "s3=(s[3])\n",
        "print(s[3:6])\n",
        "print(s[::])\n",
        "print(s[::-1])\n",
        "print(s+s1)#concatenation\n",
        "print(s*2)#repitition"
      ],
      "execution_count": 0,
      "outputs": [
        {
          "output_type": "stream",
          "text": [
            "ing\n",
            "string1\n",
            "1gnirts\n",
            "string1string2\n",
            "string1string1\n"
          ],
          "name": "stdout"
        }
      ]
    },
    {
      "cell_type": "code",
      "metadata": {
        "id": "yF1lXU85XIWb",
        "colab_type": "code",
        "outputId": "3091445c-df87-41e8-b1ca-436c97530d41",
        "colab": {
          "base_uri": "https://localhost:8080/",
          "height": 87
        }
      },
      "source": [
        "#string multiple sentence in strings\n",
        "s='''abc\n",
        "dfg\n",
        "hij\n",
        "klm'''\n",
        "print(s)\n"
      ],
      "execution_count": 0,
      "outputs": [
        {
          "output_type": "stream",
          "text": [
            "abc\n",
            "dfg\n",
            "hij\n",
            "klm\n"
          ],
          "name": "stdout"
        }
      ]
    },
    {
      "cell_type": "markdown",
      "metadata": {
        "id": "1jw3W3qeZAmI",
        "colab_type": "text"
      },
      "source": [
        "## Built in functions"
      ]
    },
    {
      "cell_type": "code",
      "metadata": {
        "id": "GEVrSdOlY5QB",
        "colab_type": "code",
        "outputId": "b1786d97-b28b-4f3b-c2c5-bb72ec6cd028",
        "colab": {
          "base_uri": "https://localhost:8080/",
          "height": 87
        }
      },
      "source": [
        "s=\"abc123\"\n",
        "x=10\n",
        "print(len(s))\n",
        "print(max(s))\n",
        "print(min(s))\n",
        "print(str(x))"
      ],
      "execution_count": 0,
      "outputs": [
        {
          "output_type": "stream",
          "text": [
            "6\n",
            "c\n",
            "1\n",
            "10\n"
          ],
          "name": "stdout"
        }
      ]
    },
    {
      "cell_type": "markdown",
      "metadata": {
        "id": "nYTeZpZyZxRJ",
        "colab_type": "text"
      },
      "source": [
        "## ord function is used to find the ascii value"
      ]
    },
    {
      "cell_type": "code",
      "metadata": {
        "id": "YbBeBjxNtRly",
        "colab_type": "code",
        "outputId": "ba85ab46-5a85-4bb4-a85d-25a27fdd619c",
        "colab": {
          "base_uri": "https://localhost:8080/",
          "height": 35
        }
      },
      "source": [
        "ord('A')"
      ],
      "execution_count": 0,
      "outputs": [
        {
          "output_type": "execute_result",
          "data": {
            "text/plain": [
              "65"
            ]
          },
          "metadata": {
            "tags": []
          },
          "execution_count": 24
        }
      ]
    },
    {
      "cell_type": "code",
      "metadata": {
        "id": "O6DwcSintLu2",
        "colab_type": "code",
        "outputId": "c321a3bc-7c7d-414f-c8ee-634ce0ab4ca8",
        "colab": {
          "base_uri": "https://localhost:8080/",
          "height": 35
        }
      },
      "source": [
        "ord('1')"
      ],
      "execution_count": 0,
      "outputs": [
        {
          "output_type": "execute_result",
          "data": {
            "text/plain": [
              "49"
            ]
          },
          "metadata": {
            "tags": []
          },
          "execution_count": 23
        }
      ]
    },
    {
      "cell_type": "code",
      "metadata": {
        "id": "DXOTRwUIZit3",
        "colab_type": "code",
        "outputId": "8e4df267-0eb0-4636-bd6e-429e8eceeab4",
        "colab": {
          "base_uri": "https://localhost:8080/",
          "height": 35
        }
      },
      "source": [
        "ord('a')\n"
      ],
      "execution_count": 0,
      "outputs": [
        {
          "output_type": "execute_result",
          "data": {
            "text/plain": [
              "97"
            ]
          },
          "metadata": {
            "tags": []
          },
          "execution_count": 22
        }
      ]
    },
    {
      "cell_type": "markdown",
      "metadata": {
        "id": "KGuDOoHgaDpa",
        "colab_type": "text"
      },
      "source": [
        "## chr is used to find the number from the ascii value"
      ]
    },
    {
      "cell_type": "code",
      "metadata": {
        "id": "XwFxgLiBZ9ZV",
        "colab_type": "code",
        "outputId": "18ee2015-6bbf-4771-84e8-10841da9be4b",
        "colab": {
          "base_uri": "https://localhost:8080/",
          "height": 35
        }
      },
      "source": [
        "chr(48)"
      ],
      "execution_count": 0,
      "outputs": [
        {
          "output_type": "execute_result",
          "data": {
            "text/plain": [
              "'0'"
            ]
          },
          "metadata": {
            "tags": []
          },
          "execution_count": 20
        }
      ]
    },
    {
      "cell_type": "code",
      "metadata": {
        "id": "tFp-lpQ9aeCM",
        "colab_type": "code",
        "outputId": "fa968329-6a5c-4bfc-8e25-faa24698a056",
        "colab": {
          "base_uri": "https://localhost:8080/",
          "height": 35
        }
      },
      "source": [
        "s1=\"abc\"\n",
        "s2=\"abc123\"\n",
        "s3=\"123\"\n",
        "s1=s1.replace('b','z')\n",
        "print(s1)"
      ],
      "execution_count": 0,
      "outputs": [
        {
          "output_type": "stream",
          "text": [
            "azc\n"
          ],
          "name": "stdout"
        }
      ]
    },
    {
      "cell_type": "code",
      "metadata": {
        "id": "f--6vpxFcFhA",
        "colab_type": "code",
        "outputId": "5a207493-b250-41ad-c15d-4f43411567d3",
        "colab": {
          "base_uri": "https://localhost:8080/",
          "height": 52
        }
      },
      "source": [
        "s=input()\n",
        "print(s.count(\"()\")*2)\n",
        "    \n",
        "\n",
        "\n",
        "\n",
        "\n",
        "\n",
        "\n",
        "\n",
        "\n",
        "\n",
        "\n",
        "\n",
        "\n",
        "\n",
        "\n",
        "\n",
        "\n",
        "\n",
        "\n",
        "\n",
        "\n",
        "\n",
        "\n",
        "\n",
        "\n",
        "\n",
        "\n",
        "\n"
      ],
      "execution_count": 0,
      "outputs": [
        {
          "output_type": "stream",
          "text": [
            "(((()())()\n",
            "6\n"
          ],
          "name": "stdout"
        }
      ]
    },
    {
      "cell_type": "code",
      "metadata": {
        "id": "Tw1cgH6EhySY",
        "colab_type": "code",
        "outputId": "6f365e40-54a0-434c-9d9b-1e0e3031e066",
        "colab": {
          "base_uri": "https://localhost:8080/",
          "height": 121
        }
      },
      "source": [
        "s=\"abc123\"\n",
        "for i in s:\n",
        "  print(i)"
      ],
      "execution_count": 0,
      "outputs": [
        {
          "output_type": "stream",
          "text": [
            "a\n",
            "b\n",
            "c\n",
            "1\n",
            "2\n",
            "3\n"
          ],
          "name": "stdout"
        }
      ]
    },
    {
      "cell_type": "code",
      "metadata": {
        "id": "1v70z1Xpmsw9",
        "colab_type": "code",
        "outputId": "2ca2d2c0-32b5-49ec-a304-4b8b5b41eb36",
        "colab": {
          "base_uri": "https://localhost:8080/",
          "height": 1000
        }
      },
      "source": [
        "dir(\"str\")"
      ],
      "execution_count": 0,
      "outputs": [
        {
          "output_type": "execute_result",
          "data": {
            "text/plain": [
              "['__add__',\n",
              " '__class__',\n",
              " '__contains__',\n",
              " '__delattr__',\n",
              " '__dir__',\n",
              " '__doc__',\n",
              " '__eq__',\n",
              " '__format__',\n",
              " '__ge__',\n",
              " '__getattribute__',\n",
              " '__getitem__',\n",
              " '__getnewargs__',\n",
              " '__gt__',\n",
              " '__hash__',\n",
              " '__init__',\n",
              " '__init_subclass__',\n",
              " '__iter__',\n",
              " '__le__',\n",
              " '__len__',\n",
              " '__lt__',\n",
              " '__mod__',\n",
              " '__mul__',\n",
              " '__ne__',\n",
              " '__new__',\n",
              " '__reduce__',\n",
              " '__reduce_ex__',\n",
              " '__repr__',\n",
              " '__rmod__',\n",
              " '__rmul__',\n",
              " '__setattr__',\n",
              " '__sizeof__',\n",
              " '__str__',\n",
              " '__subclasshook__',\n",
              " 'capitalize',\n",
              " 'casefold',\n",
              " 'center',\n",
              " 'count',\n",
              " 'encode',\n",
              " 'endswith',\n",
              " 'expandtabs',\n",
              " 'find',\n",
              " 'format',\n",
              " 'format_map',\n",
              " 'index',\n",
              " 'isalnum',\n",
              " 'isalpha',\n",
              " 'isdecimal',\n",
              " 'isdigit',\n",
              " 'isidentifier',\n",
              " 'islower',\n",
              " 'isnumeric',\n",
              " 'isprintable',\n",
              " 'isspace',\n",
              " 'istitle',\n",
              " 'isupper',\n",
              " 'join',\n",
              " 'ljust',\n",
              " 'lower',\n",
              " 'lstrip',\n",
              " 'maketrans',\n",
              " 'partition',\n",
              " 'replace',\n",
              " 'rfind',\n",
              " 'rindex',\n",
              " 'rjust',\n",
              " 'rpartition',\n",
              " 'rsplit',\n",
              " 'rstrip',\n",
              " 'split',\n",
              " 'splitlines',\n",
              " 'startswith',\n",
              " 'strip',\n",
              " 'swapcase',\n",
              " 'title',\n",
              " 'translate',\n",
              " 'upper',\n",
              " 'zfill']"
            ]
          },
          "metadata": {
            "tags": []
          },
          "execution_count": 6
        }
      ]
    },
    {
      "cell_type": "code",
      "metadata": {
        "id": "lnpa-DaFnsy6",
        "colab_type": "code",
        "outputId": "ff7f6c6a-fdfa-45cf-9581-bcaff4c75cd8",
        "colab": {
          "base_uri": "https://localhost:8080/",
          "height": 35
        }
      },
      "source": [
        "s=\"ABCabc123\"\n",
        "u=0\n",
        "l=0\n",
        "d=0\n",
        "for i in s:\n",
        "      if i.isupper():\n",
        "        u+=1\n",
        "      elif i.islower():\n",
        "        l+=1\n",
        "      elif i.isdigit():\n",
        "        d+=1\n",
        "print(\"uppercase:\",u,\"lowercase:\",l,\"digit:\",d)          \n",
        "    \n",
        "\n",
        "\n"
      ],
      "execution_count": 0,
      "outputs": [
        {
          "output_type": "stream",
          "text": [
            "uppercase: 3 lowercase: 3 digit: 3\n"
          ],
          "name": "stdout"
        }
      ]
    },
    {
      "cell_type": "code",
      "metadata": {
        "id": "ruo6sJr2qf3X",
        "colab_type": "code",
        "outputId": "4b0f5218-32db-4d70-ab31-af714e09f635",
        "colab": {
          "base_uri": "https://localhost:8080/",
          "height": 52
        }
      },
      "source": [
        "# count the number of vowels and consonants\n",
        "#membership operators are \"in\" and \"not in\"\n",
        "s=input()\n",
        "vowels=\"aeiouAEIOU\"\n",
        "v=0\n",
        "c=0\n",
        "for i in s:\n",
        "  if(i in vowels):\n",
        "    v+=1\n",
        "  else:\n",
        "    c+=1\n",
        "print(\"vowels:\",v,\"consonants:\",c)    \n"
      ],
      "execution_count": 0,
      "outputs": [
        {
          "output_type": "stream",
          "text": [
            "abcABC\n",
            "vowels: 2 consonants: 4\n"
          ],
          "name": "stdout"
        }
      ]
    },
    {
      "cell_type": "code",
      "metadata": {
        "id": "7ZTTVE-u2s2U",
        "colab_type": "code",
        "outputId": "af648a18-1a28-4dcd-b887-5894371e052e",
        "colab": {
          "base_uri": "https://localhost:8080/",
          "height": 139
        }
      },
      "source": [
        "s1=input(\"enter string1\")#bad\n",
        "s2=input(\"enter string2\")#water\n",
        "if(len(s1)==len(s2)):\n",
        "  for i in range(len(s1)):\n",
        "    print(s1[i],s2[i])\n",
        "elif(len(s1)<len(s2)):\n",
        "  for i in range(len(s1)):\n",
        "    print(s1[i],s2[i])\n",
        "  for i in range(len(s1),len(s2)):\n",
        "    print(\"*\",s2[i])      "
      ],
      "execution_count": 0,
      "outputs": [
        {
          "output_type": "stream",
          "text": [
            "enter string1bad\n",
            "enter string2water\n",
            "b w\n",
            "a a\n",
            "d t\n",
            "* e\n",
            "* r\n"
          ],
          "name": "stdout"
        }
      ]
    }
  ]
}