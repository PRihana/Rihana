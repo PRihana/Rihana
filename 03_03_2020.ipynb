{
  "nbformat": 4,
  "nbformat_minor": 0,
  "metadata": {
    "colab": {
      "name": "03-03-2020.ipynb",
      "provenance": [],
      "authorship_tag": "ABX9TyNckPpedqooM1PakxrWgDng",
      "include_colab_link": true
    },
    "kernelspec": {
      "name": "python3",
      "display_name": "Python 3"
    }
  },
  "cells": [
    {
      "cell_type": "markdown",
      "metadata": {
        "id": "view-in-github",
        "colab_type": "text"
      },
      "source": [
        "<a href=\"https://colab.research.google.com/github/PRihana/Rihana/blob/master/03_03_2020.ipynb\" target=\"_parent\"><img src=\"https://colab.research.google.com/assets/colab-badge.svg\" alt=\"Open In Colab\"/></a>"
      ]
    },
    {
      "cell_type": "code",
      "metadata": {
        "id": "ancy_CksywDb",
        "colab_type": "code",
        "colab": {}
      },
      "source": [
        ""
      ],
      "execution_count": 0,
      "outputs": []
    },
    {
      "cell_type": "markdown",
      "metadata": {
        "id": "JVfMBbG1zHO0",
        "colab_type": "text"
      },
      "source": [
        "## Buit in functions in string mostly used"
      ]
    },
    {
      "cell_type": "markdown",
      "metadata": {
        "id": "qlxfAsPgL0qB",
        "colab_type": "text"
      },
      "source": [
        "find\n",
        "\n",
        "isalpha\n",
        "\n",
        "isalnum\n",
        "\n",
        "replace\n",
        "\n",
        "count\n",
        "\n",
        "isupper\n",
        "\n",
        "islower\n",
        "\n",
        "lower\n",
        "\n",
        "upper\n",
        "\n",
        "split\n",
        "\n",
        "swap\n",
        "\n",
        "isnumeric\n",
        "\n",
        "isdigit"
      ]
    },
    {
      "cell_type": "code",
      "metadata": {
        "id": "Vyy0GXDI0KFU",
        "colab_type": "code",
        "outputId": "ff447051-a1b7-4e69-bdcd-a096236a9a61",
        "colab": {
          "base_uri": "https://localhost:8080/",
          "height": 156
        }
      },
      "source": [
        "s1=\"abc xyz\"\n",
        "s2=\"xyz\"\n",
        "print(s1.find(s2))\n",
        "print(s1.find(\"uvw\"))\n",
        "print(s1.isalpha())#False\n",
        "print(s2.isalpha())#False\n",
        "print(s1.isalnum())#False\n",
        "print(s2.isalnum())#True\n",
        "print(s1.swapcase())#ABC XYZ\n",
        "print(s1.split())#default value is space\n",
        "list1=s2.split(\",\")\n"
      ],
      "execution_count": 0,
      "outputs": [
        {
          "output_type": "stream",
          "text": [
            "4\n",
            "-1\n",
            "False\n",
            "True\n",
            "False\n",
            "True\n",
            "ABC XYZ\n",
            "['abc', 'xyz']\n"
          ],
          "name": "stdout"
        }
      ]
    },
    {
      "cell_type": "code",
      "metadata": {
        "id": "23eP_TtO4hsZ",
        "colab_type": "code",
        "outputId": "d1269815-1cc9-4d63-d3c3-a392112ba0e3",
        "colab": {
          "base_uri": "https://localhost:8080/",
          "height": 139
        }
      },
      "source": [
        "s1=input(\"enter string1\")#bad\n",
        "s2=input(\"enter string2\")#water\n",
        "if(len(s1)==len(s2)):\n",
        "  for i in range(len(s1)):\n",
        "    print(s1[i],s2[i])\n",
        "elif(len(s1)<len(s2)):\n",
        "  for i in range(len(s1)):\n",
        "    print(s1[i],s2[i])\n",
        "  for i in range(len(s1),len(s2)):\n",
        "    print(\"*\",s2[i]) "
      ],
      "execution_count": 0,
      "outputs": [
        {
          "output_type": "stream",
          "text": [
            "enter string1bad\n",
            "enter string2water\n",
            "b w\n",
            "a a\n",
            "d t\n",
            "* e\n",
            "* r\n"
          ],
          "name": "stdout"
        }
      ]
    },
    {
      "cell_type": "code",
      "metadata": {
        "id": "SNXjg34h4p5l",
        "colab_type": "code",
        "outputId": "feddf28d-8c0d-437c-857d-56a4f2e27717",
        "colab": {
          "base_uri": "https://localhost:8080/",
          "height": 139
        }
      },
      "source": [
        "s1=input(\"enter string1\")#bad\n",
        "s2=input(\"enter string2\")#water\n",
        "if(len(s1)==len(s2)):\n",
        "  for i in range(len(s1)):\n",
        "    print(s1[i],s2[i])\n",
        "elif(len(s1)<len(s2)):\n",
        "  for i in range(len(s1)):\n",
        "    print(s1[i],s2[i])\n",
        "  for i in range(len(s1),len(s2)):\n",
        "    print(\"*\",s2[i])\n",
        "else:\n",
        "  for i in range(len(s2)):\n",
        "    print(s1[i],s2[i])\n",
        "  for i in range(len(s2),len(s1)):\n",
        "    print(s1[i],\"*\")    "
      ],
      "execution_count": 76,
      "outputs": [
        {
          "output_type": "stream",
          "text": [
            "enter string1water\n",
            "enter string2bad\n",
            "w b\n",
            "a a\n",
            "t d\n",
            "e *\n",
            "r *\n"
          ],
          "name": "stdout"
        }
      ]
    },
    {
      "cell_type": "code",
      "metadata": {
        "id": "XpAvUiDW6Z6z",
        "colab_type": "code",
        "outputId": "075feddf-e76f-45d3-a5e1-9c230df31fa6",
        "colab": {
          "base_uri": "https://localhost:8080/",
          "height": 139
        }
      },
      "source": [
        "s1=input(\"enter string1\")#bad\n",
        "s2=input(\"enter string2\")#water\n",
        "if(len(s1)<len(s2)):\n",
        "    diff=len(s2)-len(s1)\n",
        "    s1=s1+\"*\"*diff\n",
        "elif len(s1)>len(s2):\n",
        "  diff=len(s1)-len(s2)\n",
        "  s2=s2+\"*\"*diff\n",
        "for i in range(len(s1)):\n",
        "  print(s1[i],s2[i])      "
      ],
      "execution_count": 0,
      "outputs": [
        {
          "output_type": "stream",
          "text": [
            "enter string1bad\n",
            "enter string2water\n",
            "b w\n",
            "a a\n",
            "d t\n",
            "* e\n",
            "* r\n"
          ],
          "name": "stdout"
        }
      ]
    },
    {
      "cell_type": "code",
      "metadata": {
        "id": "W31xNyWf8AuC",
        "colab_type": "code",
        "outputId": "e6ff7d2b-b530-4e6e-eee6-b35ff38de990",
        "colab": {
          "base_uri": "https://localhost:8080/",
          "height": 52
        }
      },
      "source": [
        "#input:orange\n",
        "#output:puboif\n",
        "s=input(\"enter a string\")\n",
        "vowels=\"aeiouAEIOU\"\n",
        "for i in s:\n",
        "  if (i in vowels):\n",
        "    print(chr(ord(i)+1),end=\"\")\n",
        "  else:\n",
        "    if(i>'a' and i<'e'):\n",
        "      print('e',end=\"\")\n",
        "    elif(i>'e' and i<'i'):\n",
        "      print('i',end=\"\")\n",
        "    elif(i>'i' and i<'o'):\n",
        "      print('o',end=\"\")\n",
        "    elif(i>'o' and i<'u'):\n",
        "      print('u',end=\"\")\n",
        "    elif(i>'u' and i<='z'):\n",
        "      print('a')          "
      ],
      "execution_count": 0,
      "outputs": [
        {
          "output_type": "stream",
          "text": [
            "enter a stringorange\n",
            "puboif"
          ],
          "name": "stdout"
        }
      ]
    },
    {
      "cell_type": "markdown",
      "metadata": {
        "id": "iIuT1-Z_AdFO",
        "colab_type": "text"
      },
      "source": [
        "## operators:\n",
        "\n"
      ]
    },
    {
      "cell_type": "code",
      "metadata": {
        "id": "abLc8aJwBn3q",
        "colab_type": "code",
        "colab": {
          "base_uri": "https://localhost:8080/",
          "height": 139
        },
        "outputId": "b0f618fe-117b-4b43-bd85-e26928b5c147"
      },
      "source": [
        "#1.Arithmetic operator:+,-,*,/,%,//(floor division),**exponent\n",
        "x=10\n",
        "y=20\n",
        "print(x+y)\n",
        "print(x-y)\n",
        "print(x*y)\n",
        "print(x/y)\n",
        "print(x%y)\n",
        "print(x//y)\n",
        "print(x**y)#10^20\n"
      ],
      "execution_count": 73,
      "outputs": [
        {
          "output_type": "stream",
          "text": [
            "30\n",
            "-10\n",
            "200\n",
            "0.5\n",
            "10\n",
            "0\n",
            "100000000000000000000\n"
          ],
          "name": "stdout"
        }
      ]
    },
    {
      "cell_type": "code",
      "metadata": {
        "id": "pXj3VPucAZw-",
        "colab_type": "code",
        "colab": {
          "base_uri": "https://localhost:8080/",
          "height": 104
        },
        "outputId": "4ad14215-665d-43d0-b6da-ca653404c948"
      },
      "source": [
        "#2.relational operator\n",
        "x=10\n",
        "y=20\n",
        "print(x<y)\n",
        "print(x>y)\n",
        "print(x<=y)\n",
        "print(x>=y)\n",
        "print(x!=y)"
      ],
      "execution_count": 74,
      "outputs": [
        {
          "output_type": "stream",
          "text": [
            "True\n",
            "False\n",
            "True\n",
            "False\n",
            "True\n"
          ],
          "name": "stdout"
        }
      ]
    },
    {
      "cell_type": "code",
      "metadata": {
        "id": "kNXHbeQpB6zo",
        "colab_type": "code",
        "outputId": "9906352e-3b02-461d-f888-67cd205b634d",
        "colab": {
          "base_uri": "https://localhost:8080/",
          "height": 69
        }
      },
      "source": [
        "#3.Logical operators:and,or,not\n",
        "print(x<y and x<5)\n",
        "print(x<y or x<5)\n",
        "print(not x<y)"
      ],
      "execution_count": 75,
      "outputs": [
        {
          "output_type": "stream",
          "text": [
            "False\n",
            "True\n",
            "False\n"
          ],
          "name": "stdout"
        }
      ]
    },
    {
      "cell_type": "code",
      "metadata": {
        "id": "FLAwEoJBClc3",
        "colab_type": "code",
        "outputId": "22e18111-1844-4aa9-ea41-75889f9d4c36",
        "colab": {
          "base_uri": "https://localhost:8080/",
          "height": 35
        }
      },
      "source": [
        "#4.Assignment operators:=,+=,-=,*=,/=,%=,//=,**=\n",
        "x=10\n",
        "y=20\n",
        "x+=10 # = x+10\n",
        "print(x)"
      ],
      "execution_count": 0,
      "outputs": [
        {
          "output_type": "stream",
          "text": [
            "20\n"
          ],
          "name": "stdout"
        }
      ]
    },
    {
      "cell_type": "code",
      "metadata": {
        "id": "wkP0PCcTDLD0",
        "colab_type": "code",
        "outputId": "2f10ef74-d9e4-4351-c3fa-61c207498b09",
        "colab": {
          "base_uri": "https://localhost:8080/",
          "height": 121
        }
      },
      "source": [
        "#5.Bit-wise operators:&,/,^,~,<<,>>\n",
        "x=10 #0000 1010\n",
        "y=20 #0001 0100\n",
        "print(x & y)#000 000 \n",
        "print(x | y)#0001 1110\n",
        "print(x ^ y)#0010 1110\n",
        "print(x<<2)#0010 1000\n",
        "print(x>>2)#0000 0010\n",
        "print(~x)"
      ],
      "execution_count": 0,
      "outputs": [
        {
          "output_type": "stream",
          "text": [
            "0\n",
            "30\n",
            "30\n",
            "40\n",
            "2\n",
            "-11\n"
          ],
          "name": "stdout"
        }
      ]
    },
    {
      "cell_type": "code",
      "metadata": {
        "id": "tlVS9dWsFFfh",
        "colab_type": "code",
        "outputId": "8726bd96-729d-49b3-9bbf-d1c0725eb3a5",
        "colab": {
          "base_uri": "https://localhost:8080/",
          "height": 87
        }
      },
      "source": [
        "#6.membership operators:in,not in\n",
        "s=\"python\"\n",
        "print('z' in s)\n",
        "print('t' in s)\n",
        "print('z' not in s)\n",
        "print('t' not in s)"
      ],
      "execution_count": 0,
      "outputs": [
        {
          "output_type": "stream",
          "text": [
            "False\n",
            "True\n",
            "True\n",
            "False\n"
          ],
          "name": "stdout"
        }
      ]
    },
    {
      "cell_type": "code",
      "metadata": {
        "id": "fVf4VrUoFo6I",
        "colab_type": "code",
        "outputId": "e86cf297-5222-4026-f720-fa3af75f6145",
        "colab": {
          "base_uri": "https://localhost:8080/",
          "height": 87
        }
      },
      "source": [
        "\n",
        "#7.identity oprator:is,is not\n",
        "x=10\n",
        "y=20\n",
        "z=10\n",
        "print(x is z)#id(x==id(z)-->True)\n",
        "print(x is y)\n",
        "print(x is not z)\n",
        "print(x is not y)"
      ],
      "execution_count": 0,
      "outputs": [
        {
          "output_type": "stream",
          "text": [
            "True\n",
            "False\n",
            "False\n",
            "True\n"
          ],
          "name": "stdout"
        }
      ]
    },
    {
      "cell_type": "code",
      "metadata": {
        "id": "3p_YoIhQGvcv",
        "colab_type": "code",
        "outputId": "10f7118b-2579-4056-c9f8-1d1df73d6102",
        "colab": {
          "base_uri": "https://localhost:8080/",
          "height": 52
        }
      },
      "source": [
        "#8.Traditional way\n",
        "x=10\n",
        "y=20\n",
        "if(x>y):\n",
        "  priny(x)\n",
        "else:\n",
        "  print(y)\n",
        "#Ternary operator\n",
        "print(x) if(x>y) else print(y) \n",
        "\n"
      ],
      "execution_count": 0,
      "outputs": [
        {
          "output_type": "stream",
          "text": [
            "20\n",
            "20\n"
          ],
          "name": "stdout"
        }
      ]
    },
    {
      "cell_type": "code",
      "metadata": {
        "id": "34WMzZxqH66y",
        "colab_type": "code",
        "colab": {}
      },
      "source": [
        "#condiyional control statements:if,else,elif\n",
        "Accept 3 subject marks of a student and check whether student got minimum 30 marks in all subjects or not\n",
        "if he gets minimum 30 in all subjects or not\n",
        "if he gets minimum 30 in all sujects then find average marks else print FAIL.\n",
        "avg>=75-->A\n",
        "avg<75 and avg>=60-->B\n",
        "avg<60 and avg>=45-->c\n",
        "avg<45 and avg>=30-->D \n",
        "else FAIL\n"
      ],
      "execution_count": 0,
      "outputs": []
    },
    {
      "cell_type": "code",
      "metadata": {
        "id": "-d_TwD9uJz6h",
        "colab_type": "code",
        "outputId": "5b414e39-3138-4bf3-f7b8-01975f692736",
        "colab": {
          "base_uri": "https://localhost:8080/",
          "height": 87
        }
      },
      "source": [
        "s1=int(input(\"enter sub1 marks\"))\n",
        "s2=int(input(\"enter sub2 marks\"))\n",
        "s3=int(input(\"enter sub3 marks\"))\n",
        "if(s1>30 and s2>30 and s3>30):\n",
        "   avg=(s1+s2+s3)/3 \n",
        "   if(avg >=75):\n",
        "    print(\"grade =A\")\n",
        "   elif (avg<75 and avg>=60):\n",
        "    print(\"grade =B\")\n",
        "   elif (avg<60 and avg>=45):\n",
        "    print(\"grade =C\")\n",
        "   elif (avg<45 and avg>=30):\n",
        "    print(\"grade =D\")  \n",
        "   else:\n",
        "    print(\"FAIL\")  \n",
        "else:\n",
        "  print(\"FAIL\")\n",
        "     \n",
        "\n"
      ],
      "execution_count": 0,
      "outputs": [
        {
          "output_type": "stream",
          "text": [
            "enter sub1 marks30\n",
            "enter sub2 marks50\n",
            "enter sub3 marks8\n",
            "FAIL\n"
          ],
          "name": "stdout"
        }
      ]
    },
    {
      "cell_type": "code",
      "metadata": {
        "id": "jRhSR4qEdCas",
        "colab_type": "code",
        "outputId": "1b3c629f-b6fa-440b-d8d4-81344721acca",
        "colab": {
          "base_uri": "https://localhost:8080/",
          "height": 52
        }
      },
      "source": [
        "#Loops:while,for\n",
        "i=1\n",
        "n=int(input(\"enter a value\"))\n",
        "while i<=n:\n",
        "  print(i,end=\" \")\n",
        "  i+=1\n",
        "for i in range(1,n+1,1):\n",
        "  print(i,end=\" \")\n",
        "\n"
      ],
      "execution_count": 0,
      "outputs": [
        {
          "output_type": "stream",
          "text": [
            "enter a value10\n",
            "1 2 3 4 5 6 7 8 9 10 1 2 3 4 5 6 7 8 9 10 "
          ],
          "name": "stdout"
        }
      ]
    },
    {
      "cell_type": "code",
      "metadata": {
        "id": "PF1NBVOSeRZF",
        "colab_type": "code",
        "outputId": "319a350f-c81e-488c-934d-035989f61428",
        "colab": {
          "base_uri": "https://localhost:8080/",
          "height": 104
        }
      },
      "source": [
        "#Accept a string as an input and print all the characters of the \n",
        "#string without using len() and using while loop\n",
        "s=input(\"enter a string\")\n",
        "l = 0#length of string\n",
        "j = 0\n",
        "for i in s:#counting for number of characters for string\n",
        "  l+=1\n",
        "while j<l:#printing characters\n",
        "  print(s[j])\n",
        "  j+=1  \n"
      ],
      "execution_count": 0,
      "outputs": [
        {
          "output_type": "stream",
          "text": [
            "enter a stringabcd\n",
            "a\n",
            "b\n",
            "c\n",
            "d\n"
          ],
          "name": "stdout"
        }
      ]
    },
    {
      "cell_type": "code",
      "metadata": {
        "id": "xKOwvtvyiOZB",
        "colab_type": "code",
        "outputId": "268c8ae5-7601-441f-db25-f64d1f24b9d5",
        "colab": {
          "base_uri": "https://localhost:8080/",
          "height": 52
        }
      },
      "source": [
        "#Accept a string as an input and check whether the string is \n",
        "#palindrome or not\n",
        "#input:madam\n",
        "#output:palindrome\n",
        "s=input(\"enter a string\")\n",
        "print(\"palindrome\") if s==s[::-1] else print(\"not palindrome\")"
      ],
      "execution_count": 0,
      "outputs": [
        {
          "output_type": "stream",
          "text": [
            "enter a stringmadam\n",
            "palindrome\n"
          ],
          "name": "stdout"
        }
      ]
    },
    {
      "cell_type": "code",
      "metadata": {
        "id": "KK5L_zpbjut9",
        "colab_type": "code",
        "outputId": "203b6100-32f4-4d05-c0cb-b4d051d42995",
        "colab": {
          "base_uri": "https://localhost:8080/",
          "height": 52
        }
      },
      "source": [
        "n=int(input(\"enter a number\"))\n",
        "print(\"palindrome\") if(str(n)==str(n)[::-1]) else print(\"not palindrome\")"
      ],
      "execution_count": 0,
      "outputs": [
        {
          "output_type": "stream",
          "text": [
            "enter a number121\n",
            "palindrome\n"
          ],
          "name": "stdout"
        }
      ]
    },
    {
      "cell_type": "code",
      "metadata": {
        "id": "1N7HJ-Z183wG",
        "colab_type": "code",
        "outputId": "246e0907-56e7-4ed0-c677-fa90b0635146",
        "colab": {
          "base_uri": "https://localhost:8080/",
          "height": 381
        }
      },
      "source": [
        "#Accept a number as an input and print given number table\n",
        "n=int(input(\"enter a number:\"))\n",
        "for i in range(1,11):\n",
        "  print(n,\"*\",i,'=',n*i)\n",
        "  print(\"%d * %d = %d\"%(n,i,n*i))"
      ],
      "execution_count": 77,
      "outputs": [
        {
          "output_type": "stream",
          "text": [
            "enter a number:5\n",
            "5 * 1 = 5\n",
            "5 * 1 = 5\n",
            "5 * 2 = 10\n",
            "5 * 2 = 10\n",
            "5 * 3 = 15\n",
            "5 * 3 = 15\n",
            "5 * 4 = 20\n",
            "5 * 4 = 20\n",
            "5 * 5 = 25\n",
            "5 * 5 = 25\n",
            "5 * 6 = 30\n",
            "5 * 6 = 30\n",
            "5 * 7 = 35\n",
            "5 * 7 = 35\n",
            "5 * 8 = 40\n",
            "5 * 8 = 40\n",
            "5 * 9 = 45\n",
            "5 * 9 = 45\n",
            "5 * 10 = 50\n",
            "5 * 10 = 50\n"
          ],
          "name": "stdout"
        }
      ]
    },
    {
      "cell_type": "code",
      "metadata": {
        "id": "RMiZYrV_9lk2",
        "colab_type": "code",
        "outputId": "e17b5352-16bf-4c6a-d054-993ee8752e9c",
        "colab": {
          "base_uri": "https://localhost:8080/",
          "height": 104
        }
      },
      "source": [
        "#Accept a number as an input and print the output in the following \n",
        "n=int(input())\n",
        "for i in range(1,n+1):\n",
        "  if(i%3==0 and i%5==0):\n",
        "   print(\"fizzbuzz\")\n",
        "  elif(i%5==0):\n",
        "   print(\"buzz\")\n",
        "  elif(i%3==0):\n",
        "   print(\"fizz\")\n",
        "  else:\n",
        "   print(i)        \n",
        "\n"
      ],
      "execution_count": 0,
      "outputs": [
        {
          "output_type": "stream",
          "text": [
            "4\n",
            "1\n",
            "2\n",
            "fizz\n",
            "4\n"
          ],
          "name": "stdout"
        }
      ]
    },
    {
      "cell_type": "code",
      "metadata": {
        "id": "UnhNsWq0DHzU",
        "colab_type": "code",
        "colab": {}
      },
      "source": [
        "#Questions:\n",
        " 1.Accept a number and check whether it is a prime or not\n",
        " 2.print the count of prime numbers in the given range\n",
        " 3.Accept a number and check whether it is perfect number or not\n",
        "    explanation:6-->1,2,3=1+2+3=6\n",
        " 4.Accept a number and check whether it is Armstrong number or not   \n",
        "    explanation:153-->1^3+5^3+3^3"
      ],
      "execution_count": 0,
      "outputs": []
    }
  ]
}