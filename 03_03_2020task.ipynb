{
  "nbformat": 4,
  "nbformat_minor": 0,
  "metadata": {
    "colab": {
      "name": "03-03-2020task.ipynb",
      "provenance": [],
      "authorship_tag": "ABX9TyPDucYEPyTt7TTA8JiygxMF",
      "include_colab_link": true
    },
    "kernelspec": {
      "name": "python3",
      "display_name": "Python 3"
    }
  },
  "cells": [
    {
      "cell_type": "markdown",
      "metadata": {
        "id": "view-in-github",
        "colab_type": "text"
      },
      "source": [
        "<a href=\"https://colab.research.google.com/github/PRihana/Rihana/blob/master/03_03_2020task.ipynb\" target=\"_parent\"><img src=\"https://colab.research.google.com/assets/colab-badge.svg\" alt=\"Open In Colab\"/></a>"
      ]
    },
    {
      "cell_type": "code",
      "metadata": {
        "id": "jNRveNvGH40y",
        "colab_type": "code",
        "colab": {}
      },
      "source": [
        "#Questions:\n",
        " 1.Accept a number and check whether it is a prime or not\n",
        " 2.print the count of prime numbers in the given range\n",
        " 3.Accept a number and check whether it is perfect number or not\n",
        "    explanation:6-->1,2,3=1+2+3=6\n",
        " 4.Accept a number and check whether it is Armstrong number or not   \n",
        "    explanation:153-->1^3+5^3+3^3\n",
        " 5.find the factorial of a given number\n",
        " 6.Accept a number and check whether it is strong number or not \n",
        "    explanation:145=1!+4!+5!=1+24+120=145\n",
        " 7.Accept a number and check whether it is Adam number or not\n",
        "    explanation:12-->12^2=144\n",
        "    21^21=441\n",
        "    reverse(144)=441\n",
        " 8.print all the palindrome numbers in the given range   \n"
      ],
      "execution_count": 0,
      "outputs": []
    },
    {
      "cell_type": "code",
      "metadata": {
        "id": "s0r4gnGt7n8C",
        "colab_type": "code",
        "colab": {
          "base_uri": "https://localhost:8080/",
          "height": 52
        },
        "outputId": "d921dec6-e194-41ba-f0e9-18f0f062bf71"
      },
      "source": [
        "#5.factorial\n",
        "n=int(input(\"enter any number:\"))\n",
        "fact=1\n",
        "for i in range(1,n+1):\n",
        "  fact=fact*i\n",
        "print(\"the factorial of number is:\",end=\" \") \n",
        "print(fact) "
      ],
      "execution_count": 3,
      "outputs": [
        {
          "output_type": "stream",
          "text": [
            "enter any number:5\n",
            "the factorial of number is: 120\n"
          ],
          "name": "stdout"
        }
      ]
    },
    {
      "cell_type": "code",
      "metadata": {
        "id": "1Za3Wy4d8ddm",
        "colab_type": "code",
        "colab": {
          "base_uri": "https://localhost:8080/",
          "height": 52
        },
        "outputId": "f2fc3d93-165e-42cd-b204-81d63cd0eed6"
      },
      "source": [
        "#3.perfect number or not\n",
        "n=int(input(\"enter any number:\"))\n",
        "sum1=0\n",
        "for i in range(1,n):\n",
        "  if(n%i==0):\n",
        "    sum1=sum1+i\n",
        "if (sum1==n):\n",
        "  print(\"the number is a perfect number\")\n",
        "else:\n",
        "  print(\"the number is not a perfect number\")    \n",
        "    \n",
        "\n",
        "\n"
      ],
      "execution_count": 4,
      "outputs": [
        {
          "output_type": "stream",
          "text": [
            "enter any number:6\n",
            "the number is a perfect number\n"
          ],
          "name": "stdout"
        }
      ]
    },
    {
      "cell_type": "code",
      "metadata": {
        "id": "EEsRIpU09ymo",
        "colab_type": "code",
        "colab": {
          "base_uri": "https://localhost:8080/",
          "height": 52
        },
        "outputId": "3023020f-eed1-4138-a486-521746457075"
      },
      "source": [
        "#4.Armstrong number or not\n",
        "n=int(input(\"enter a number:\"))\n",
        "sum=0\n",
        "temp=n\n",
        "while temp>0:\n",
        "  digit=temp%10\n",
        "  sum+=digit**3\n",
        "  temp//=10\n",
        "if n==sum:\n",
        "  print(n,\"is an armstrong number\")\n",
        "else:\n",
        "  print(n,\"is not an armstrong number\")  \n"
      ],
      "execution_count": 7,
      "outputs": [
        {
          "output_type": "stream",
          "text": [
            "enter  number:153\n",
            "153 is an armstrong number\n"
          ],
          "name": "stdout"
        }
      ]
    },
    {
      "cell_type": "code",
      "metadata": {
        "id": "oQmhcYdy_JH2",
        "colab_type": "code",
        "colab": {
          "base_uri": "https://localhost:8080/",
          "height": 52
        },
        "outputId": "52cbb311-72d0-4276-b0f1-0694f91bc586"
      },
      "source": [
        "#7.Adam number\n",
        "n=int(input())\n",
        "n1=n**2\n",
        "s=int(str(n)[::-1])**2\n",
        "s2=int(str(s)[::-1])\n",
        "print(\"Adam number\") if s2==n1 else print(\"not an Adam number\")\n"
      ],
      "execution_count": 12,
      "outputs": [
        {
          "output_type": "stream",
          "text": [
            "12\n",
            "Adam number\n"
          ],
          "name": "stdout"
        }
      ]
    },
    {
      "cell_type": "code",
      "metadata": {
        "id": "J2SstE9NBUiO",
        "colab_type": "code",
        "colab": {
          "base_uri": "https://localhost:8080/",
          "height": 243
        },
        "outputId": "d96f08c8-d21a-4a55-fb1b-e7f4bd256a54"
      },
      "source": [
        "#2.count prime numbers in given range\n",
        "lower=int(input(\"enter lower range:\"))\n",
        "upper=int(input(\"enter upper range:\"))\n",
        "for num in range(lower,upper +1):\n",
        "  if num>=1:\n",
        "    for i in range(2,num):\n",
        "      if(num%i)==0:\n",
        "        break\n",
        "    else:\n",
        "      print(num)    "
      ],
      "execution_count": 13,
      "outputs": [
        {
          "output_type": "stream",
          "text": [
            "enter lower range:10\n",
            "enter upper range:50\n",
            "11\n",
            "13\n",
            "17\n",
            "19\n",
            "23\n",
            "29\n",
            "31\n",
            "37\n",
            "41\n",
            "43\n",
            "47\n"
          ],
          "name": "stdout"
        }
      ]
    },
    {
      "cell_type": "code",
      "metadata": {
        "id": "MuwKTCTSCqFj",
        "colab_type": "code",
        "colab": {
          "base_uri": "https://localhost:8080/",
          "height": 225
        },
        "outputId": "5fc497b6-b023-41cb-fda4-769f90200f84"
      },
      "source": [
        "#1.prime number or not\n",
        "num=int(input(\"enter a number:\"))\n",
        "if num>1:\n",
        "  for i in range(2,num):\n",
        "    if(num%i)==0:\n",
        "      print(num,\"is not a prime number\")\n",
        "      break\n",
        "    else:\n",
        "      print(num,\"is  a prime number\") \n",
        "else:\n",
        "   print(num,\"is not a prime number\")       "
      ],
      "execution_count": 19,
      "outputs": [
        {
          "output_type": "stream",
          "text": [
            "enter a number:13\n",
            "13 is  a prime number\n",
            "13 is  a prime number\n",
            "13 is  a prime number\n",
            "13 is  a prime number\n",
            "13 is  a prime number\n",
            "13 is  a prime number\n",
            "13 is  a prime number\n",
            "13 is  a prime number\n",
            "13 is  a prime number\n",
            "13 is  a prime number\n",
            "13 is  a prime number\n"
          ],
          "name": "stdout"
        }
      ]
    },
    {
      "cell_type": "code",
      "metadata": {
        "id": "A2yAVwLOEdau",
        "colab_type": "code",
        "colab": {
          "base_uri": "https://localhost:8080/",
          "height": 52
        },
        "outputId": "83a48772-7801-44df-a705-b35f257c37f4"
      },
      "source": [
        "#6.strong number or not\n",
        "sum1=0\n",
        "n=int(input(\"enter a number:\"))\n",
        "temp=num\n",
        "while(num):\n",
        "  i=1\n",
        "  f=1\n",
        "  r=num%10\n",
        "  while(i<=r):\n",
        "     f=f*i\n",
        "     i=i+1\n",
        "  sum1=sum1+f\n",
        "  num=num//10\n",
        "if(sum1==temp):\n",
        "  print(\"the number is a strong number\")  \n",
        "else:\n",
        "  print(\"the number is not a strong number\")"
      ],
      "execution_count": 22,
      "outputs": [
        {
          "output_type": "stream",
          "text": [
            "enter a number:145\n",
            "the number is a strong number\n"
          ],
          "name": "stdout"
        }
      ]
    }
  ]
}