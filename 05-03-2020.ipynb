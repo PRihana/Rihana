{
 "cells": [
  {
   "cell_type": "code",
   "execution_count": 1,
   "metadata": {},
   "outputs": [
    {
     "name": "stdout",
     "output_type": "stream",
     "text": [
      "enter a number:5\n",
      "odd\n"
     ]
    }
   ],
   "source": [
    "#1.Check if the input number is even or odd.\n",
    "num = int(input(\"enter a number:\"))\n",
    "if (num % 2) == 0:\n",
    "    print(\"even\")\n",
    "else:\n",
    "    print(\"odd\")\n"
   ]
  },
  {
   "cell_type": "code",
   "execution_count": 5,
   "metadata": {},
   "outputs": [
    {
     "name": "stdout",
     "output_type": "stream",
     "text": [
      "enter a number:1\n",
      "enter a number:2\n",
      "3\n"
     ]
    }
   ],
   "source": [
    "#2.Print the addition, subtraction, multiplication, division and biggest number.\n",
    "#addition\n",
    "n1 = int(input(\"enter a number:\"))\n",
    "n2 = int(input(\"enter a number:\"))\n",
    "c=n1+n2\n",
    "print(c)\n"
   ]
  },
  {
   "cell_type": "code",
   "execution_count": 6,
   "metadata": {},
   "outputs": [
    {
     "name": "stdout",
     "output_type": "stream",
     "text": [
      "enter a number:1\n",
      "enter a number:2\n",
      "-1\n"
     ]
    }
   ],
   "source": [
    "#substaction\n",
    "n1 = int(input(\"enter a number:\"))\n",
    "n2 = int(input(\"enter a number:\"))\n",
    "c=n1-n2\n",
    "print(c)"
   ]
  },
  {
   "cell_type": "code",
   "execution_count": 7,
   "metadata": {},
   "outputs": [
    {
     "name": "stdout",
     "output_type": "stream",
     "text": [
      "enter a number:2\n",
      "enter a number:3\n",
      "6\n"
     ]
    }
   ],
   "source": [
    "#multiplication\n",
    "n1 = int(input(\"enter a number:\"))\n",
    "n2 = int(input(\"enter a number:\"))\n",
    "c=n1*n2\n",
    "print(c)"
   ]
  },
  {
   "cell_type": "code",
   "execution_count": 1,
   "metadata": {},
   "outputs": [
    {
     "name": "stdout",
     "output_type": "stream",
     "text": [
      "enter a number:2\n",
      "enter a number:4\n",
      "0.5\n"
     ]
    }
   ],
   "source": [
    "#division\n",
    "n1 = int(input(\"enter a number:\"))\n",
    "n2 = int(input(\"enter a number:\"))\n",
    "c=n1/n2\n",
    "print(c)"
   ]
  },
  {
   "cell_type": "code",
   "execution_count": 2,
   "metadata": {},
   "outputs": [
    {
     "name": "stdout",
     "output_type": "stream",
     "text": [
      "enter a number:1\n",
      "enter a number:2\n",
      "enter a number:3\n",
      "the largest number is 3\n"
     ]
    }
   ],
   "source": [
    "#biggest\n",
    "n1 = int(input(\"enter a number:\"))\n",
    "n2 = int(input(\"enter a number:\"))\n",
    "n3 = int(input(\"enter a number:\"))\n",
    "if (n1>n2) and (n1>n3):\n",
    "    largest=n1\n",
    "elif (n2>n1) and (n2>n3):\n",
    "    largest=n2\n",
    "else:\n",
    "    largest=n3\n",
    "print(\"the largest number is\",largest)"
   ]
  },
  {
   "cell_type": "code",
   "execution_count": null,
   "metadata": {},
   "outputs": [],
   "source": [
    "#3.Check if the given year is leap year"
   ]
  },
  {
   "cell_type": "code",
   "execution_count": 3,
   "metadata": {},
   "outputs": [
    {
     "name": "stdout",
     "output_type": "stream",
     "text": [
      "enter age:13\n",
      "not eligible for voting\n"
     ]
    }
   ],
   "source": [
    "#4.Read the age of the person and test whether the person is eligible for voting or not\n",
    "age = int(input(\"enter age:\"))\n",
    "print(\"eligible for voting\" if age > 18 else \"not eligible for voting\")"
   ]
  },
  {
   "cell_type": "code",
   "execution_count": 4,
   "metadata": {},
   "outputs": [
    {
     "name": "stdout",
     "output_type": "stream",
     "text": [
      "enter a number:23\n",
      "enter a number:45\n",
      "enter a number:67\n",
      "the largest number is 67\n"
     ]
    }
   ],
   "source": [
    "#5.Print greatest of three numbers.\n",
    "n1 = int(input(\"enter a number:\"))\n",
    "n2 = int(input(\"enter a number:\"))\n",
    "n3 = int(input(\"enter a number:\"))\n",
    "if (n1>n2) and (n1>n3):\n",
    "    largest=n1\n",
    "elif (n2>n1) and (n2>n3):\n",
    "    largest=n2\n",
    "else:\n",
    "    largest=n3\n",
    "print(\"the largest number is\",largest)"
   ]
  },
  {
   "cell_type": "code",
   "execution_count": 6,
   "metadata": {},
   "outputs": [
    {
     "name": "stdout",
     "output_type": "stream",
     "text": [
      "enter a number-4\n",
      "negative number\n"
     ]
    }
   ],
   "source": [
    "#6.Check the given is positive or negative.\n",
    "n=int(input(\"enter a number\"))\n",
    "if n > 0:\n",
    "    print(\"positive number\")\n",
    "else:\n",
    "    print(\"negative number\")"
   ]
  },
  {
   "cell_type": "code",
   "execution_count": 9,
   "metadata": {},
   "outputs": [
    {
     "ename": "SyntaxError",
     "evalue": "invalid syntax (<ipython-input-9-4db32537d60e>, line 3)",
     "output_type": "error",
     "traceback": [
      "\u001b[1;36m  File \u001b[1;32m\"<ipython-input-9-4db32537d60e>\"\u001b[1;36m, line \u001b[1;32m3\u001b[0m\n\u001b[1;33m    if d1=1:\u001b[0m\n\u001b[1;37m         ^\u001b[0m\n\u001b[1;31mSyntaxError\u001b[0m\u001b[1;31m:\u001b[0m invalid syntax\n"
     ]
    }
   ],
   "source": [
    "#7.Give Input week number and print the weekday.\n",
    "d =int(input(\"enter a number:\")\n",
    "if d1=1:\n",
    "       print(\"sunday\")\n",
    "elif d2=2:\n",
    "       print(\"monday\")\n",
    "elif d3=3:\n",
    "       print(\"tuesday\")\n",
    "elif d4=4:\n",
    "       print(\"wednesday\")\n",
    "elif d5=5:\n",
    "       print(\"thursday\")\n",
    "elif d6=6:\n",
    "       print(\"friday\")\n",
    "elif d7=7:\n",
    "       print(\"saturday\")\n",
    "else:\n",
    "       print(\"error\")\n",
    "       \n",
    "       "
   ]
  },
  {
   "cell_type": "code",
   "execution_count": 10,
   "metadata": {},
   "outputs": [
    {
     "name": "stdout",
     "output_type": "stream",
     "text": [
      "enter number6\n",
      "yes\n"
     ]
    }
   ],
   "source": [
    "#8.read the number as input and test whether the number is perfectly divisible by 2 and 3 but not 4.\n",
    "n = int(input(\"enter number\"))\n",
    "if n%2==0 and n%3==0 and n%4!=0:\n",
    "    print(\"yes\")\n",
    "else:\n",
    "    print(\"no\")"
   ]
  },
  {
   "cell_type": "code",
   "execution_count": 11,
   "metadata": {},
   "outputs": [
    {
     "name": "stdout",
     "output_type": "stream",
     "text": [
      "enter number6\n",
      "no\n"
     ]
    }
   ],
   "source": [
    "#9.Read the number as input and test whether the number is perfectly divisible by 3 and 5, If yes then print \"Yes\" otherwise print \"No\".\n",
    "n = int(input(\"enter number\"))\n",
    "if n%3==0 and n%5==0:\n",
    "    print(\"yes\")\n",
    "else:\n",
    "    print(\"no\")"
   ]
  },
  {
   "cell_type": "code",
   "execution_count": 12,
   "metadata": {},
   "outputs": [
    {
     "name": "stdout",
     "output_type": "stream",
     "text": [
      "enter a number:2\n",
      "enter a number:3\n",
      "enter a number:4\n",
      "the largest number is 4\n"
     ]
    }
   ],
   "source": [
    "#10.Read the 3 numbers as input and print the maximum number.\n",
    "n1 = int(input(\"enter a number:\"))\n",
    "n2 = int(input(\"enter a number:\"))\n",
    "n3 = int(input(\"enter a number:\"))\n",
    "if (n1>n2) and (n1>n3):\n",
    "    largest=n1\n",
    "elif (n2>n1) and (n2>n3):\n",
    "    largest=n2\n",
    "else:\n",
    "    largest=n3\n",
    "print(\"the largest number is\",largest)"
   ]
  },
  {
   "cell_type": "code",
   "execution_count": 13,
   "metadata": {},
   "outputs": [
    {
     "name": "stdout",
     "output_type": "stream",
     "text": [
      "enter a number:7\n",
      "the list of natural numbers from 1 to n\n",
      "1 2 3 4 5 6 7 "
     ]
    }
   ],
   "source": [
    "#11.read the Number N and Print the Natural Numbers from 1 to N\n",
    "n=int(input(\"enter a number:\"))\n",
    "print(\"the list of natural numbers from 1 to n\")\n",
    "for i in range(1,n+1):\n",
    "    print(i,end = \" \")"
   ]
  },
  {
   "cell_type": "code",
   "execution_count": 14,
   "metadata": {},
   "outputs": [
    {
     "name": "stdout",
     "output_type": "stream",
     "text": [
      "enter a number5\n",
      "the sum is 15\n"
     ]
    }
   ],
   "source": [
    "#12.Read the Number N and Print the Sum of N Natural numbers.\n",
    "n=int(input(\"enter a number\"))\n",
    "if n<0:\n",
    "    print(\"enter a number\")\n",
    "else:\n",
    "    sum=0\n",
    "    while(n>0):\n",
    "        sum+=n\n",
    "        n-=1\n",
    "    print(\"the sum is\",sum)"
   ]
  },
  {
   "cell_type": "code",
   "execution_count": 18,
   "metadata": {},
   "outputs": [
    {
     "name": "stdout",
     "output_type": "stream",
     "text": [
      "enter a number4\n",
      "only even numbers\n"
     ]
    }
   ],
   "source": [
    "#13.read the Number N and Print only Even numbers from 1 to N\n",
    "n=int(input(\"enter a number\"))\n",
    "if (n%2==0):\n",
    "    print(\"only even numbers\")\n",
    "    \n",
    "\n",
    "    \n",
    "    "
   ]
  },
  {
   "cell_type": "code",
   "execution_count": 34,
   "metadata": {},
   "outputs": [
    {
     "name": "stdout",
     "output_type": "stream",
     "text": [
      " Please Enter any Number: 6\n",
      " 6 is a Perfect Number\n"
     ]
    }
   ],
   "source": [
    "#18.Check if the given number is Perfect number.\n",
    "Number = int(input(\" Please Enter any Number: \"))\n",
    "Sum = 0\n",
    "for i in range(1, Number):\n",
    "    if(Number % i == 0):\n",
    "        Sum = Sum + i\n",
    "if (Sum == Number):\n",
    "    print(\" %d is a Perfect Number\" %Number)\n",
    "else:\n",
    "    print(\" %d is not a Perfect Number\" %Number)\n"
   ]
  },
  {
   "cell_type": "code",
   "execution_count": 32,
   "metadata": {},
   "outputs": [
    {
     "name": "stdout",
     "output_type": "stream",
     "text": [
      "enter a number:6\n",
      "6 is not a prime number\n"
     ]
    }
   ],
   "source": [
    "#19.Check if the given number is Prime.\n",
    "num = int(input(\"enter a number:\"))\n",
    "if num > 1:\n",
    "    for i in range(2,num):\n",
    "        if (num % i)== 0:\n",
    "            print(num,\"is not a prime number\")\n",
    "            break\n",
    "        else:\n",
    "            print(num,\"is a prime number\")\n",
    "else:\n",
    "    print(num,\"is not a prime number\")"
   ]
  },
  {
   "cell_type": "code",
   "execution_count": 27,
   "metadata": {},
   "outputs": [
    {
     "name": "stdout",
     "output_type": "stream",
     "text": [
      " Please Enter any Number: 45\n",
      " 3 is a Prime Factor of a Given Number 45\n",
      " 5 is a Prime Factor of a Given Number 45\n"
     ]
    }
   ],
   "source": [
    "#20.Find the Prime factors of a number\n",
    "Number = int(input(\" Please Enter any Number: \"))\n",
    "i = 1\n",
    "\n",
    "while(i <= Number):\n",
    "    count = 0\n",
    "    if(Number % i == 0):\n",
    "        j = 1\n",
    "        while(j <= i):\n",
    "            if(i % j == 0):\n",
    "                count = count + 1\n",
    "            j = j + 1\n",
    "            \n",
    "        if (count == 2):\n",
    "            print(\" %d is a Prime Factor of a Given Number %d\" %(i, Number))\n",
    "    i = i + 1\n",
    "\n",
    "\n",
    "        \n",
    "    \n",
    "            "
   ]
  },
  {
   "cell_type": "code",
   "execution_count": 33,
   "metadata": {},
   "outputs": [
    {
     "name": "stdout",
     "output_type": "stream",
     "text": [
      "enter a number121\n",
      "palindrome\n"
     ]
    }
   ],
   "source": [
    "#21.Check if the given number is Palindrome.\n",
    "n = int(input(\"enter a number\"))\n",
    "print(\"palindrome\") if(str(n)==str(n)[::-1]) else print(\"not palindrome\")\n"
   ]
  },
  {
   "cell_type": "code",
   "execution_count": 22,
   "metadata": {},
   "outputs": [
    {
     "name": "stdout",
     "output_type": "stream",
     "text": [
      "enter first number:30\n",
      "enter second number:45\n",
      "GCD is:\n",
      "15\n"
     ]
    }
   ],
   "source": [
    "#17.Print the GCD of two numbers\n",
    "def gcd(a,b):\n",
    "    if(b==0):\n",
    "        return a\n",
    "    else:\n",
    "        return gcd(b,a%b)\n",
    "a=int(input(\"enter first number:\"))\n",
    "b=int(input(\"enter second number:\"))\n",
    "GCD=gcd(a,b)\n",
    "print(\"GCD is:\")\n",
    "print(GCD)"
   ]
  },
  {
   "cell_type": "code",
   "execution_count": 30,
   "metadata": {},
   "outputs": [
    {
     "name": "stdout",
     "output_type": "stream",
     "text": [
      "enter english marks:55\n",
      "enter maths marks:88\n",
      "enter physics marks:99\n",
      "enter computers marks:70\n",
      "enter telugu marks:60\n",
      "total marks=372.000000\n",
      "marks percentage=74.400000\n",
      "B grade\n",
      "c grade\n",
      "D grade\n",
      "E grade\n"
     ]
    }
   ],
   "source": [
    "#22.Calculate Grade of a Student\n",
    "english=float(input(\"enter english marks:\"))\n",
    "maths=float(input(\"enter maths marks:\"))\n",
    "physics=float(input(\"enter physics marks:\"))\n",
    "computers=float(input(\"enter computers marks:\"))\n",
    "telugu=float(input(\"enter telugu marks:\"))\n",
    "total=english+maths+physics+computers+telugu\n",
    "percentage=(total/500)*100\n",
    "print(\"total marks=%2f\" %total)\n",
    "print(\"marks percentage=%2f\" %percentage)\n",
    "if(percentage>=90):\n",
    "    print(\"A grade\")\n",
    "if(percentage>=80):\n",
    "    print(\"B grade\") \n",
    "if(percentage>=70):\n",
    "    print(\"B grade\") \n",
    "if(percentage>=60):\n",
    "    print(\"c grade\")\n",
    "if(percentage>=50):\n",
    "    print(\"D grade\") \n",
    "if(percentage>=40):\n",
    "    print(\"E grade\") \n",
    "else:\n",
    "    print(\"Fail\")\n",
    "    "
   ]
  },
  {
   "cell_type": "code",
   "execution_count": null,
   "metadata": {},
   "outputs": [],
   "source": []
  }
 ],
 "metadata": {
  "kernelspec": {
   "display_name": "Python 3",
   "language": "python",
   "name": "python3"
  },
  "language_info": {
   "codemirror_mode": {
    "name": "ipython",
    "version": 3
   },
   "file_extension": ".py",
   "mimetype": "text/x-python",
   "name": "python",
   "nbconvert_exporter": "python",
   "pygments_lexer": "ipython3",
   "version": "3.7.1"
  }
 },
 "nbformat": 4,
 "nbformat_minor": 2
}
