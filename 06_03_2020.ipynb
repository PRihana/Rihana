{
  "nbformat": 4,
  "nbformat_minor": 0,
  "metadata": {
    "colab": {
      "name": "06-03-2020.ipynb",
      "provenance": [],
      "authorship_tag": "ABX9TyPDOGPm/iG12UNUzf9PwxH1",
      "include_colab_link": true
    },
    "kernelspec": {
      "name": "python3",
      "display_name": "Python 3"
    }
  },
  "cells": [
    {
      "cell_type": "markdown",
      "metadata": {
        "id": "view-in-github",
        "colab_type": "text"
      },
      "source": [
        "<a href=\"https://colab.research.google.com/github/PRihana/Rihana/blob/master/06_03_2020.ipynb\" target=\"_parent\"><img src=\"https://colab.research.google.com/assets/colab-badge.svg\" alt=\"Open In Colab\"/></a>"
      ]
    },
    {
      "cell_type": "code",
      "metadata": {
        "id": "gnBwqaUSFGNw",
        "colab_type": "code",
        "outputId": "10ab9933-a5e5-4f21-8dbc-5b4bca1fa4d7",
        "colab": {
          "base_uri": "https://localhost:8080/",
          "height": 35
        }
      },
      "source": [
        "#using for loop\n",
        "#output1=\"machin\"\n",
        "s=\"machine learning\" \n",
        "out=''\n",
        "for i in s:\n",
        "  if i=='e':\n",
        "    break\n",
        "  else:\n",
        "    out+=i\n",
        "out  "
      ],
      "execution_count": 0,
      "outputs": [
        {
          "output_type": "execute_result",
          "data": {
            "text/plain": [
              "'machin'"
            ]
          },
          "metadata": {
            "tags": []
          },
          "execution_count": 40
        }
      ]
    },
    {
      "cell_type": "code",
      "metadata": {
        "id": "FV3N6ZK7eqhX",
        "colab_type": "code",
        "colab": {}
      },
      "source": [
        "#outout=\"mch lrng\"\n",
        "s=\"machine learning\"\n",
        "out=\"\"\n",
        "for ch in s:\n",
        "  if ch not in \"aeiou\":\n",
        "    out +=ch\n",
        "out "
      ],
      "execution_count": 0,
      "outputs": []
    },
    {
      "cell_type": "code",
      "metadata": {
        "id": "vRvGiM8cxUCg",
        "colab_type": "code",
        "outputId": "7861e391-cdb4-41d7-9efb-cf1d21b69a27",
        "colab": {
          "base_uri": "https://localhost:8080/",
          "height": 35
        }
      },
      "source": [
        "#stopping the iteration we are using break and continue:\n",
        "#break and continue statement will use only in loops and not if else\n",
        "s=\"machine learning\"\n",
        "out=\"\"\n",
        "for ch in s:\n",
        "  if ch not in \"aeiou\":\n",
        "    out +=ch\n",
        "out    \n"
      ],
      "execution_count": 0,
      "outputs": [
        {
          "output_type": "execute_result",
          "data": {
            "text/plain": [
              "'mchn lrnng'"
            ]
          },
          "metadata": {
            "tags": []
          },
          "execution_count": 13
        }
      ]
    },
    {
      "cell_type": "markdown",
      "metadata": {
        "id": "rP88bPzs4v-k",
        "colab_type": "text"
      },
      "source": [
        "# using pass\n"
      ]
    },
    {
      "cell_type": "code",
      "metadata": {
        "id": "vbCfyUmI4lq2",
        "colab_type": "code",
        "colab": {}
      },
      "source": [
        "#pass will not perform any operations it just a statement\n",
        "s='k'\n",
        "if s==\"k\":\n",
        "  pass\n",
        "else:\n",
        "  print(\"s value is not k\")  \n"
      ],
      "execution_count": 0,
      "outputs": []
    },
    {
      "cell_type": "code",
      "metadata": {
        "id": "SIeA4ylr5rik",
        "colab_type": "code",
        "outputId": "7903849c-0968-4ec1-a7fd-9e54e86cb4b8",
        "colab": {
          "base_uri": "https://localhost:8080/",
          "height": 87
        }
      },
      "source": [
        "for i in range(5):\n",
        "  if i==3:\n",
        "    continue\n",
        "  print(i)  "
      ],
      "execution_count": 0,
      "outputs": [
        {
          "output_type": "stream",
          "text": [
            "0\n",
            "1\n",
            "2\n",
            "4\n"
          ],
          "name": "stdout"
        }
      ]
    },
    {
      "cell_type": "code",
      "metadata": {
        "id": "PwKfVT8q6PBd",
        "colab_type": "code",
        "outputId": "457cf4a7-8d00-42dc-9756-49ecbce9d966",
        "colab": {
          "base_uri": "https://localhost:8080/",
          "height": 104
        }
      },
      "source": [
        "for i in range(5):\n",
        "  if i==3:\n",
        "      pass\n",
        "  print(i) "
      ],
      "execution_count": 0,
      "outputs": [
        {
          "output_type": "stream",
          "text": [
            "0\n",
            "1\n",
            "2\n",
            "3\n",
            "4\n"
          ],
          "name": "stdout"
        }
      ]
    },
    {
      "cell_type": "code",
      "metadata": {
        "id": "97OIUvAa6myX",
        "colab_type": "code",
        "outputId": "4091837b-55e6-44b5-d1d3-c609670e8691",
        "colab": {
          "base_uri": "https://localhost:8080/",
          "height": 87
        }
      },
      "source": [
        "for i in range(5):\n",
        "  if i==3:\n",
        "    continue\n",
        "    print(\"hello\")\n",
        "  print(i)   "
      ],
      "execution_count": 0,
      "outputs": [
        {
          "output_type": "stream",
          "text": [
            "0\n",
            "1\n",
            "2\n",
            "4\n"
          ],
          "name": "stdout"
        }
      ]
    },
    {
      "cell_type": "code",
      "metadata": {
        "id": "PH3OU7mB68Xf",
        "colab_type": "code",
        "outputId": "82dacb19-56ec-43c9-e8ca-8755f737a7d9",
        "colab": {
          "base_uri": "https://localhost:8080/",
          "height": 191
        }
      },
      "source": [
        "for i in range(5):\n",
        "  if i==3:\n",
        "    pass\n",
        "  print(\"hello\")\n",
        "  print(i) "
      ],
      "execution_count": 0,
      "outputs": [
        {
          "output_type": "stream",
          "text": [
            "hello\n",
            "0\n",
            "hello\n",
            "1\n",
            "hello\n",
            "2\n",
            "hello\n",
            "3\n",
            "hello\n",
            "4\n"
          ],
          "name": "stdout"
        }
      ]
    },
    {
      "cell_type": "markdown",
      "metadata": {
        "id": "BACjqGky7gGs",
        "colab_type": "text"
      },
      "source": [
        "# while loop"
      ]
    },
    {
      "cell_type": "code",
      "metadata": {
        "id": "uTyn838a7cr5",
        "colab_type": "code",
        "outputId": "bd24576b-d570-482a-c6e3-4cb6293134d7",
        "colab": {
          "base_uri": "https://localhost:8080/",
          "height": 131
        }
      },
      "source": [
        "#initialization\n",
        "#pre -while condition:\n",
        "statement1\n",
        "statement2\n",
        "inc/dec-variable updation"
      ],
      "execution_count": 0,
      "outputs": [
        {
          "output_type": "error",
          "ename": "SyntaxError",
          "evalue": "ignored",
          "traceback": [
            "\u001b[0;36m  File \u001b[0;32m\"<ipython-input-101-552d1d61fe8a>\"\u001b[0;36m, line \u001b[0;32m3\u001b[0m\n\u001b[0;31m    inc/dec-variable updation\u001b[0m\n\u001b[0m                            ^\u001b[0m\n\u001b[0;31mSyntaxError\u001b[0m\u001b[0;31m:\u001b[0m invalid syntax\n"
          ]
        }
      ]
    },
    {
      "cell_type": "code",
      "metadata": {
        "id": "DYCAI7Ql8Ev5",
        "colab_type": "code",
        "outputId": "b9174a07-4039-4749-b0f7-6c61837d1f0d",
        "colab": {
          "base_uri": "https://localhost:8080/",
          "height": 191
        }
      },
      "source": [
        "i=1\n",
        "while i<=10:\n",
        "  print(\"{0}*{1}={2}\".format(3,i,3*i))\n",
        "  i+=1\n"
      ],
      "execution_count": 0,
      "outputs": [
        {
          "output_type": "stream",
          "text": [
            "3*1=3\n",
            "3*2=6\n",
            "3*3=9\n",
            "3*4=12\n",
            "3*5=15\n",
            "3*6=18\n",
            "3*7=21\n",
            "3*8=24\n",
            "3*9=27\n",
            "3*10=30\n"
          ],
          "name": "stdout"
        }
      ]
    },
    {
      "cell_type": "code",
      "metadata": {
        "id": "pQwS00V5nagK",
        "colab_type": "code",
        "outputId": "a87cb7fa-7aa5-452e-9658-a0cf2b60df35",
        "colab": {
          "base_uri": "https://localhost:8080/",
          "height": 52
        }
      },
      "source": [
        "print(3,\"*\",1,\"=\",3*1)\n",
        "print(\"{0}*{1}={2}\".format(3,1,3*1))"
      ],
      "execution_count": 0,
      "outputs": [
        {
          "output_type": "stream",
          "text": [
            "3 * 1 = 3\n",
            "3*1=3\n"
          ],
          "name": "stdout"
        }
      ]
    },
    {
      "cell_type": "code",
      "metadata": {
        "id": "2OpImrbfrzBO",
        "colab_type": "code",
        "outputId": "b40c3c25-9233-4948-a475-08db60ff621c",
        "colab": {
          "base_uri": "https://localhost:8080/",
          "height": 173
        }
      },
      "source": [
        "lb=int(input())\n",
        "ub=int(input())\n",
        "n=int(input())\n",
        "i=lb\n",
        "while i<=ub:\n",
        "  print(\"{0}*{1}={2}\".format(n,i,n*i))\n",
        "  i+=2\n"
      ],
      "execution_count": 0,
      "outputs": [
        {
          "output_type": "stream",
          "text": [
            "10\n",
            "20\n",
            "5\n",
            "5*10=50\n",
            "5*12=60\n",
            "5*14=70\n",
            "5*16=80\n",
            "5*18=90\n",
            "5*20=100\n"
          ],
          "name": "stdout"
        }
      ]
    },
    {
      "cell_type": "code",
      "metadata": {
        "id": "4fgaAkch-MSa",
        "colab_type": "code",
        "outputId": "49cda73f-a115-46c4-c063-fa0b7307ceb7",
        "colab": {
          "base_uri": "https://localhost:8080/",
          "height": 260
        }
      },
      "source": [
        "lb=int(input())\n",
        "ub=int(input())\n",
        "n=int(input())\n",
        "i=lb\n",
        "while i<=ub:\n",
        "  print(\"{0}*{1}={2}\".format(n,i,n*i))\n",
        "  i+=1\n"
      ],
      "execution_count": 0,
      "outputs": [
        {
          "output_type": "stream",
          "text": [
            "10\n",
            "20\n",
            "5\n",
            "5*10=50\n",
            "5*11=55\n",
            "5*12=60\n",
            "5*13=65\n",
            "5*14=70\n",
            "5*15=75\n",
            "5*16=80\n",
            "5*17=85\n",
            "5*18=90\n",
            "5*19=95\n",
            "5*20=100\n"
          ],
          "name": "stdout"
        }
      ]
    },
    {
      "cell_type": "code",
      "metadata": {
        "id": "mmnC7bwQt8ch",
        "colab_type": "code",
        "outputId": "703d88a7-443f-400d-d53e-d705051fac63",
        "colab": {
          "base_uri": "https://localhost:8080/",
          "height": 35
        }
      },
      "source": [
        "#using while\n",
        "n=543\n",
        "d=[]\n",
        "n1=n\n",
        "while n1>0:\n",
        "  d.append(n%10)\n",
        "  n1=n1//10\n",
        "d  "
      ],
      "execution_count": 0,
      "outputs": [
        {
          "output_type": "execute_result",
          "data": {
            "text/plain": [
              "[3, 3, 3]"
            ]
          },
          "metadata": {
            "tags": []
          },
          "execution_count": 31
        }
      ]
    },
    {
      "cell_type": "code",
      "metadata": {
        "id": "_R2PG6rouhuJ",
        "colab_type": "code",
        "outputId": "adba35ab-75aa-4f90-da01-3aeafb1367bb",
        "colab": {
          "base_uri": "https://localhost:8080/",
          "height": 35
        }
      },
      "source": [
        "#using for\n",
        "n=543\n",
        "d=[]\n",
        "n1=n\n",
        "for i in range(len(str(n))):\n",
        "  d.append(n1%10)\n",
        "  n1=n1//10\n",
        "d  "
      ],
      "execution_count": 0,
      "outputs": [
        {
          "output_type": "execute_result",
          "data": {
            "text/plain": [
              "[3, 4, 5]"
            ]
          },
          "metadata": {
            "tags": []
          },
          "execution_count": 32
        }
      ]
    },
    {
      "cell_type": "code",
      "metadata": {
        "colab_type": "code",
        "id": "QEyOOs9QuiW8",
        "outputId": "174940e4-d311-4c0e-f70e-93c6a98fe44f",
        "colab": {
          "base_uri": "https://localhost:8080/",
          "height": 121
        }
      },
      "source": [
        "print(543%10)\n",
        "print(543//10)\n",
        "print(54%10)\n",
        "print(54//10)\n",
        "print(5%10)\n",
        "print()\n",
        "\n",
        "\n",
        "\n"
      ],
      "execution_count": 0,
      "outputs": [
        {
          "output_type": "stream",
          "text": [
            "3\n",
            "54\n",
            "4\n",
            "5\n",
            "5\n",
            "\n"
          ],
          "name": "stdout"
        }
      ]
    },
    {
      "cell_type": "code",
      "metadata": {
        "id": "Uoz2tcAjBSo9",
        "colab_type": "code",
        "colab": {}
      },
      "source": [
        "s=\"machine learning\"\n",
        "#ouput1=\"machin\"\n",
        "#output2=\"mchn irning\"\n",
        "s=\"machine learning\"\n",
        "out=''\n",
        "for i in s:\n",
        "  if i!=='e':\n",
        "    break\n",
        "  else:\n",
        "    out+=i\n",
        "out      "
      ],
      "execution_count": 0,
      "outputs": []
    },
    {
      "cell_type": "code",
      "metadata": {
        "id": "wnEKuoITC5ot",
        "colab_type": "code",
        "outputId": "1830077e-5f0a-4c95-eba4-48bf36c5af48",
        "colab": {
          "base_uri": "https://localhost:8080/",
          "height": 35
        }
      },
      "source": [
        "#out put1\n",
        "#using while loop\n",
        "s=\"machine learning\"\n",
        "i=0\n",
        "out1=''\n",
        "while i<len(s):\n",
        "  if s[i]=='e':\n",
        "      break\n",
        "  out1 +=s[i] \n",
        "  i=i+1\n",
        "out1   "
      ],
      "execution_count": 0,
      "outputs": [
        {
          "output_type": "execute_result",
          "data": {
            "text/plain": [
              "'machin'"
            ]
          },
          "metadata": {
            "tags": []
          },
          "execution_count": 39
        }
      ]
    },
    {
      "cell_type": "code",
      "metadata": {
        "id": "TRxYNE20EY5M",
        "colab_type": "code",
        "outputId": "27d2170f-205d-47bd-e91f-157e6665f6d1",
        "colab": {
          "base_uri": "https://localhost:8080/",
          "height": 35
        }
      },
      "source": [
        "#output2\n",
        "s=\"machine learning\"\n",
        "i=0\n",
        "out2=''\n",
        "while i<len(s):\n",
        "  if s[i] in'aeiou':\n",
        "     i=i+1\n",
        "     continue\n",
        "  out2 +=s[i] \n",
        "  i=i+1\n",
        "out2   "
      ],
      "execution_count": 0,
      "outputs": [
        {
          "output_type": "execute_result",
          "data": {
            "text/plain": [
              "'mchn lrnng'"
            ]
          },
          "metadata": {
            "tags": []
          },
          "execution_count": 41
        }
      ]
    },
    {
      "cell_type": "code",
      "metadata": {
        "id": "OCHp4J_8G46v",
        "colab_type": "code",
        "outputId": "ce0c8f3d-467a-468f-c6a3-0db20930112f",
        "colab": {
          "base_uri": "https://localhost:8080/",
          "height": 35
        }
      },
      "source": [
        "s=\"machine learning\"\n",
        "i=0\n",
        "out2=''\n",
        "for i in range(len(s)):\n",
        "   if s[i] in'aeiou':\n",
        "     i=i+1\n",
        "     continue\n",
        "   out2 +=s[i] \n",
        "out2   "
      ],
      "execution_count": 0,
      "outputs": [
        {
          "output_type": "execute_result",
          "data": {
            "text/plain": [
              "'mchn lrnng'"
            ]
          },
          "metadata": {
            "tags": []
          },
          "execution_count": 98
        }
      ]
    },
    {
      "cell_type": "code",
      "metadata": {
        "id": "kXkG7zPuJG1R",
        "colab_type": "code",
        "colab": {}
      },
      "source": [
        "#read names of persons continuosly  from user until the\n",
        "#users enter 'done'\n",
        "#crate the list with names\n",
        "#print the list afer reading all the names"
      ],
      "execution_count": 0,
      "outputs": []
    },
    {
      "cell_type": "code",
      "metadata": {
        "id": "H1tS9H6GMr-U",
        "colab_type": "code",
        "colab": {}
      },
      "source": [
        "names=[]\n",
        "while True:\n",
        "  name=input()\n",
        "  if name=='done':\n",
        "    print(names)\n",
        "    break\n",
        "  names.append(name)  "
      ],
      "execution_count": 0,
      "outputs": []
    },
    {
      "cell_type": "code",
      "metadata": {
        "id": "-M2MvibUNzRZ",
        "colab_type": "code",
        "colab": {}
      },
      "source": [
        "names=[]\n",
        "name=input()\n",
        "while name!='done':\n",
        "      names.append(name)\n",
        "      name=input()\n",
        "print(names)      \n"
      ],
      "execution_count": 0,
      "outputs": []
    },
    {
      "cell_type": "code",
      "metadata": {
        "id": "4WfhN9-vgGF3",
        "colab_type": "code",
        "colab": {}
      },
      "source": [
        ""
      ],
      "execution_count": 0,
      "outputs": []
    },
    {
      "cell_type": "markdown",
      "metadata": {
        "id": "jE79h8coPOtL",
        "colab_type": "text"
      },
      "source": [
        "#Lists\n",
        "\n"
      ]
    },
    {
      "cell_type": "code",
      "metadata": {
        "id": "FDWdw0l7gKRN",
        "colab_type": "code",
        "colab": {}
      },
      "source": [
        "-empty list creation\n",
        "-creating a list with elements\n",
        "-accessing an elements in a list\n",
        "-append values to list\n",
        "-slicing with negative and positive indexing\n",
        "-operators on list\n",
        "-list methods\n"
      ],
      "execution_count": 0,
      "outputs": []
    },
    {
      "cell_type": "code",
      "metadata": {
        "id": "kfh_TkCaP4Xu",
        "colab_type": "code",
        "outputId": "9545f5c6-637f-4fa5-dd09-76fde9d41c5c",
        "colab": {
          "base_uri": "https://localhost:8080/",
          "height": 52
        }
      },
      "source": [
        "a=[]\n",
        "print(a)\n",
        "b=list()\n",
        "print(b)\n"
      ],
      "execution_count": 0,
      "outputs": [
        {
          "output_type": "stream",
          "text": [
            "[]\n",
            "[]\n"
          ],
          "name": "stdout"
        }
      ]
    },
    {
      "cell_type": "code",
      "metadata": {
        "id": "L98bWpjKQK84",
        "colab_type": "code",
        "outputId": "db541d43-23db-45e0-b589-5b61e209d934",
        "colab": {
          "base_uri": "https://localhost:8080/",
          "height": 35
        }
      },
      "source": [
        "a1=[12,4,8,9,0]\n",
        "print(a1)\n"
      ],
      "execution_count": 0,
      "outputs": [
        {
          "output_type": "stream",
          "text": [
            "[12, 4, 8, 9, 0]\n"
          ],
          "name": "stdout"
        }
      ]
    },
    {
      "cell_type": "code",
      "metadata": {
        "id": "8Oh5oIkURUmz",
        "colab_type": "code",
        "outputId": "b3dc2d51-c835-423d-8617-9f7dd5a63c1e",
        "colab": {
          "base_uri": "https://localhost:8080/",
          "height": 35
        }
      },
      "source": [
        "#print number of elements\n",
        "print(len(a1)) "
      ],
      "execution_count": 0,
      "outputs": [
        {
          "output_type": "stream",
          "text": [
            "5\n"
          ],
          "name": "stdout"
        }
      ]
    },
    {
      "cell_type": "code",
      "metadata": {
        "id": "t03L0ZW0QclB",
        "colab_type": "code",
        "colab": {}
      },
      "source": [
        "#-list idex start from 0 ends with\n",
        "number of elements -1"
      ],
      "execution_count": 0,
      "outputs": []
    },
    {
      "cell_type": "code",
      "metadata": {
        "id": "7mafdIGzQvfS",
        "colab_type": "code",
        "outputId": "a364679b-e624-4a53-fec1-aedb645ff48f",
        "colab": {
          "base_uri": "https://localhost:8080/",
          "height": 201
        }
      },
      "source": [
        "#first element\n",
        "print(a[0])\n",
        "#3rd element\n",
        "print(a[2])"
      ],
      "execution_count": 0,
      "outputs": [
        {
          "output_type": "error",
          "ename": "IndexError",
          "evalue": "ignored",
          "traceback": [
            "\u001b[0;31m---------------------------------------------------------------------------\u001b[0m",
            "\u001b[0;31mIndexError\u001b[0m                                Traceback (most recent call last)",
            "\u001b[0;32m<ipython-input-53-85edd76dbb80>\u001b[0m in \u001b[0;36m<module>\u001b[0;34m()\u001b[0m\n\u001b[0;32m----> 1\u001b[0;31m \u001b[0mprint\u001b[0m\u001b[0;34m(\u001b[0m\u001b[0ma\u001b[0m\u001b[0;34m[\u001b[0m\u001b[0;36m0\u001b[0m\u001b[0;34m]\u001b[0m\u001b[0;34m)\u001b[0m\u001b[0;34m\u001b[0m\u001b[0;34m\u001b[0m\u001b[0m\n\u001b[0m\u001b[1;32m      2\u001b[0m \u001b[0;31m#3rd element\u001b[0m\u001b[0;34m\u001b[0m\u001b[0;34m\u001b[0m\u001b[0;34m\u001b[0m\u001b[0m\n\u001b[1;32m      3\u001b[0m \u001b[0mprint\u001b[0m\u001b[0;34m(\u001b[0m\u001b[0ma\u001b[0m\u001b[0;34m[\u001b[0m\u001b[0;36m2\u001b[0m\u001b[0;34m]\u001b[0m\u001b[0;34m)\u001b[0m\u001b[0;34m\u001b[0m\u001b[0;34m\u001b[0m\u001b[0m\n",
            "\u001b[0;31mIndexError\u001b[0m: list index out of range"
          ]
        }
      ]
    },
    {
      "cell_type": "code",
      "metadata": {
        "id": "szkeuafGR19b",
        "colab_type": "code",
        "outputId": "5f3359f5-7fa4-46a3-ea97-d7115d15710f",
        "colab": {
          "base_uri": "https://localhost:8080/",
          "height": 69
        }
      },
      "source": [
        "#first element -ve index\n",
        "print(a1[-len(a1)])\n",
        "#last element -ve index\n",
        "print(a1[-1])\n",
        "#last element +ve index\n",
        "print(a1[len(a1)-1])"
      ],
      "execution_count": 0,
      "outputs": [
        {
          "output_type": "stream",
          "text": [
            "12\n",
            "0\n",
            "0\n"
          ],
          "name": "stdout"
        }
      ]
    },
    {
      "cell_type": "code",
      "metadata": {
        "id": "1Jig1S4VSmtT",
        "colab_type": "code",
        "outputId": "295878a7-1d43-46cf-ac59-217233690bf2",
        "colab": {
          "base_uri": "https://localhost:8080/",
          "height": 52
        }
      },
      "source": [
        "#4th element from the last +ve using index\n",
        "print(a1[len(a1)-1-3])\n",
        "#4th element from the last -ve using index\n",
        "print(a1[-4])\n",
        "\n"
      ],
      "execution_count": 0,
      "outputs": [
        {
          "output_type": "stream",
          "text": [
            "4\n",
            "4\n"
          ],
          "name": "stdout"
        }
      ]
    },
    {
      "cell_type": "code",
      "metadata": {
        "id": "NSDtcswhUIUR",
        "colab_type": "code",
        "outputId": "61a97b6f-a5f1-4192-be5a-69f3ab36f559",
        "colab": {
          "base_uri": "https://localhost:8080/",
          "height": 52
        }
      },
      "source": [
        "print(a1)\n",
        "a1[-1]=22\n",
        "print(a1)"
      ],
      "execution_count": 0,
      "outputs": [
        {
          "output_type": "stream",
          "text": [
            "[12, 4, 8, 9, 0]\n",
            "[12, 4, 8, 9, 22]\n"
          ],
          "name": "stdout"
        }
      ]
    },
    {
      "cell_type": "code",
      "metadata": {
        "id": "p5wXe3miUdlb",
        "colab_type": "code",
        "outputId": "f41213c4-3be8-4bd6-d6df-3f575ee128ed",
        "colab": {
          "base_uri": "https://localhost:8080/",
          "height": 191
        }
      },
      "source": [
        "#a[strat:stop:step]\n",
        "print(a1)\n",
        "print(a1[0:3]) #ind 0,1,2\n",
        "print(a1[:3])\n",
        "print(a1[1:4:2]) #ind 1,3\n",
        "print(a1[::2]) #ind 0,2,4\n",
        "print(a1[:10])\n",
        "print(a1[2:2])\n",
        "print(a1[:])\n",
        "print(a1[3:15])\n",
        "print(a1[15:3])"
      ],
      "execution_count": 0,
      "outputs": [
        {
          "output_type": "stream",
          "text": [
            "[12, 4, 8, 9, 22]\n",
            "[12, 4, 8]\n",
            "[12, 4, 8]\n",
            "[4, 9]\n",
            "[12, 8, 22]\n",
            "[12, 4, 8, 9, 22]\n",
            "[]\n",
            "[12, 4, 8, 9, 22]\n",
            "[9, 22]\n",
            "[]\n"
          ],
          "name": "stdout"
        }
      ]
    },
    {
      "cell_type": "code",
      "metadata": {
        "colab_type": "code",
        "outputId": "cdd194bc-16b3-41a6-e134-3b37f41f7f76",
        "id": "Kxw4kRGHX0uC",
        "colab": {
          "base_uri": "https://localhost:8080/",
          "height": 104
        }
      },
      "source": [
        "print(a1)\n",
        "print(a1[-1:-4:-1])#ind -1,-2,-3\n",
        "print(a1[-4:-1])#ind -4,-3,-2\n",
        "print(a1[-1::-1])#reverse order\n",
        "print(a1[::-1])#reverse order"
      ],
      "execution_count": 0,
      "outputs": [
        {
          "output_type": "stream",
          "text": [
            "[12, 4, 8, 9, 22]\n",
            "[22, 9, 8]\n",
            "[4, 8, 9]\n",
            "[22, 9, 8, 4, 12]\n",
            "[22, 9, 8, 4, 12]\n"
          ],
          "name": "stdout"
        }
      ]
    },
    {
      "cell_type": "code",
      "metadata": {
        "id": "U_h_cT0PUeOE",
        "colab_type": "code",
        "outputId": "f6f9d6c0-6cc6-4007-919a-34a0885149f5",
        "colab": {
          "base_uri": "https://localhost:8080/",
          "height": 52
        }
      },
      "source": [
        "a1=[12,4,8,9,22]\n",
        "print(a1)\n",
        "a1[:2]=[37,55]\n",
        "print(a1)"
      ],
      "execution_count": 0,
      "outputs": [
        {
          "output_type": "stream",
          "text": [
            "[12, 4, 8, 9, 22]\n",
            "[37, 55, 8, 9, 22]\n"
          ],
          "name": "stdout"
        }
      ]
    },
    {
      "cell_type": "code",
      "metadata": {
        "id": "Um6SNvQUYfz1",
        "colab_type": "code",
        "outputId": "05d42b2d-a94e-4cc1-dd3f-0c82e24c7d89",
        "colab": {
          "base_uri": "https://localhost:8080/",
          "height": 52
        }
      },
      "source": [
        "a2=list(range(5))\n",
        "a3=list(range(5,10))\n",
        "print(a2)\n",
        "print(a3)"
      ],
      "execution_count": 0,
      "outputs": [
        {
          "output_type": "stream",
          "text": [
            "[0, 1, 2, 3, 4]\n",
            "[5, 6, 7, 8, 9]\n"
          ],
          "name": "stdout"
        }
      ]
    },
    {
      "cell_type": "code",
      "metadata": {
        "id": "OAfZWjJgZRRS",
        "colab_type": "code",
        "outputId": "56f71b3d-4e30-49af-f2f0-3f344acb8ef3",
        "colab": {
          "base_uri": "https://localhost:8080/",
          "height": 201
        }
      },
      "source": [
        "print(a2+a3)\n",
        "print(a2*a3)"
      ],
      "execution_count": 0,
      "outputs": [
        {
          "output_type": "stream",
          "text": [
            "[0, 1, 2, 3, 4, 5, 6, 7, 8, 9]\n"
          ],
          "name": "stdout"
        },
        {
          "output_type": "error",
          "ename": "TypeError",
          "evalue": "ignored",
          "traceback": [
            "\u001b[0;31m---------------------------------------------------------------------------\u001b[0m",
            "\u001b[0;31mTypeError\u001b[0m                                 Traceback (most recent call last)",
            "\u001b[0;32m<ipython-input-77-2518b4e1455d>\u001b[0m in \u001b[0;36m<module>\u001b[0;34m()\u001b[0m\n\u001b[1;32m      1\u001b[0m \u001b[0mprint\u001b[0m\u001b[0;34m(\u001b[0m\u001b[0ma2\u001b[0m\u001b[0;34m+\u001b[0m\u001b[0ma3\u001b[0m\u001b[0;34m)\u001b[0m\u001b[0;34m\u001b[0m\u001b[0;34m\u001b[0m\u001b[0m\n\u001b[0;32m----> 2\u001b[0;31m \u001b[0mprint\u001b[0m\u001b[0;34m(\u001b[0m\u001b[0ma2\u001b[0m\u001b[0;34m*\u001b[0m\u001b[0ma3\u001b[0m\u001b[0;34m)\u001b[0m\u001b[0;34m\u001b[0m\u001b[0;34m\u001b[0m\u001b[0m\n\u001b[0m",
            "\u001b[0;31mTypeError\u001b[0m: can't multiply sequence by non-int of type 'list'"
          ]
        }
      ]
    },
    {
      "cell_type": "code",
      "metadata": {
        "id": "lDPn-SCEZnXU",
        "colab_type": "code",
        "outputId": "ce83fcf1-3c58-4ead-dcfd-9fc8f6350d3b",
        "colab": {
          "base_uri": "https://localhost:8080/",
          "height": 35
        }
      },
      "source": [
        "#print(a2+1)\n",
        "print(a2*3)"
      ],
      "execution_count": 0,
      "outputs": [
        {
          "output_type": "stream",
          "text": [
            "[0, 1, 2, 3, 4, 0, 1, 2, 3, 4, 0, 1, 2, 3, 4]\n"
          ],
          "name": "stdout"
        }
      ]
    },
    {
      "cell_type": "code",
      "metadata": {
        "id": "cfaMcN9EZzPH",
        "colab_type": "code",
        "outputId": "851981a3-4a17-47e0-f96a-04b10b3941d8",
        "colab": {
          "base_uri": "https://localhost:8080/",
          "height": 52
        }
      },
      "source": [
        "print(not(a2))\n",
        "print(not(a))#a is an empty list"
      ],
      "execution_count": 0,
      "outputs": [
        {
          "output_type": "stream",
          "text": [
            "False\n",
            "True\n"
          ],
          "name": "stdout"
        }
      ]
    },
    {
      "cell_type": "code",
      "metadata": {
        "id": "AAdiuTY8aBTR",
        "colab_type": "code",
        "outputId": "0a4c5717-0a0f-4c30-d503-677829489287",
        "colab": {
          "base_uri": "https://localhost:8080/",
          "height": 121
        }
      },
      "source": [
        "print(a1)\n",
        "print(a2)\n",
        "print(a3)\n",
        "print(a3>a2)\n",
        "a3[0]=0\n",
        "print(a1>a2)\n",
        "print(a2>a1)"
      ],
      "execution_count": 0,
      "outputs": [
        {
          "output_type": "stream",
          "text": [
            "[37, 55, 8, 9, 22]\n",
            "[0, 1, 2, 3, 4]\n",
            "[5, 6, 7, 8, 9]\n",
            "True\n",
            "True\n",
            "False\n"
          ],
          "name": "stdout"
        }
      ]
    },
    {
      "cell_type": "code",
      "metadata": {
        "id": "aAYzFBXYaorN",
        "colab_type": "code",
        "outputId": "bc64d4e4-f34e-4381-dbb4-94dd3141f89c",
        "colab": {
          "base_uri": "https://localhost:8080/",
          "height": 104
        }
      },
      "source": [
        "print(\"sum\">\"abc\")\n",
        "print(\"sa\">\"sb\")\n",
        "print(\"s\">\"sa\")\n",
        "print([23]>[43])\n",
        "print([23,78]>[43,100])"
      ],
      "execution_count": 0,
      "outputs": [
        {
          "output_type": "stream",
          "text": [
            "True\n",
            "False\n",
            "False\n",
            "False\n",
            "False\n"
          ],
          "name": "stdout"
        }
      ]
    },
    {
      "cell_type": "code",
      "metadata": {
        "id": "Dm9t-53JcADh",
        "colab_type": "code",
        "outputId": "b396fd38-85cf-4031-d379-14638bbe5033",
        "colab": {
          "base_uri": "https://localhost:8080/",
          "height": 1000
        }
      },
      "source": [
        "dir('list')"
      ],
      "execution_count": 0,
      "outputs": [
        {
          "output_type": "execute_result",
          "data": {
            "text/plain": [
              "['__add__',\n",
              " '__class__',\n",
              " '__contains__',\n",
              " '__delattr__',\n",
              " '__dir__',\n",
              " '__doc__',\n",
              " '__eq__',\n",
              " '__format__',\n",
              " '__ge__',\n",
              " '__getattribute__',\n",
              " '__getitem__',\n",
              " '__getnewargs__',\n",
              " '__gt__',\n",
              " '__hash__',\n",
              " '__init__',\n",
              " '__init_subclass__',\n",
              " '__iter__',\n",
              " '__le__',\n",
              " '__len__',\n",
              " '__lt__',\n",
              " '__mod__',\n",
              " '__mul__',\n",
              " '__ne__',\n",
              " '__new__',\n",
              " '__reduce__',\n",
              " '__reduce_ex__',\n",
              " '__repr__',\n",
              " '__rmod__',\n",
              " '__rmul__',\n",
              " '__setattr__',\n",
              " '__sizeof__',\n",
              " '__str__',\n",
              " '__subclasshook__',\n",
              " 'capitalize',\n",
              " 'casefold',\n",
              " 'center',\n",
              " 'count',\n",
              " 'encode',\n",
              " 'endswith',\n",
              " 'expandtabs',\n",
              " 'find',\n",
              " 'format',\n",
              " 'format_map',\n",
              " 'index',\n",
              " 'isalnum',\n",
              " 'isalpha',\n",
              " 'isdecimal',\n",
              " 'isdigit',\n",
              " 'isidentifier',\n",
              " 'islower',\n",
              " 'isnumeric',\n",
              " 'isprintable',\n",
              " 'isspace',\n",
              " 'istitle',\n",
              " 'isupper',\n",
              " 'join',\n",
              " 'ljust',\n",
              " 'lower',\n",
              " 'lstrip',\n",
              " 'maketrans',\n",
              " 'partition',\n",
              " 'replace',\n",
              " 'rfind',\n",
              " 'rindex',\n",
              " 'rjust',\n",
              " 'rpartition',\n",
              " 'rsplit',\n",
              " 'rstrip',\n",
              " 'split',\n",
              " 'splitlines',\n",
              " 'startswith',\n",
              " 'strip',\n",
              " 'swapcase',\n",
              " 'title',\n",
              " 'translate',\n",
              " 'upper',\n",
              " 'zfill']"
            ]
          },
          "metadata": {
            "tags": []
          },
          "execution_count": 86
        }
      ]
    },
    {
      "cell_type": "code",
      "metadata": {
        "id": "fbf3r8KXcQHe",
        "colab_type": "code",
        "outputId": "f286120f-5483-4c78-a093-925d47a868b1",
        "colab": {
          "base_uri": "https://localhost:8080/",
          "height": 69
        }
      },
      "source": [
        "a=[]\n",
        "print(a)\n",
        "print(a.append(6))\n",
        "a.append(\"m1\")\n",
        "a.append(True)\n",
        "a.append([3,4])\n",
        "print(a)"
      ],
      "execution_count": 0,
      "outputs": [
        {
          "output_type": "stream",
          "text": [
            "[]\n",
            "None\n",
            "[6, 'm1', True, [3, 4]]\n"
          ],
          "name": "stdout"
        }
      ]
    },
    {
      "cell_type": "code",
      "metadata": {
        "id": "Sbm61A6SdSPr",
        "colab_type": "code",
        "outputId": "5d1f6048-0366-4e92-c5e8-9f00053617da",
        "colab": {
          "base_uri": "https://localhost:8080/",
          "height": 69
        }
      },
      "source": [
        "print(a)\n",
        "print(a.extend([77,92]))\n",
        "print(a)"
      ],
      "execution_count": 0,
      "outputs": [
        {
          "output_type": "stream",
          "text": [
            "[6, 'm1', True, [3, 4]]\n",
            "None\n",
            "[6, 'm1', True, [3, 4], 77, 92]\n"
          ],
          "name": "stdout"
        }
      ]
    },
    {
      "cell_type": "code",
      "metadata": {
        "id": "RBHQQWIEdkRi",
        "colab_type": "code",
        "outputId": "42460617-a070-4c66-97c8-8f5629fc952d",
        "colab": {
          "base_uri": "https://localhost:8080/",
          "height": 87
        }
      },
      "source": [
        "#how to create a copy of list\n",
        "print(a)\n",
        "a1=a\n",
        "print(a1)\n",
        "a1[0]=66\n",
        "print(a1)\n",
        "print(a)"
      ],
      "execution_count": 0,
      "outputs": [
        {
          "output_type": "stream",
          "text": [
            "[6, 'm1', True, [3, 4], 77, 92]\n",
            "[6, 'm1', True, [3, 4], 77, 92]\n",
            "[66, 'm1', True, [3, 4], 77, 92]\n",
            "[66, 'm1', True, [3, 4], 77, 92]\n"
          ],
          "name": "stdout"
        }
      ]
    },
    {
      "cell_type": "code",
      "metadata": {
        "id": "ZYs8_VGHeGi3",
        "colab_type": "code",
        "outputId": "9cda44eb-c5d3-4415-ffa5-5d3bb4b79118",
        "colab": {
          "base_uri": "https://localhost:8080/",
          "height": 87
        }
      },
      "source": [
        "print(a)\n",
        "a1=a.copy()\n",
        "print(a1)\n",
        "a1[0]=66\n",
        "print(a1)\n",
        "print(a)"
      ],
      "execution_count": 0,
      "outputs": [
        {
          "output_type": "stream",
          "text": [
            "[66, 'm1', True, [3, 4], 77, 92]\n",
            "[66, 'm1', True, [3, 4], 77, 92]\n",
            "[66, 'm1', True, [3, 4], 77, 92]\n",
            "[66, 'm1', True, [3, 4], 77, 92]\n"
          ],
          "name": "stdout"
        }
      ]
    },
    {
      "cell_type": "code",
      "metadata": {
        "id": "kmpvDDWeeZdT",
        "colab_type": "code",
        "colab": {}
      },
      "source": [
        ""
      ],
      "execution_count": 0,
      "outputs": []
    },
    {
      "cell_type": "code",
      "metadata": {
        "id": "OWlTsJvzeeGp",
        "colab_type": "code",
        "outputId": "34a4357b-2602-4e59-dac5-b15ffdcc7a2e",
        "colab": {
          "base_uri": "https://localhost:8080/",
          "height": 52
        }
      },
      "source": [
        "print(a.index(True))\n",
        "print(a.index(77))\n",
        "#print(A.index(3))\n",
        "#print(a.index(89))"
      ],
      "execution_count": 0,
      "outputs": [
        {
          "output_type": "stream",
          "text": [
            "2\n",
            "4\n"
          ],
          "name": "stdout"
        }
      ]
    }
  ]
}