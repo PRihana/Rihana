{
  "nbformat": 4,
  "nbformat_minor": 0,
  "metadata": {
    "colab": {
      "name": "07-03.ipynb",
      "provenance": [],
      "authorship_tag": "ABX9TyMhAE5wV+u31qHV/5tolX2C",
      "include_colab_link": true
    },
    "kernelspec": {
      "name": "python3",
      "display_name": "Python 3"
    }
  },
  "cells": [
    {
      "cell_type": "markdown",
      "metadata": {
        "id": "view-in-github",
        "colab_type": "text"
      },
      "source": [
        "<a href=\"https://colab.research.google.com/github/PRihana/Rihana/blob/master/07_03.ipynb\" target=\"_parent\"><img src=\"https://colab.research.google.com/assets/colab-badge.svg\" alt=\"Open In Colab\"/></a>"
      ]
    },
    {
      "cell_type": "code",
      "metadata": {
        "id": "UxyBgZaKUWF0",
        "colab_type": "code",
        "outputId": "39674bc7-8e20-406c-fd08-e8f9d7f77a7b",
        "colab": {
          "base_uri": "https://localhost:8080/",
          "height": 104
        }
      },
      "source": [
        "#is to find out if the string  contains: alphanumeric characters, alphabetical characters, digits, lowercase and uppercase characters.\n",
        "s=input(\"enter a string\")\n",
        "print ([char.isalnum() for char in s])\n",
        "print ([char.isalpha() for char in s])\n",
        "print ([char.islower() for char in s])\n",
        "print ([char.isupper() for char in s])\n",
        "\n"
      ],
      "execution_count": 0,
      "outputs": [
        {
          "output_type": "stream",
          "text": [
            "enter a string123\n",
            "[True, True, True]\n",
            "[False, False, False]\n",
            "[False, False, False]\n",
            "[False, False, False]\n"
          ],
          "name": "stdout"
        }
      ]
    }
  ]
}