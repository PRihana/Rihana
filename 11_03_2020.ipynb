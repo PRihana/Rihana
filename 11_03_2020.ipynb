{
  "nbformat": 4,
  "nbformat_minor": 0,
  "metadata": {
    "colab": {
      "name": "11-03-2020.ipynb",
      "provenance": [],
      "authorship_tag": "ABX9TyNAcQs4TJFpy0cBZTp5tt+T",
      "include_colab_link": true
    },
    "kernelspec": {
      "name": "python3",
      "display_name": "Python 3"
    }
  },
  "cells": [
    {
      "cell_type": "markdown",
      "metadata": {
        "id": "view-in-github",
        "colab_type": "text"
      },
      "source": [
        "<a href=\"https://colab.research.google.com/github/PRihana/Rihana/blob/master/11_03_2020.ipynb\" target=\"_parent\"><img src=\"https://colab.research.google.com/assets/colab-badge.svg\" alt=\"Open In Colab\"/></a>"
      ]
    },
    {
      "cell_type": "code",
      "metadata": {
        "id": "UEvJN2EpEZ71",
        "colab_type": "code",
        "outputId": "6b8d0176-8c4e-4441-fb7b-7da5121678d4",
        "colab": {
          "base_uri": "https://localhost:8080/",
          "height": 35
        }
      },
      "source": [
        "#create list of list\n",
        "#[0,1,2,3,4,5,6,7,8,9][10,11,12,13,14,.......19].......[90,99]\n",
        "#range(0,10)\n",
        "#range(10,20)\n",
        "#range(20,30)\n",
        "#............\n",
        "#............\n",
        "#range(90,100)\n",
        "#find the 7th row 6th element"
      ],
      "execution_count": 0,
      "outputs": [
        {
          "output_type": "execute_result",
          "data": {
            "text/plain": [
              "range(90, 100)"
            ]
          },
          "metadata": {
            "tags": []
          },
          "execution_count": 59
        }
      ]
    },
    {
      "cell_type": "code",
      "metadata": {
        "id": "3m0_Gyc2F3OO",
        "colab_type": "code",
        "outputId": "5ef0bb59-e465-4426-e110-4be7401bcc96",
        "colab": {
          "base_uri": "https://localhost:8080/",
          "height": 35
        }
      },
      "source": [
        "out=[]\n",
        "for i in range(0,100,10):\n",
        "  out.append(list(range(i,i+10)))\n",
        "out[6][5]  "
      ],
      "execution_count": 0,
      "outputs": [
        {
          "output_type": "execute_result",
          "data": {
            "text/plain": [
              "65"
            ]
          },
          "metadata": {
            "tags": []
          },
          "execution_count": 1
        }
      ]
    },
    {
      "cell_type": "code",
      "metadata": {
        "id": "bcsN5fpcHIp1",
        "colab_type": "code",
        "outputId": "87cfd15a-7af3-446a-a30d-53c5d9913f92",
        "colab": {
          "base_uri": "https://localhost:8080/",
          "height": 35
        }
      },
      "source": [
        "#i/p:[27,24,56,12,19,30]\n",
        "#o/p:[27,576,56,144,19,900]\n",
        "a=[27,24,56,12,19,30]\n",
        "for i in range(1,len(a),2):\n",
        "  a[i]=a[i]*a[i]\n",
        "a  "
      ],
      "execution_count": 0,
      "outputs": [
        {
          "output_type": "execute_result",
          "data": {
            "text/plain": [
              "[27, 576, 56, 144, 19, 900]"
            ]
          },
          "metadata": {
            "tags": []
          },
          "execution_count": 2
        }
      ]
    },
    {
      "cell_type": "code",
      "metadata": {
        "id": "hpBbCPlMHw_4",
        "colab_type": "code",
        "outputId": "797ba401-2754-4702-8bdb-b84614a864c7",
        "colab": {
          "base_uri": "https://localhost:8080/",
          "height": 35
        }
      },
      "source": [
        "a=[27,24,56,12,19,30]\n",
        "i=2\n",
        "while i<len(a):\n",
        "      a[i]=a[i]*a[i]\n",
        "      i=i+2\n",
        "a      "
      ],
      "execution_count": 0,
      "outputs": [
        {
          "output_type": "execute_result",
          "data": {
            "text/plain": [
              "[27, 24, 3136, 12, 361, 30]"
            ]
          },
          "metadata": {
            "tags": []
          },
          "execution_count": 4
        }
      ]
    },
    {
      "cell_type": "code",
      "metadata": {
        "id": "v7neDo6AIqE5",
        "colab_type": "code",
        "outputId": "5d1c16ba-f3a3-45ee-e7fd-841e4847221b",
        "colab": {
          "base_uri": "https://localhost:8080/",
          "height": 35
        }
      },
      "source": [
        "a=[27,24,56,12,19,30]\n",
        "for i in range(len(a)):\n",
        "  if i%2==1:\n",
        "    a[i]=a[i]**2\n",
        "a    \n"
      ],
      "execution_count": 0,
      "outputs": [
        {
          "output_type": "execute_result",
          "data": {
            "text/plain": [
              "[27, 576, 56, 144, 19, 900]"
            ]
          },
          "metadata": {
            "tags": []
          },
          "execution_count": 3
        }
      ]
    },
    {
      "cell_type": "code",
      "metadata": {
        "id": "AprMYzaHJSCw",
        "colab_type": "code",
        "outputId": "d0bd4b97-676d-4268-eab3-384d27f5c061",
        "colab": {
          "base_uri": "https://localhost:8080/",
          "height": 35
        }
      },
      "source": [
        "# i/p : [27,24,12,19,30]\n",
        "# o/p : [27,576,144,19,900]\n",
        "a=[27,24,12,19,30]\n",
        "for i in range(len(a)):\n",
        "  if (a[i] % 6)==0:\n",
        "     a[i]=a[i]**2\n",
        "a   "
      ],
      "execution_count": 0,
      "outputs": [
        {
          "output_type": "execute_result",
          "data": {
            "text/plain": [
              "[27, 576, 144, 19, 900]"
            ]
          },
          "metadata": {
            "tags": []
          },
          "execution_count": 21
        }
      ]
    },
    {
      "cell_type": "code",
      "metadata": {
        "id": "xQ02k2ShMt2o",
        "colab_type": "code",
        "outputId": "60ea8e12-e9d2-4435-a263-293e90763a65",
        "colab": {
          "base_uri": "https://localhost:8080/",
          "height": 35
        }
      },
      "source": [
        "a=[27,24,12,19,30]\n",
        "b=[]\n",
        "for i in range(len(a)):\n",
        "  if (a[i] % 6)==0:\n",
        "    b.append(a[i]**2)\n",
        "  else:  \n",
        "    b.append(a[i])\n",
        "a   "
      ],
      "execution_count": 0,
      "outputs": [
        {
          "output_type": "execute_result",
          "data": {
            "text/plain": [
              "[27, 24, 12, 19, 30]"
            ]
          },
          "metadata": {
            "tags": []
          },
          "execution_count": 22
        }
      ]
    },
    {
      "cell_type": "code",
      "metadata": {
        "id": "jOiavwyhNjgM",
        "colab_type": "code",
        "outputId": "58d5ce69-7cce-4618-d174-841d439df0ec",
        "colab": {
          "base_uri": "https://localhost:8080/",
          "height": 35
        }
      },
      "source": [
        "a=[27,24,12,19,30]\n",
        "b=[]\n",
        "for i in a:\n",
        "  if (i % 6)==0:\n",
        "    b.append(i**2)\n",
        "  else:  \n",
        "    b.append(i)\n",
        "b   "
      ],
      "execution_count": 0,
      "outputs": [
        {
          "output_type": "execute_result",
          "data": {
            "text/plain": [
              "[27, 576, 144, 19, 900]"
            ]
          },
          "metadata": {
            "tags": []
          },
          "execution_count": 24
        }
      ]
    },
    {
      "cell_type": "code",
      "metadata": {
        "id": "mGHhm6WDPAnJ",
        "colab_type": "code",
        "outputId": "7ab82194-78eb-42c2-e349-e4dbc98304dd",
        "colab": {
          "base_uri": "https://localhost:8080/",
          "height": 52
        }
      },
      "source": [
        "a=[27,24,12,19,30]\n",
        "b=a\n",
        "for i in range(len(a)):\n",
        "  if (a[i] % 6)==0:\n",
        "    b[i]=b[i]**2\n",
        "print(a)\n",
        "print(b)    \n"
      ],
      "execution_count": 0,
      "outputs": [
        {
          "output_type": "stream",
          "text": [
            "[27, 576, 144, 19, 900]\n",
            "[27, 576, 144, 19, 900]\n"
          ],
          "name": "stdout"
        }
      ]
    },
    {
      "cell_type": "code",
      "metadata": {
        "id": "gPYNIBLtPvcK",
        "colab_type": "code",
        "outputId": "c7c851d4-632f-4323-d06d-6f7cdfaf1cfd",
        "colab": {
          "base_uri": "https://localhost:8080/",
          "height": 52
        }
      },
      "source": [
        "a=[27,24,12,19,30]\n",
        "b=a.copy()\n",
        "for i in range(len(a)):\n",
        "  if (a[i] % 6)==0:\n",
        "    b[i]=b[i]**2\n",
        "print(a)\n",
        "print(b)    \n"
      ],
      "execution_count": 0,
      "outputs": [
        {
          "output_type": "stream",
          "text": [
            "[27, 24, 12, 19, 30]\n",
            "[27, 576, 144, 19, 900]\n"
          ],
          "name": "stdout"
        }
      ]
    },
    {
      "cell_type": "code",
      "metadata": {
        "id": "L_wLUjTBP87h",
        "colab_type": "code",
        "outputId": "dc9b84ce-2501-4cc2-ba33-0151f6b4c9d2",
        "colab": {
          "base_uri": "https://localhost:8080/",
          "height": 52
        }
      },
      "source": [
        "a=[27,24,12,19,30]\n",
        "b=a[:]\n",
        "for i in range(len(a)):\n",
        "  if (a[i] % 6)==0:\n",
        "    b[i]=b[i]**2\n",
        "print(a)\n",
        "print(b)    \n"
      ],
      "execution_count": 0,
      "outputs": [
        {
          "output_type": "stream",
          "text": [
            "[27, 24, 12, 19, 30]\n",
            "[27, 576, 144, 19, 900]\n"
          ],
          "name": "stdout"
        }
      ]
    },
    {
      "cell_type": "code",
      "metadata": {
        "id": "BH1hbylVQ07H",
        "colab_type": "code",
        "colab": {}
      },
      "source": [
        "#TUPLE\n",
        "-empty tuple\n",
        "-tuple with on element\n",
        "-immutable\n",
        "-operations on tuple"
      ],
      "execution_count": 0,
      "outputs": []
    },
    {
      "cell_type": "code",
      "metadata": {
        "id": "xRf6Czv9RaxI",
        "colab_type": "code",
        "colab": {}
      },
      "source": [
        "t1=(1,34,67,3,7)"
      ],
      "execution_count": 0,
      "outputs": []
    },
    {
      "cell_type": "code",
      "metadata": {
        "id": "QdlUl50nRloT",
        "colab_type": "code",
        "outputId": "94261140-ea53-4da6-e136-77a79653d902",
        "colab": {
          "base_uri": "https://localhost:8080/",
          "height": 35
        }
      },
      "source": [
        "t=()\n",
        "print(type(t))"
      ],
      "execution_count": 0,
      "outputs": [
        {
          "output_type": "stream",
          "text": [
            "<class 'tuple'>\n"
          ],
          "name": "stdout"
        }
      ]
    },
    {
      "cell_type": "code",
      "metadata": {
        "colab_type": "code",
        "id": "YBriKfyfR_Zz",
        "outputId": "aadde296-a6ca-4e31-8e31-a08b884b2834",
        "colab": {
          "base_uri": "https://localhost:8080/",
          "height": 35
        }
      },
      "source": [
        "t1=(1,34,67,3,7)\n",
        "print(type(t1))"
      ],
      "execution_count": 0,
      "outputs": [
        {
          "output_type": "stream",
          "text": [
            "<class 'tuple'>\n"
          ],
          "name": "stdout"
        }
      ]
    },
    {
      "cell_type": "code",
      "metadata": {
        "id": "R4Vs_OuMWdT1",
        "colab_type": "code",
        "outputId": "096be363-335c-4cc1-b6dd-e9aaa59223fe",
        "colab": {
          "base_uri": "https://localhost:8080/",
          "height": 35
        }
      },
      "source": [
        "print(t1)"
      ],
      "execution_count": 0,
      "outputs": [
        {
          "output_type": "stream",
          "text": [
            "(1, 34, 67, 3, 7)\n"
          ],
          "name": "stdout"
        }
      ]
    },
    {
      "cell_type": "code",
      "metadata": {
        "id": "GZR2YVU7WhKY",
        "colab_type": "code",
        "outputId": "1f07180a-5cd4-46d3-e894-4da567104899",
        "colab": {
          "base_uri": "https://localhost:8080/",
          "height": 183
        }
      },
      "source": [
        "s='python'\n",
        "s[1]='y'"
      ],
      "execution_count": 0,
      "outputs": [
        {
          "output_type": "error",
          "ename": "TypeError",
          "evalue": "ignored",
          "traceback": [
            "\u001b[0;31m---------------------------------------------------------------------------\u001b[0m",
            "\u001b[0;31mTypeError\u001b[0m                                 Traceback (most recent call last)",
            "\u001b[0;32m<ipython-input-44-ac1491a7c018>\u001b[0m in \u001b[0;36m<module>\u001b[0;34m()\u001b[0m\n\u001b[1;32m      1\u001b[0m \u001b[0ms\u001b[0m\u001b[0;34m=\u001b[0m\u001b[0;34m'python'\u001b[0m\u001b[0;34m\u001b[0m\u001b[0;34m\u001b[0m\u001b[0m\n\u001b[0;32m----> 2\u001b[0;31m \u001b[0ms\u001b[0m\u001b[0;34m[\u001b[0m\u001b[0;36m1\u001b[0m\u001b[0;34m]\u001b[0m\u001b[0;34m=\u001b[0m\u001b[0;34m'y'\u001b[0m\u001b[0;34m\u001b[0m\u001b[0;34m\u001b[0m\u001b[0m\n\u001b[0m",
            "\u001b[0;31mTypeError\u001b[0m: 'str' object does not support item assignment"
          ]
        }
      ]
    },
    {
      "cell_type": "code",
      "metadata": {
        "colab_type": "code",
        "id": "JbaAOE62R9oV",
        "outputId": "106ecf7f-0c7f-44d6-c744-a90590a10c20",
        "colab": {
          "base_uri": "https://localhost:8080/",
          "height": 55
        }
      },
      "source": [
        "print(dir(t))"
      ],
      "execution_count": 0,
      "outputs": [
        {
          "output_type": "stream",
          "text": [
            "['__add__', '__class__', '__contains__', '__delattr__', '__dir__', '__doc__', '__eq__', '__format__', '__ge__', '__getattribute__', '__getitem__', '__getnewargs__', '__gt__', '__hash__', '__init__', '__init_subclass__', '__iter__', '__le__', '__len__', '__lt__', '__mul__', '__ne__', '__new__', '__reduce__', '__reduce_ex__', '__repr__', '__rmul__', '__setattr__', '__sizeof__', '__str__', '__subclasshook__', 'count', 'index']\n"
          ],
          "name": "stdout"
        }
      ]
    },
    {
      "cell_type": "code",
      "metadata": {
        "id": "pa5Zbzf1S-Jy",
        "colab_type": "code",
        "outputId": "929c4e2c-ef52-4b04-f0f4-0dadf060bd60",
        "colab": {
          "base_uri": "https://localhost:8080/",
          "height": 35
        }
      },
      "source": [
        "t1.count(1)"
      ],
      "execution_count": 0,
      "outputs": [
        {
          "output_type": "execute_result",
          "data": {
            "text/plain": [
              "1"
            ]
          },
          "metadata": {
            "tags": []
          },
          "execution_count": 45
        }
      ]
    },
    {
      "cell_type": "code",
      "metadata": {
        "id": "4ZRPtOLCSPk1",
        "colab_type": "code",
        "outputId": "45fcafc7-2da8-4408-da5e-28def874be49",
        "colab": {
          "base_uri": "https://localhost:8080/",
          "height": 69
        }
      },
      "source": [
        "print(t1)\n",
        "print(t1.count(1))\n",
        "print(t1.count(5))\n"
      ],
      "execution_count": 0,
      "outputs": [
        {
          "output_type": "stream",
          "text": [
            "(1, 34, 67, 3, 7)\n",
            "1\n",
            "0\n"
          ],
          "name": "stdout"
        }
      ]
    },
    {
      "cell_type": "code",
      "metadata": {
        "id": "kaEfWEcmW8n1",
        "colab_type": "code",
        "colab": {}
      },
      "source": [
        ""
      ],
      "execution_count": 0,
      "outputs": []
    },
    {
      "cell_type": "code",
      "metadata": {
        "colab_type": "code",
        "outputId": "9175b463-baa3-4ab3-ad24-5d607fdef65b",
        "id": "SmKf5zSHW9N3",
        "colab": {
          "base_uri": "https://localhost:8080/",
          "height": 235
        }
      },
      "source": [
        "print(t1)\n",
        "print(t1.index(1))\n",
        "print(t1.index(5))\n"
      ],
      "execution_count": 0,
      "outputs": [
        {
          "output_type": "stream",
          "text": [
            "(1, 34, 67, 3, 7)\n",
            "0\n"
          ],
          "name": "stdout"
        },
        {
          "output_type": "error",
          "ename": "ValueError",
          "evalue": "ignored",
          "traceback": [
            "\u001b[0;31m---------------------------------------------------------------------------\u001b[0m",
            "\u001b[0;31mValueError\u001b[0m                                Traceback (most recent call last)",
            "\u001b[0;32m<ipython-input-47-bb4f49394f2c>\u001b[0m in \u001b[0;36m<module>\u001b[0;34m()\u001b[0m\n\u001b[1;32m      1\u001b[0m \u001b[0mprint\u001b[0m\u001b[0;34m(\u001b[0m\u001b[0mt1\u001b[0m\u001b[0;34m)\u001b[0m\u001b[0;34m\u001b[0m\u001b[0;34m\u001b[0m\u001b[0m\n\u001b[1;32m      2\u001b[0m \u001b[0mprint\u001b[0m\u001b[0;34m(\u001b[0m\u001b[0mt1\u001b[0m\u001b[0;34m.\u001b[0m\u001b[0mindex\u001b[0m\u001b[0;34m(\u001b[0m\u001b[0;36m1\u001b[0m\u001b[0;34m)\u001b[0m\u001b[0;34m)\u001b[0m\u001b[0;34m\u001b[0m\u001b[0;34m\u001b[0m\u001b[0m\n\u001b[0;32m----> 3\u001b[0;31m \u001b[0mprint\u001b[0m\u001b[0;34m(\u001b[0m\u001b[0mt1\u001b[0m\u001b[0;34m.\u001b[0m\u001b[0mindex\u001b[0m\u001b[0;34m(\u001b[0m\u001b[0;36m5\u001b[0m\u001b[0;34m)\u001b[0m\u001b[0;34m)\u001b[0m\u001b[0;34m\u001b[0m\u001b[0;34m\u001b[0m\u001b[0m\n\u001b[0m",
            "\u001b[0;31mValueError\u001b[0m: tuple.index(x): x not in tuple"
          ]
        }
      ]
    },
    {
      "cell_type": "code",
      "metadata": {
        "id": "5_g2zwB7XhPW",
        "colab_type": "code",
        "colab": {}
      },
      "source": [
        "t2=(4,5)"
      ],
      "execution_count": 0,
      "outputs": []
    },
    {
      "cell_type": "code",
      "metadata": {
        "id": "MBTepNiBXFFb",
        "colab_type": "code",
        "outputId": "04a7a7df-e9c3-4424-970c-df33992e2bc7",
        "colab": {
          "base_uri": "https://localhost:8080/",
          "height": 35
        }
      },
      "source": [
        "t+t1"
      ],
      "execution_count": 0,
      "outputs": [
        {
          "output_type": "execute_result",
          "data": {
            "text/plain": [
              "(1, 34, 67, 3, 7)"
            ]
          },
          "metadata": {
            "tags": []
          },
          "execution_count": 55
        }
      ]
    },
    {
      "cell_type": "code",
      "metadata": {
        "id": "TNa_Tl48Sh35",
        "colab_type": "code",
        "outputId": "7ef19b00-bc2e-460d-f644-79b9564ee1f4",
        "colab": {
          "base_uri": "https://localhost:8080/",
          "height": 35
        }
      },
      "source": [
        "t2=(4,5)\n",
        "t1+t2"
      ],
      "execution_count": 0,
      "outputs": [
        {
          "output_type": "execute_result",
          "data": {
            "text/plain": [
              "(1, 34, 67, 3, 7, 4, 5)"
            ]
          },
          "metadata": {
            "tags": []
          },
          "execution_count": 53
        }
      ]
    },
    {
      "cell_type": "code",
      "metadata": {
        "id": "zHaxGNuSS0VG",
        "colab_type": "code",
        "outputId": "154e50ef-3f42-4e6a-b243-dd299be4da00",
        "colab": {
          "base_uri": "https://localhost:8080/",
          "height": 35
        }
      },
      "source": [
        "t1*2"
      ],
      "execution_count": 0,
      "outputs": [
        {
          "output_type": "execute_result",
          "data": {
            "text/plain": [
              "(1, 34, 67, 3, 7, 1, 34, 67, 3, 7)"
            ]
          },
          "metadata": {
            "tags": []
          },
          "execution_count": 51
        }
      ]
    },
    {
      "cell_type": "code",
      "metadata": {
        "id": "TGFGRaz6XPe2",
        "colab_type": "code",
        "outputId": "b00a5a41-7acb-4105-887f-a35a7e4ac0ad",
        "colab": {
          "base_uri": "https://localhost:8080/",
          "height": 35
        }
      },
      "source": [
        "t1==t2"
      ],
      "execution_count": 0,
      "outputs": [
        {
          "output_type": "execute_result",
          "data": {
            "text/plain": [
              "False"
            ]
          },
          "metadata": {
            "tags": []
          },
          "execution_count": 56
        }
      ]
    },
    {
      "cell_type": "code",
      "metadata": {
        "id": "iMThLxE5XqEm",
        "colab_type": "code",
        "outputId": "b2659801-bc71-4dbd-f21d-52fd258e65e4",
        "colab": {
          "base_uri": "https://localhost:8080/",
          "height": 35
        }
      },
      "source": [
        "t2>t1"
      ],
      "execution_count": 0,
      "outputs": [
        {
          "output_type": "execute_result",
          "data": {
            "text/plain": [
              "True"
            ]
          },
          "metadata": {
            "tags": []
          },
          "execution_count": 57
        }
      ]
    },
    {
      "cell_type": "code",
      "metadata": {
        "id": "BKuWXT4AXPJc",
        "colab_type": "code",
        "outputId": "3bf8d6dc-a308-4ba2-be62-39830a44a15d",
        "colab": {
          "base_uri": "https://localhost:8080/",
          "height": 35
        }
      },
      "source": [
        "(23,56)>(12,34,78)"
      ],
      "execution_count": 0,
      "outputs": [
        {
          "output_type": "execute_result",
          "data": {
            "text/plain": [
              "True"
            ]
          },
          "metadata": {
            "tags": []
          },
          "execution_count": 58
        }
      ]
    },
    {
      "cell_type": "markdown",
      "metadata": {
        "id": "iNFuJ2nWTVRD",
        "colab_type": "text"
      },
      "source": [
        "#sets"
      ]
    },
    {
      "cell_type": "code",
      "metadata": {
        "id": "CdkqT_NVTSOq",
        "colab_type": "code",
        "outputId": "fcb9d134-26a2-4f20-cc17-c62f34c21028",
        "colab": {
          "base_uri": "https://localhost:8080/",
          "height": 35
        }
      },
      "source": [
        "s={45,78,45,78,45,7}\n",
        "s"
      ],
      "execution_count": 0,
      "outputs": [
        {
          "output_type": "execute_result",
          "data": {
            "text/plain": [
              "{7, 45, 78}"
            ]
          },
          "metadata": {
            "tags": []
          },
          "execution_count": 83
        }
      ]
    },
    {
      "cell_type": "code",
      "metadata": {
        "id": "i4b6UqyeTyp-",
        "colab_type": "code",
        "outputId": "f2babcaa-b956-4490-e806-79f6850564d1",
        "colab": {
          "base_uri": "https://localhost:8080/",
          "height": 35
        }
      },
      "source": [
        "s1={}\n",
        "type(s1)"
      ],
      "execution_count": 0,
      "outputs": [
        {
          "output_type": "execute_result",
          "data": {
            "text/plain": [
              "dict"
            ]
          },
          "metadata": {
            "tags": []
          },
          "execution_count": 35
        }
      ]
    },
    {
      "cell_type": "code",
      "metadata": {
        "id": "-3Gmdt8hT-GB",
        "colab_type": "code",
        "outputId": "eec7ab63-a75a-48d4-daec-957027557766",
        "colab": {
          "base_uri": "https://localhost:8080/",
          "height": 35
        }
      },
      "source": [
        "s1=set()\n",
        "print(type(s1))"
      ],
      "execution_count": 0,
      "outputs": [
        {
          "output_type": "stream",
          "text": [
            "<class 'set'>\n"
          ],
          "name": "stdout"
        }
      ]
    },
    {
      "cell_type": "code",
      "metadata": {
        "id": "5yeUbLuMT94Q",
        "colab_type": "code",
        "outputId": "edbfbf19-f240-448c-f97b-e6302018d06a",
        "colab": {
          "base_uri": "https://localhost:8080/",
          "height": 35
        }
      },
      "source": [
        "unique=list(s)\n",
        "unique"
      ],
      "execution_count": 0,
      "outputs": [
        {
          "output_type": "execute_result",
          "data": {
            "text/plain": [
              "[45, 78, 7]"
            ]
          },
          "metadata": {
            "tags": []
          },
          "execution_count": 37
        }
      ]
    },
    {
      "cell_type": "code",
      "metadata": {
        "id": "1bVktFgtT9ry",
        "colab_type": "code",
        "outputId": "42f91a35-5864-48b7-b13a-f62efb852aa2",
        "colab": {
          "base_uri": "https://localhost:8080/",
          "height": 55
        }
      },
      "source": [
        "print(dir(s))"
      ],
      "execution_count": 0,
      "outputs": [
        {
          "output_type": "stream",
          "text": [
            "['__and__', '__class__', '__contains__', '__delattr__', '__dir__', '__doc__', '__eq__', '__format__', '__ge__', '__getattribute__', '__gt__', '__hash__', '__iand__', '__init__', '__init_subclass__', '__ior__', '__isub__', '__iter__', '__ixor__', '__le__', '__len__', '__lt__', '__ne__', '__new__', '__or__', '__rand__', '__reduce__', '__reduce_ex__', '__repr__', '__ror__', '__rsub__', '__rxor__', '__setattr__', '__sizeof__', '__str__', '__sub__', '__subclasshook__', '__xor__', 'add', 'clear', 'copy', 'difference', 'difference_update', 'discard', 'intersection', 'intersection_update', 'isdisjoint', 'issubset', 'issuperset', 'pop', 'remove', 'symmetric_difference', 'symmetric_difference_update', 'union', 'update']\n"
          ],
          "name": "stdout"
        }
      ]
    },
    {
      "cell_type": "code",
      "metadata": {
        "id": "c4y2HO79UuQk",
        "colab_type": "code",
        "outputId": "33479c21-2554-4776-c25c-3cd3a2f13781",
        "colab": {
          "base_uri": "https://localhost:8080/",
          "height": 139
        }
      },
      "source": [
        "help(s.difference)"
      ],
      "execution_count": 0,
      "outputs": [
        {
          "output_type": "stream",
          "text": [
            "Help on built-in function difference:\n",
            "\n",
            "difference(...) method of builtins.set instance\n",
            "    Return the difference of two or more sets as a new set.\n",
            "    \n",
            "    (i.e. all elements that are in this set but not the others.)\n",
            "\n"
          ],
          "name": "stdout"
        }
      ]
    },
    {
      "cell_type": "code",
      "metadata": {
        "id": "GG2KUq_yUuN8",
        "colab_type": "code",
        "outputId": "c6f252d8-44cd-497c-ca12-6cb02f966647",
        "colab": {
          "base_uri": "https://localhost:8080/",
          "height": 69
        }
      },
      "source": [
        "s1={23,45,67,23,45,4}\n",
        "s2={2,3,4,45,3,4}\n",
        "s3={100,2,3}\n",
        "print(s1.difference(s2))\n",
        "print(s2.difference(s1))\n",
        "print(s1.difference(s2,s3))\n"
      ],
      "execution_count": 0,
      "outputs": [
        {
          "output_type": "stream",
          "text": [
            "{67, 23}\n",
            "{2, 3}\n",
            "{67, 23}\n"
          ],
          "name": "stdout"
        }
      ]
    },
    {
      "cell_type": "code",
      "metadata": {
        "id": "bhe-UOAUUuLN",
        "colab_type": "code",
        "colab": {}
      },
      "source": [
        "# Read the input from keyboard\n",
        "# i/p  \"23 44 67 92 99\"\n",
        "# o/p : [3,4,7,2,9]\n",
        "# Try the problem in two ways\n",
        "    # to update the same list \n",
        "    # to create a new list\n",
        " "
      ],
      "execution_count": 0,
      "outputs": []
    },
    {
      "cell_type": "code",
      "metadata": {
        "id": "Qe6HBFMN5xpf",
        "colab_type": "code",
        "outputId": "9ec93208-4733-4a94-b5d7-9b12a4193853",
        "colab": {
          "base_uri": "https://localhost:8080/",
          "height": 35
        }
      },
      "source": [
        "s=input()\n",
        "nums=s.split()"
      ],
      "execution_count": 0,
      "outputs": [
        {
          "output_type": "stream",
          "text": [
            "23 44 67 92 99\n"
          ],
          "name": "stdout"
        }
      ]
    },
    {
      "cell_type": "code",
      "metadata": {
        "id": "hOm15qr_3By0",
        "colab_type": "code",
        "outputId": "3b46ac5a-a529-401a-e707-e07c76343d46",
        "colab": {
          "base_uri": "https://localhost:8080/",
          "height": 52
        }
      },
      "source": [
        "s=input()\n",
        "nums=s.split()\n",
        "out=[]\n",
        "for i in nums:\n",
        "  out.append(int(i[-1]))\n",
        "print(out)     \n"
      ],
      "execution_count": 0,
      "outputs": [
        {
          "output_type": "stream",
          "text": [
            "23 44 67 92 99\n",
            "[3, 4, 7, 2, 9]\n"
          ],
          "name": "stdout"
        }
      ]
    },
    {
      "cell_type": "code",
      "metadata": {
        "id": "Jrd181do47_f",
        "colab_type": "code",
        "outputId": "6a1610f5-b150-49ef-e015-1fde5d5d9d52",
        "colab": {
          "base_uri": "https://localhost:8080/",
          "height": 69
        }
      },
      "source": [
        "s=input()\n",
        "nums=input().split()\n",
        "for i in range(len(nums)):\n",
        "  nums[i]=int(nums[i][-1])\n",
        "nums  "
      ],
      "execution_count": 0,
      "outputs": [
        {
          "output_type": "stream",
          "text": [
            "23 44 67 92 99\n",
            "3 4 7 2 9\n"
          ],
          "name": "stdout"
        },
        {
          "output_type": "execute_result",
          "data": {
            "text/plain": [
              "[3, 4, 7, 2, 9]"
            ]
          },
          "metadata": {
            "tags": []
          },
          "execution_count": 77
        }
      ]
    },
    {
      "cell_type": "code",
      "metadata": {
        "id": "y4TSM123UuFY",
        "colab_type": "code",
        "outputId": "e5933472-cd22-426e-c891-2531a9ba4fb5",
        "colab": {
          "base_uri": "https://localhost:8080/",
          "height": 102
        }
      },
      "source": [
        "# Read the inputs from keyboard\n",
        "# i/p1: \"10 20 30 60 99\"\n",
        "# i/p2: \"7 6 9 11 9\"\n",
        "a=input().split()\n",
        "b=input().split()\n",
        "print(a)\n",
        "print(b)\n",
        "for i in range(len(a)):\n",
        "  a[i]=int(a[i])\n",
        "  b[i]=int(b[i])\n",
        "print(a)  \n",
        "\n",
        "# o/p1: [3,2,3,5,0]\n",
        "# o/p2:[1,3,3,5,11] "
      ],
      "execution_count": 0,
      "outputs": [
        {
          "output_type": "stream",
          "text": [
            "10 20 30 60 99\n",
            "7 6 9 11 9\n",
            "['10', '20', '30', '60', '99']\n",
            "['7', '6', '9', '11', '9']\n",
            "[10, 20, 30, 60, 99]\n"
          ],
          "name": "stdout"
        }
      ]
    },
    {
      "cell_type": "code",
      "metadata": {
        "id": "dzD1QT10-klB",
        "colab_type": "code",
        "colab": {}
      },
      "source": [
        "\n",
        "a=input().split()\n",
        "b=input().split()\n",
        "print(a)\n",
        "print(b)\n",
        "out1=[]\n",
        "out2=[]\n",
        "for i in range(len(a)):\n",
        "  a[i]=int(a[i])\n",
        "  b[i]=int(b[i])\n",
        "  out.append(a[i]%b[i])\n",
        "  out.append(a[i]//b[i])\n",
        "print(out1)\n",
        "print(out2)  \n"
      ],
      "execution_count": 0,
      "outputs": []
    },
    {
      "cell_type": "code",
      "metadata": {
        "id": "2abYOBP8UuDR",
        "colab_type": "code",
        "colab": {}
      },
      "source": [
        "# Read the inputs from keyboard\n",
        "# i/p1: \"10 20 30 60 99\"\n",
        "# i/p2: \"7 6 9 11 9\"\n",
        "# i/p3: \"56 78 89 9 52\"\n",
        "#o/p [[10,20,30,60,99],[7,6,9,11,9],[56,78,89,9,52]]\n"
      ],
      "execution_count": 0,
      "outputs": []
    },
    {
      "cell_type": "code",
      "metadata": {
        "id": "IIlIRBW-IFin",
        "colab_type": "code",
        "outputId": "54da3ee7-bb6c-41bd-81b6-762fd53bd956",
        "colab": {
          "base_uri": "https://localhost:8080/",
          "height": 87
        }
      },
      "source": [
        "out=[]\n",
        "for i in range(3):\n",
        "    a=input().split()\n",
        "    for j in range(len(a)):\n",
        "      a[j]=int(a[j])\n",
        "    out.append(a)\n",
        "out      "
      ],
      "execution_count": 0,
      "outputs": [
        {
          "output_type": "stream",
          "text": [
            "10 20 30 60 99\n",
            "7 6 9 11 9\n",
            "56 78 89 9 52\n"
          ],
          "name": "stdout"
        },
        {
          "output_type": "execute_result",
          "data": {
            "text/plain": [
              "[[10, 20, 30, 60, 99], [7, 6, 9, 11, 9], [56, 78, 89, 9, 52]]"
            ]
          },
          "metadata": {
            "tags": []
          },
          "execution_count": 84
        }
      ]
    },
    {
      "cell_type": "code",
      "metadata": {
        "id": "YJowFoisUuAM",
        "colab_type": "code",
        "colab": {}
      },
      "source": [
        "# Get the input from keyboard How many names you want to read\n",
        "# Read the names from keybord one by one. Store them in a list.\n",
        "# update the same list with names as lowercase letters\n",
        "# Get the names in a new list as output which starts with vowels\n",
        "# Get the names in a new list which ends with consonants\n",
        "# Get the names in a new list which will starts with vowels and ends with consonants\n",
        "# Get the names in new list which will start with consonats and ends with vowel\n",
        "# Get the names in a list which have length in range(5,10). Both 5 and 10 are inclusive"
      ],
      "execution_count": 0,
      "outputs": []
    },
    {
      "cell_type": "code",
      "metadata": {
        "id": "8K8gE7eMNaaE",
        "colab_type": "code",
        "outputId": "e6df4d81-70fb-4dc8-e155-b1761c2f02e2",
        "colab": {
          "base_uri": "https://localhost:8080/",
          "height": 69
        }
      },
      "source": [
        "# Get the input from keyboard Hoiw many names you want to read\n",
        "# Read the names from keybord one by one. Store them in a list.\n",
        "# update the same list with names as lowercase letters\n",
        "n=int(input())\n",
        "names=[]\n",
        "for i in range(n):\n",
        "  names.append(input().lower())\n",
        "  \n",
        "\n"
      ],
      "execution_count": 0,
      "outputs": [
        {
          "output_type": "stream",
          "text": [
            "2\n",
            "pyhton\n",
            "java\n"
          ],
          "name": "stdout"
        }
      ]
    },
    {
      "cell_type": "code",
      "metadata": {
        "id": "F37vMGJgN-pd",
        "colab_type": "code",
        "outputId": "4c15b1b2-33d2-4bc0-b8a1-bc17c3defd30",
        "colab": {
          "base_uri": "https://localhost:8080/",
          "height": 35
        }
      },
      "source": [
        "names"
      ],
      "execution_count": 0,
      "outputs": [
        {
          "output_type": "execute_result",
          "data": {
            "text/plain": [
              "['pyhton', 'java']"
            ]
          },
          "metadata": {
            "tags": []
          },
          "execution_count": 88
        }
      ]
    },
    {
      "cell_type": "code",
      "metadata": {
        "id": "PAQfSBTZsyPe",
        "colab_type": "code",
        "colab": {}
      },
      "source": [
        "out = []\n",
        "for name in names:\n",
        "    if len(names)>=5 and len(name)<=10:\n",
        "        out.append(name)\n",
        "out"
      ],
      "execution_count": 0,
      "outputs": []
    },
    {
      "cell_type": "code",
      "metadata": {
        "id": "Q-0Jhll4T9bY",
        "colab_type": "code",
        "colab": {}
      },
      "source": [
        "# Read the emails of a string from keyboard until the user enters 'done'.\n",
        "# From the mails get the domin names of the mails in list\n",
        "# example \"ml.ai@gmail.com\" , domain is \"gmail.com\" here"
      ],
      "execution_count": 0,
      "outputs": []
    },
    {
      "cell_type": "code",
      "metadata": {
        "id": "F9aHB_wcwXei",
        "colab_type": "code",
        "colab": {}
      },
      "source": [
        "# read the number of students from user\n",
        "# Read the details of students into a list. Each sublist contains below details\n",
        "    # studentName,RollNumber,Marks,Language in a single line\n",
        "    # example \"raj,416,56,python\"\n",
        "# Create a list in which \n",
        "    # each sublist conatains three elements\n",
        "        # First element is a tuple contains name and roll number\n",
        "        # second element is marks\n",
        "        # third element is language \n",
        "# From the list get the  different languages avaialble in the data"
      ],
      "execution_count": 0,
      "outputs": []
    },
    {
      "cell_type": "code",
      "metadata": {
        "id": "zS7PHHkxwXYh",
        "colab_type": "code",
        "colab": {}
      },
      "source": [
        "# read two lists from user. Two list conatins the names of students\n",
        "# Get the names which are there in both lists\n",
        "# Get the names which are there in alteast one list\n",
        "# Get the names which are there in list1 not there in list2\n",
        "# Get the names which are there in list2 not there in list1"
      ],
      "execution_count": 0,
      "outputs": []
    },
    {
      "cell_type": "code",
      "metadata": {
        "id": "MWd24nS6wYAE",
        "colab_type": "code",
        "colab": {}
      },
      "source": [
        "# Craete multipliaction table of a number\n",
        "# Read the number from user\n",
        "# Example :3\n",
        "3 * 1 = 3\n",
        "3 * 2 = 6\n",
        "'''''''\n",
        "''''''\n",
        "3 * 10 = 30\n",
        "# Later modify the code so that you can read the lower bound and upperbound for the table. \n",
        "# for the above case lowerbound is 1 and upper bound is 10"
      ],
      "execution_count": 0,
      "outputs": []
    },
    {
      "cell_type": "code",
      "metadata": {
        "id": "SKQnZqRrwX9l",
        "colab_type": "code",
        "colab": {}
      },
      "source": [
        "# take a list of numbers or names with repetetive values\n",
        "# Get a list as output\n",
        "    # each sublist has the number and how many times it is there in the list\n",
        "# The ouput shoud be in sorted order based on count.\n",
        "# If the count is equal different numbers. Sort them based on numbers\n",
        "# Example : [23,45,23,77,67,45,45,2,3,3,2,3]\n",
        "# output :[[3,3],[45,3],[2,2],[23,2],[67,1],[77,1]]"
      ],
      "execution_count": 0,
      "outputs": []
    }
  ]
}