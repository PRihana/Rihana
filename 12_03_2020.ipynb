{
  "nbformat": 4,
  "nbformat_minor": 0,
  "metadata": {
    "colab": {
      "name": "12-03-2020.ipynb",
      "provenance": [],
      "authorship_tag": "ABX9TyMaLZFz9W+To9XOoaHYDrNH",
      "include_colab_link": true
    },
    "kernelspec": {
      "name": "python3",
      "display_name": "Python 3"
    }
  },
  "cells": [
    {
      "cell_type": "markdown",
      "metadata": {
        "id": "view-in-github",
        "colab_type": "text"
      },
      "source": [
        "<a href=\"https://colab.research.google.com/github/PRihana/Rihana/blob/master/12_03_2020.ipynb\" target=\"_parent\"><img src=\"https://colab.research.google.com/assets/colab-badge.svg\" alt=\"Open In Colab\"/></a>"
      ]
    },
    {
      "cell_type": "code",
      "metadata": {
        "id": "ooeMGRMwt-nt",
        "colab_type": "code",
        "outputId": "0cd50c00-ac0f-4627-b208-68684912ca85",
        "colab": {
          "base_uri": "https://localhost:8080/",
          "height": 119
        }
      },
      "source": [
        "# Read the emails of a string from keyboard until the user enters 'done'.\n",
        "# From the mails get the domin names of the mails in list\n",
        "# example \"ml.ai@gmail.com\" , domain is \"gmail.com\" here\n",
        "emails=[]\n",
        "while True:\n",
        "    email = input()\n",
        "    if email == \"done\":\n",
        "        break\n",
        "    else:\n",
        "        emails.append(email)\n",
        "print(emails)"
      ],
      "execution_count": 0,
      "outputs": [
        {
          "output_type": "stream",
          "text": [
            "818@gmail.com\n",
            "rihan@gmail.com\n",
            "anjali@gmail.com\n",
            "chandu@yahoo.com\n",
            "done\n",
            "['818@gmail.com', 'rihan@gmail.com', 'anjali@gmail.com', 'chandu@yahoo.com']\n"
          ],
          "name": "stdout"
        }
      ]
    },
    {
      "cell_type": "code",
      "metadata": {
        "id": "DnxnrXHqvKzj",
        "colab_type": "code",
        "outputId": "c71288a9-7941-47d1-c122-1c55d446fad8",
        "colab": {
          "base_uri": "https://localhost:8080/",
          "height": 34
        }
      },
      "source": [
        "domains=[]\n",
        "for i in range(len(emails)):\n",
        "    domains.append(emails[i].split('@')[-1])\n",
        "domains"
      ],
      "execution_count": 0,
      "outputs": [
        {
          "output_type": "execute_result",
          "data": {
            "text/plain": [
              "['gmail.com', 'gmail.com', 'gmail.com', 'yahoo.com']"
            ]
          },
          "metadata": {
            "tags": []
          },
          "execution_count": 7
        }
      ]
    },
    {
      "cell_type": "code",
      "metadata": {
        "id": "ZymKRjJpvO7q",
        "colab_type": "code",
        "outputId": "7837b899-393b-418c-f831-0b634cd9242f",
        "colab": {
          "base_uri": "https://localhost:8080/",
          "height": 231
        }
      },
      "source": [
        "# how many emails are there with domain'gmail.com'\n",
        "emails = ['818@gmail.com']\n",
        "rihan@gmail.com\n",
        "anjali@gmail.com\n",
        "chandu@yahoo.com\n",
        "emails"
      ],
      "execution_count": 0,
      "outputs": [
        {
          "output_type": "error",
          "ename": "NameError",
          "evalue": "ignored",
          "traceback": [
            "\u001b[0;31m---------------------------------------------------------------------------\u001b[0m",
            "\u001b[0;31mNameError\u001b[0m                                 Traceback (most recent call last)",
            "\u001b[0;32m<ipython-input-8-6e5856c0f5de>\u001b[0m in \u001b[0;36m<module>\u001b[0;34m()\u001b[0m\n\u001b[1;32m      1\u001b[0m \u001b[0memails\u001b[0m \u001b[0;34m=\u001b[0m \u001b[0;34m[\u001b[0m\u001b[0;34m'818@gmail.com'\u001b[0m\u001b[0;34m]\u001b[0m\u001b[0;34m\u001b[0m\u001b[0;34m\u001b[0m\u001b[0m\n\u001b[0;32m----> 2\u001b[0;31m \u001b[0mrihan\u001b[0m\u001b[0;34m@\u001b[0m\u001b[0mgmail\u001b[0m\u001b[0;34m.\u001b[0m\u001b[0mcom\u001b[0m\u001b[0;34m\u001b[0m\u001b[0;34m\u001b[0m\u001b[0m\n\u001b[0m\u001b[1;32m      3\u001b[0m \u001b[0manjali\u001b[0m\u001b[0;34m@\u001b[0m\u001b[0mgmail\u001b[0m\u001b[0;34m.\u001b[0m\u001b[0mcom\u001b[0m\u001b[0;34m\u001b[0m\u001b[0;34m\u001b[0m\u001b[0m\n\u001b[1;32m      4\u001b[0m \u001b[0mchandu\u001b[0m\u001b[0;34m@\u001b[0m\u001b[0myahoo\u001b[0m\u001b[0;34m.\u001b[0m\u001b[0mcom\u001b[0m\u001b[0;34m\u001b[0m\u001b[0;34m\u001b[0m\u001b[0m\n\u001b[1;32m      5\u001b[0m \u001b[0memails\u001b[0m\u001b[0;34m\u001b[0m\u001b[0;34m\u001b[0m\u001b[0m\n",
            "\u001b[0;31mNameError\u001b[0m: name 'rihan' is not defined"
          ]
        }
      ]
    },
    {
      "cell_type": "code",
      "metadata": {
        "id": "rAT6DXEUvO39",
        "colab_type": "code",
        "outputId": "276130e7-30df-432e-ba81-cd29fb364b66",
        "colab": {
          "base_uri": "https://localhost:8080/",
          "height": 34
        }
      },
      "source": [
        "c=0\n",
        "for i in range(len(emails)):\n",
        "    if emails[i].split('@')[-1]==\"gmail.com\":\n",
        "        c += 1\n",
        "print(c)"
      ],
      "execution_count": 0,
      "outputs": [
        {
          "output_type": "stream",
          "text": [
            "1\n"
          ],
          "name": "stdout"
        }
      ]
    },
    {
      "cell_type": "code",
      "metadata": {
        "id": "Xv_p_e3EvO1Z",
        "colab_type": "code",
        "outputId": "e029be5e-486b-4665-95f4-846b9044de4a",
        "colab": {
          "base_uri": "https://localhost:8080/",
          "height": 34
        }
      },
      "source": [
        "# get the unique domain names from the list domain\n",
        "unique_domains=[]\n",
        "for i in domains:\n",
        "    if i not in unique_domains:\n",
        "        unique_domains.append(i)\n",
        "unique_domains"
      ],
      "execution_count": 0,
      "outputs": [
        {
          "output_type": "execute_result",
          "data": {
            "text/plain": [
              "['gmail.com', 'yahoo.com']"
            ]
          },
          "metadata": {
            "tags": []
          },
          "execution_count": 10
        }
      ]
    },
    {
      "cell_type": "code",
      "metadata": {
        "id": "v1-INWDlvOxJ",
        "colab_type": "code",
        "outputId": "adaa55cf-48bd-4b52-a59c-887c3194dba0",
        "colab": {
          "base_uri": "https://localhost:8080/",
          "height": 85
        }
      },
      "source": [
        "print(emails)\n",
        "print(domains)\n",
        "print(domains.count(\"gmail.com\"))\n",
        "print(unique_domains)"
      ],
      "execution_count": 0,
      "outputs": [
        {
          "output_type": "stream",
          "text": [
            "['818@gmail.com']\n",
            "['gmail.com', 'gmail.com', 'gmail.com', 'yahoo.com']\n",
            "3\n",
            "['gmail.com', 'yahoo.com']\n"
          ],
          "name": "stdout"
        }
      ]
    },
    {
      "cell_type": "code",
      "metadata": {
        "id": "Fk0ijP20w5g5",
        "colab_type": "code",
        "outputId": "e4642c43-4852-4280-be85-a370341c1271",
        "colab": {
          "base_uri": "https://localhost:8080/",
          "height": 51
        }
      },
      "source": [
        "print(domains.count(\"gmail.com\"))\n",
        "print(domains.count(\"yahoo.in\"))"
      ],
      "execution_count": 0,
      "outputs": [
        {
          "output_type": "stream",
          "text": [
            "3\n",
            "0\n"
          ],
          "name": "stdout"
        }
      ]
    },
    {
      "cell_type": "code",
      "metadata": {
        "id": "6UpuY9Ojw49u",
        "colab_type": "code",
        "outputId": "537a534a-764a-4e39-c2a7-c52149b5d433",
        "colab": {
          "base_uri": "https://localhost:8080/",
          "height": 34
        }
      },
      "source": [
        "domains_count = []\n",
        "for i in unique_domains:\n",
        "    domains_count.append([i,domains.count(i)])\n",
        "domains_count"
      ],
      "execution_count": 0,
      "outputs": [
        {
          "output_type": "execute_result",
          "data": {
            "text/plain": [
              "[['gmail.com', 3], ['yahoo.com', 1]]"
            ]
          },
          "metadata": {
            "tags": []
          },
          "execution_count": 13
        }
      ]
    },
    {
      "cell_type": "code",
      "metadata": {
        "id": "0T59u6BdvOvb",
        "colab_type": "code",
        "outputId": "05bd5e42-981d-49cb-a883-cafc6e33805f",
        "colab": {
          "base_uri": "https://localhost:8080/",
          "height": 34
        }
      },
      "source": [
        "domains_count = []\n",
        "for i in domains:\n",
        "    domains_count.append([i,domains.count(i)])\n",
        "domains_count"
      ],
      "execution_count": 0,
      "outputs": [
        {
          "output_type": "execute_result",
          "data": {
            "text/plain": [
              "[['gmail.com', 3], ['gmail.com', 3], ['gmail.com', 3], ['yahoo.com', 1]]"
            ]
          },
          "metadata": {
            "tags": []
          },
          "execution_count": 14
        }
      ]
    },
    {
      "cell_type": "code",
      "metadata": {
        "id": "E0kwIkRFvKud",
        "colab_type": "code",
        "colab": {}
      },
      "source": [
        "# Read the emails of a string from keyboard until the user enters 'done'.\n",
        "# From the mails get the domin names of the mails in list\n",
        "# example \"ml.ai@gmail.com\" , domain is \"gmail.com\" here\n",
        "emails=[]\n",
        "while True:\n",
        "    email = input()\n",
        "    emails.append(email)\n",
        "    if email == \"done\":\n",
        "        break\n",
        "print(emails)"
      ],
      "execution_count": 0,
      "outputs": []
    },
    {
      "cell_type": "code",
      "metadata": {
        "id": "0rVLGkOWzvUR",
        "colab_type": "code",
        "outputId": "75d660d2-3b36-43a5-9f01-30045e0f4aff",
        "colab": {
          "base_uri": "https://localhost:8080/",
          "height": 85
        }
      },
      "source": [
        "emails=[]\n",
        "while True:\n",
        "    email = input()\n",
        "    if email == \"done\":\n",
        "        emails.append(email)\n",
        "        break\n",
        "print(emails)"
      ],
      "execution_count": 0,
      "outputs": [
        {
          "output_type": "stream",
          "text": [
            "hi\n",
            "hello\n",
            "done\n",
            "['done']\n"
          ],
          "name": "stdout"
        }
      ]
    },
    {
      "cell_type": "code",
      "metadata": {
        "id": "Gn97OT4NzvPj",
        "colab_type": "code",
        "outputId": "271db526-ef01-4ec1-8087-e961bb812ca5",
        "colab": {
          "base_uri": "https://localhost:8080/",
          "height": 34
        }
      },
      "source": [
        "tuple([1,2,3])"
      ],
      "execution_count": 0,
      "outputs": [
        {
          "output_type": "execute_result",
          "data": {
            "text/plain": [
              "(1, 2, 3)"
            ]
          },
          "metadata": {
            "tags": []
          },
          "execution_count": 17
        }
      ]
    },
    {
      "cell_type": "code",
      "metadata": {
        "id": "Zwgiq5jezvJV",
        "colab_type": "code",
        "colab": {}
      },
      "source": [
        "# read the number of students from user\n",
        "# Read the details of students into a list. Each sublist contains below details\n",
        "    # studentName,RollNumber,Marks,Language in a single line\n",
        "    # example \"raj,416,56,python\"\n",
        "# Create a list in which \n",
        "    # each sublist conatains three elements\n",
        "        # First element is a tuple contains name and roll number\n",
        "        # second element is marks\n",
        "        # third element is language \n",
        "# From the list get the  different languages avaialble in the data\n"
      ],
      "execution_count": 0,
      "outputs": []
    },
    {
      "cell_type": "code",
      "metadata": {
        "id": "dhzM4RBrzvGn",
        "colab_type": "code",
        "outputId": "3c4df094-1aba-442f-b616-e2a1ec46e36e",
        "colab": {
          "base_uri": "https://localhost:8080/",
          "height": 51
        }
      },
      "source": [
        "s = input().split()\n",
        "s[1] =int(s[1])\n",
        "s[2] = int(s[2])\n",
        "s1 = [tuple(s[0:2]),s[2],s[3]]\n",
        "s1"
      ],
      "execution_count": 0,
      "outputs": [
        {
          "output_type": "stream",
          "text": [
            "Rakesh 345 56 python\n"
          ],
          "name": "stdout"
        },
        {
          "output_type": "execute_result",
          "data": {
            "text/plain": [
              "[('Rakesh', 345), 56, 'python']"
            ]
          },
          "metadata": {
            "tags": []
          },
          "execution_count": 18
        }
      ]
    },
    {
      "cell_type": "code",
      "metadata": {
        "id": "IddJGgrgzvDE",
        "colab_type": "code",
        "outputId": "2732b67b-3613-44f0-da3d-20c6067f1d52",
        "colab": {
          "base_uri": "https://localhost:8080/",
          "height": 136
        }
      },
      "source": [
        "n = int(input())\n",
        "students = []\n",
        "for i in range(n):\n",
        "    s = input().split()\n",
        "    s[1] =int(s[1])\n",
        "    s[2] = int(s[2])\n",
        "    s1 = [tuple(s[0:2]),s[2],s[3]]\n",
        "    students.append(s1)\n",
        "students\n"
      ],
      "execution_count": 0,
      "outputs": [
        {
          "output_type": "stream",
          "text": [
            "3\n",
            "Rakesh 345 56 python\n",
            "Raj 312 98 C\n",
            "Hari 678 67 python\n"
          ],
          "name": "stdout"
        },
        {
          "output_type": "execute_result",
          "data": {
            "text/plain": [
              "[[('Rakesh', 345), 56, 'python'],\n",
              " [('Raj', 312), 98, 'C'],\n",
              " [('Hari', 678), 67, 'python']]"
            ]
          },
          "metadata": {
            "tags": []
          },
          "execution_count": 20
        }
      ]
    },
    {
      "cell_type": "code",
      "metadata": {
        "id": "W0NRszaCzu6I",
        "colab_type": "code",
        "outputId": "b6110467-a2ae-4894-a298-770c4af1507e",
        "colab": {
          "base_uri": "https://localhost:8080/",
          "height": 34
        }
      },
      "source": [
        "languages = []\n",
        "for i in range(len(students)):\n",
        "    languages.append(students[i][2])\n",
        "languages"
      ],
      "execution_count": 0,
      "outputs": [
        {
          "output_type": "execute_result",
          "data": {
            "text/plain": [
              "['python', 'C', 'python']"
            ]
          },
          "metadata": {
            "tags": []
          },
          "execution_count": 21
        }
      ]
    },
    {
      "cell_type": "code",
      "metadata": {
        "id": "qGFqRTVr1l7G",
        "colab_type": "code",
        "outputId": "8fd440de-f6f0-4c68-b7ca-544a0f615e5f",
        "colab": {
          "base_uri": "https://localhost:8080/",
          "height": 34
        }
      },
      "source": [
        "list(set(languages))"
      ],
      "execution_count": 0,
      "outputs": [
        {
          "output_type": "execute_result",
          "data": {
            "text/plain": [
              "['python', 'C']"
            ]
          },
          "metadata": {
            "tags": []
          },
          "execution_count": 22
        }
      ]
    },
    {
      "cell_type": "code",
      "metadata": {
        "id": "1RfC_Bd91l3X",
        "colab_type": "code",
        "outputId": "a0af9a5e-48a6-4462-f5f2-f315283dc0a7",
        "colab": {
          "base_uri": "https://localhost:8080/",
          "height": 34
        }
      },
      "source": [
        "#get the marks of the student with roll number 678\n",
        "for i in range(len(students)):\n",
        "    if students[i][0][1]==678:\n",
        "        print(students[i][1])"
      ],
      "execution_count": 0,
      "outputs": [
        {
          "output_type": "stream",
          "text": [
            "67\n"
          ],
          "name": "stdout"
        }
      ]
    },
    {
      "cell_type": "code",
      "metadata": {
        "id": "mrf6zTL_1lwQ",
        "colab_type": "code",
        "outputId": "aff95421-53fe-4ee5-c735-bbea6460a7db",
        "colab": {
          "base_uri": "https://localhost:8080/",
          "height": 34
        }
      },
      "source": [
        "a=[45,667,678,92,62,46,78]\n",
        "#get the index of value 678 without using index function\n",
        "a.index(678)"
      ],
      "execution_count": 0,
      "outputs": [
        {
          "output_type": "execute_result",
          "data": {
            "text/plain": [
              "2"
            ]
          },
          "metadata": {
            "tags": []
          },
          "execution_count": 24
        }
      ]
    },
    {
      "cell_type": "code",
      "metadata": {
        "id": "Pq0LQREx1ls8",
        "colab_type": "code",
        "outputId": "352a74ff-a723-422d-837b-5d6192636893",
        "colab": {
          "base_uri": "https://localhost:8080/",
          "height": 34
        }
      },
      "source": [
        "for i in range(len(a)):\n",
        "    if a[i] == 678:\n",
        "        print(i)\n"
      ],
      "execution_count": 0,
      "outputs": [
        {
          "output_type": "stream",
          "text": [
            "2\n"
          ],
          "name": "stdout"
        }
      ]
    },
    {
      "cell_type": "code",
      "metadata": {
        "id": "NJuS-9zW1loY",
        "colab_type": "code",
        "outputId": "833e2581-2e7a-4c5a-8eba-7376ae11518c",
        "colab": {
          "base_uri": "https://localhost:8080/",
          "height": 34
        }
      },
      "source": [
        "for i in range(len(students)):\n",
        "    if students[i][0][1] == 678:\n",
        "        print(students[i][1])"
      ],
      "execution_count": 0,
      "outputs": [
        {
          "output_type": "stream",
          "text": [
            "67\n"
          ],
          "name": "stdout"
        }
      ]
    },
    {
      "cell_type": "code",
      "metadata": {
        "id": "DVZJaFW72WpP",
        "colab_type": "code",
        "outputId": "f38b738a-ee98-4f62-97cd-90c82ff1da23",
        "colab": {
          "base_uri": "https://localhost:8080/",
          "height": 34
        }
      },
      "source": [
        "# Marks with student name Raj\n",
        "for i in range(len(students)):\n",
        "    if students[i][0][0] == \"Raj\":\n",
        "        print(students[i][1])"
      ],
      "execution_count": 0,
      "outputs": [
        {
          "output_type": "stream",
          "text": [
            "98\n"
          ],
          "name": "stdout"
        }
      ]
    },
    {
      "cell_type": "code",
      "metadata": {
        "id": "sUpotuMV2WlE",
        "colab_type": "code",
        "outputId": "25fdcc99-1cd1-40fd-f445-04cb99891662",
        "colab": {
          "base_uri": "https://localhost:8080/",
          "height": 34
        }
      },
      "source": [
        "# language with student rollnumber 312\n",
        "for i in range(len(students)):\n",
        "    if students[i][0][1] == 312:\n",
        "        print(students[i][2])"
      ],
      "execution_count": 0,
      "outputs": [
        {
          "output_type": "stream",
          "text": [
            "C\n"
          ],
          "name": "stdout"
        }
      ]
    },
    {
      "cell_type": "code",
      "metadata": {
        "id": "e63UbuXc2WiO",
        "colab_type": "code",
        "outputId": "7db47b6c-e8f0-4b65-e757-69642cfba36f",
        "colab": {
          "base_uri": "https://localhost:8080/",
          "height": 34
        }
      },
      "source": [
        "# Student roll numbers as a list with langauge python\n",
        "py_users =[]\n",
        "for i in range(len(students)):\n",
        "    if students[i][2] == \"python\":\n",
        "        py_users.append(students[i][0][1])\n",
        "py_users"
      ],
      "execution_count": 0,
      "outputs": [
        {
          "output_type": "execute_result",
          "data": {
            "text/plain": [
              "[345, 678]"
            ]
          },
          "metadata": {
            "tags": []
          },
          "execution_count": 29
        }
      ]
    },
    {
      "cell_type": "code",
      "metadata": {
        "id": "fY_Dee602Wep",
        "colab_type": "code",
        "colab": {}
      },
      "source": [
        "# read two lists from user. Two list conatins the names of students\n",
        "# Get the names which are there in both lists\n",
        "# Get the names which are there in alteast one list\n",
        "# Get the names which are there in list1 not there in list2\n",
        "# Get the names which are there in list2 not there in list1"
      ],
      "execution_count": 0,
      "outputs": []
    },
    {
      "cell_type": "code",
      "metadata": {
        "id": "iYUDob0z1llu",
        "colab_type": "code",
        "colab": {}
      },
      "source": [
        "# Craete multipliaction table of a number\n",
        "# Read the number from user\n",
        "# Example :3\n",
        "3 * 1 = 3\n",
        "3 * 2 = 6\n",
        "'''''''\n",
        "''''''\n",
        "3 * 10 = 30\n",
        "# Later modify the code so that you can read the lower bound and upperbound for the table. \n",
        "# for the above case lowerbound is 1 and upper bound is 10"
      ],
      "execution_count": 0,
      "outputs": []
    },
    {
      "cell_type": "code",
      "metadata": {
        "id": "PbfA-Ov2H_Fm",
        "colab_type": "code",
        "outputId": "9760a5d0-9354-4bae-9ea4-7ef0f84af0e2",
        "colab": {
          "base_uri": "https://localhost:8080/",
          "height": 187
        }
      },
      "source": [
        "i=1\n",
        "while i<=10:\n",
        "  print(\"{0}*{1}={2}\".format(3,i,3*i))\n",
        "  i+=1"
      ],
      "execution_count": 0,
      "outputs": [
        {
          "output_type": "stream",
          "text": [
            "3*1=3\n",
            "3*2=6\n",
            "3*3=9\n",
            "3*4=12\n",
            "3*5=15\n",
            "3*6=18\n",
            "3*7=21\n",
            "3*8=24\n",
            "3*9=27\n",
            "3*10=30\n"
          ],
          "name": "stdout"
        }
      ]
    },
    {
      "cell_type": "code",
      "metadata": {
        "id": "hQtyWm1y2-4Q",
        "colab_type": "code",
        "outputId": "d27298fa-287b-447f-f3f9-6971ab5966fa",
        "colab": {
          "base_uri": "https://localhost:8080/",
          "height": 34
        }
      },
      "source": [
        "# take a list of numbers or names with repetetive values\n",
        "# Get a list as output\n",
        "    # each sublist has the number and how many times it is there in the list\n",
        "# The ouput shoud be in sorted order based on count.\n",
        "# If the count is equal different numbers. Sort them based on numbers\n",
        "# Example : [23,45,23,77,67,45,45,2,3,3,2,3]\n",
        "# output :[[3,3],[45,3],[2,2],[23,2],[67,1],[77,1]]\n",
        "n=int(input())\n",
        "l=[]\n",
        "for i in range(n):\n",
        "    l.sort()"
      ],
      "execution_count": 0,
      "outputs": [
        {
          "output_type": "stream",
          "text": [
            "5\n"
          ],
          "name": "stdout"
        }
      ]
    },
    {
      "cell_type": "code",
      "metadata": {
        "id": "VFEXVQcH3-G6",
        "colab_type": "code",
        "colab": {}
      },
      "source": [
        "Read the inputs\n",
        "How many students data you want to read\n",
        "Read the student name\n",
        "Read the students marks in three subjcts in a single line\n",
        "Example : \"56 78 92\"\n",
        "Use the name as a key in the dictionary and values is alist with above marks\n",
        "Repeat the above three steps for all the students\n",
        "Final output is a dict\n",
        "Example Format\n",
        "{\"Renu\":[45,56,78],\"Hari\":[78,2,45]}"
      ],
      "execution_count": 0,
      "outputs": []
    },
    {
      "cell_type": "code",
      "metadata": {
        "id": "B_vCTYMn393j",
        "colab_type": "code",
        "outputId": "c764055c-b83c-4e2d-b594-68eb394170c5",
        "colab": {
          "base_uri": "https://localhost:8080/",
          "height": 34
        }
      },
      "source": [
        "marks={\"56 78 92\"}\n",
        "print(marks)"
      ],
      "execution_count": 0,
      "outputs": [
        {
          "output_type": "stream",
          "text": [
            "{'56 78 92'}\n"
          ],
          "name": "stdout"
        }
      ]
    },
    {
      "cell_type": "code",
      "metadata": {
        "id": "4QuoyMy239uI",
        "colab_type": "code",
        "outputId": "275fc80a-5d8a-4d70-d419-fc418df9e534",
        "colab": {
          "base_uri": "https://localhost:8080/",
          "height": 34
        }
      },
      "source": [
        "marks_names={\"Renu\":[45,56,78],\"Hari\":[78,2,45]}\n",
        "marks_names"
      ],
      "execution_count": 0,
      "outputs": [
        {
          "output_type": "execute_result",
          "data": {
            "text/plain": [
              "{'Hari': [78, 2, 45], 'Renu': [45, 56, 78]}"
            ]
          },
          "metadata": {
            "tags": []
          },
          "execution_count": 6
        }
      ]
    },
    {
      "cell_type": "code",
      "metadata": {
        "id": "52zWxMEY2-v_",
        "colab_type": "code",
        "colab": {}
      },
      "source": [
        "read the number of students from user\n",
        "Read the details of students into a list. Each sublist contains below details\n",
        "studentName,RollNumber,Marks,Language in a single line\n",
        "example \"raj,416,56,python\"\n",
        "Create a dict in which\n",
        "key is a tuple contains name and roll number\n",
        "value is a dict with language as key marks as value\n",
        "Output Format\n",
        "{(\"Hari\",678):{\"C\":94},(\"Renu\",546):{\"Python\":75}\n"
      ],
      "execution_count": 0,
      "outputs": []
    },
    {
      "cell_type": "code",
      "metadata": {
        "id": "D5g3CJVe2-tv",
        "colab_type": "code",
        "outputId": "8847dd43-d283-47fc-bb24-921e7c855d52",
        "colab": {
          "base_uri": "https://localhost:8080/",
          "height": 51
        }
      },
      "source": [
        "s=input().split()\n",
        "s[1]=int(s[1])\n",
        "s[2]=int(s[2])\n",
        "s"
      ],
      "execution_count": 0,
      "outputs": [
        {
          "output_type": "stream",
          "text": [
            "raj 416 56 python\n"
          ],
          "name": "stdout"
        },
        {
          "output_type": "execute_result",
          "data": {
            "text/plain": [
              "['raj', 416, 56, 'python']"
            ]
          },
          "metadata": {
            "tags": []
          },
          "execution_count": 3
        }
      ]
    },
    {
      "cell_type": "code",
      "metadata": {
        "id": "xEwC_d7D2-k9",
        "colab_type": "code",
        "outputId": "b7636153-59de-4da3-e76e-2f8f70af849c",
        "colab": {
          "base_uri": "https://localhost:8080/",
          "height": 34
        }
      },
      "source": [
        "marks={(\"Hari\",678):{\"C\":94},(\"Renu\",546):{\"Python\":75}}\n",
        "print(marks)       "
      ],
      "execution_count": 0,
      "outputs": [
        {
          "output_type": "stream",
          "text": [
            "{('Hari', 678): {'C': 94}, ('Renu', 546): {'Python': 75}}\n"
          ],
          "name": "stdout"
        }
      ]
    },
    {
      "cell_type": "code",
      "metadata": {
        "id": "BE_eTjBs2-jX",
        "colab_type": "code",
        "colab": {}
      },
      "source": [
        "#Modify the above code so that if the user enter multiple entries with same username and roll number you \n",
        "should add the new language as key and marks as values in the inner dictionary -o/p {(\"Hari\",678):{\"C\":94,\"Python\":67},\n",
        "(\"Renu\",546):{\"Python\":75}\n",
        "\n"
      ],
      "execution_count": 0,
      "outputs": []
    },
    {
      "cell_type": "code",
      "metadata": {
        "id": "RriQplR22-fb",
        "colab_type": "code",
        "colab": {}
      },
      "source": [
        ""
      ],
      "execution_count": 0,
      "outputs": []
    }
  ]
}