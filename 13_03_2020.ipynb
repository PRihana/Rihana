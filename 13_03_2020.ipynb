{
  "nbformat": 4,
  "nbformat_minor": 0,
  "metadata": {
    "colab": {
      "name": "13-03-2020.ipynb",
      "provenance": [],
      "authorship_tag": "ABX9TyPeL4wU8VlEdHFW9s+RAhfA",
      "include_colab_link": true
    },
    "kernelspec": {
      "name": "python3",
      "display_name": "Python 3"
    }
  },
  "cells": [
    {
      "cell_type": "markdown",
      "metadata": {
        "id": "view-in-github",
        "colab_type": "text"
      },
      "source": [
        "<a href=\"https://colab.research.google.com/github/PRihana/Rihana/blob/master/13_03_2020.ipynb\" target=\"_parent\"><img src=\"https://colab.research.google.com/assets/colab-badge.svg\" alt=\"Open In Colab\"/></a>"
      ]
    },
    {
      "cell_type": "code",
      "metadata": {
        "id": "7BabnLWoaXEw",
        "colab_type": "code",
        "colab": {}
      },
      "source": [
        "-list\n",
        "-tuple\n",
        "-set"
      ],
      "execution_count": 0,
      "outputs": []
    },
    {
      "cell_type": "code",
      "metadata": {
        "id": "_1NnhI85adK1",
        "colab_type": "code",
        "colab": {}
      },
      "source": [
        "#dictionary\n",
        "-how to create an empty dictionary\n",
        "  -{}\n",
        "  -dict()\n",
        "-how to add elements\n",
        "  -d['num key']=value\n",
        "-what are the rules for keys\n",
        "  -immutable data as key\n",
        "-how to operators will work on dict\n",
        "-dictionary methods      \n"
      ],
      "execution_count": 0,
      "outputs": []
    },
    {
      "cell_type": "code",
      "metadata": {
        "id": "ntaSQVZ7bgJH",
        "colab_type": "code",
        "outputId": "584c56dc-ca51-458f-e4d6-bcc05f6ada6b",
        "colab": {
          "base_uri": "https://localhost:8080/",
          "height": 35
        }
      },
      "source": [
        "empty_marks={}\n",
        "print(empty_marks,type(empty_marks))"
      ],
      "execution_count": 0,
      "outputs": [
        {
          "output_type": "stream",
          "text": [
            "{} <class 'dict'>\n"
          ],
          "name": "stdout"
        }
      ]
    },
    {
      "cell_type": "code",
      "metadata": {
        "id": "bADE3sCvadwv",
        "colab_type": "code",
        "colab": {}
      },
      "source": [
        "{key1:value1,key2;value2,key3:value3}"
      ],
      "execution_count": 0,
      "outputs": []
    },
    {
      "cell_type": "code",
      "metadata": {
        "id": "-BLfHZymad6y",
        "colab_type": "code",
        "colab": {}
      },
      "source": [
        "marks={\"415\":78,\"890\":92}\n",
        "marks1={415:78,890:92}"
      ],
      "execution_count": 0,
      "outputs": []
    },
    {
      "cell_type": "code",
      "metadata": {
        "id": "dBNmrGSLad11",
        "colab_type": "code",
        "outputId": "1a5feee3-02b4-4f82-94c4-f88727a63826",
        "colab": {
          "base_uri": "https://localhost:8080/",
          "height": 35
        }
      },
      "source": [
        "print(marks,marks1)"
      ],
      "execution_count": 0,
      "outputs": [
        {
          "output_type": "stream",
          "text": [
            "{'415': 78, '890': 92} {415: 78, 890: 92}\n"
          ],
          "name": "stdout"
        }
      ]
    },
    {
      "cell_type": "code",
      "metadata": {
        "id": "mWr4yYwkdXmT",
        "colab_type": "code",
        "outputId": "81da5162-b63d-445d-d74d-0c0482e25159",
        "colab": {
          "base_uri": "https://localhost:8080/",
          "height": 35
        }
      },
      "source": [
        "marks_names={('hema',567):98,(\"raj\",512):56}\n",
        "marks_names"
      ],
      "execution_count": 0,
      "outputs": [
        {
          "output_type": "execute_result",
          "data": {
            "text/plain": [
              "{('hema', 567): 98, ('raj', 512): 56}"
            ]
          },
          "metadata": {
            "tags": []
          },
          "execution_count": 7
        }
      ]
    },
    {
      "cell_type": "code",
      "metadata": {
        "colab_type": "code",
        "outputId": "be196552-386e-4579-cc78-213d576f8866",
        "id": "uGQiKPHHefzt",
        "colab": {
          "base_uri": "https://localhost:8080/",
          "height": 201
        }
      },
      "source": [
        "print(marks1['415'])\n",
        "print(marks1[415])\n",
        "print(marks_names[('hema',567)])"
      ],
      "execution_count": 0,
      "outputs": [
        {
          "output_type": "error",
          "ename": "KeyError",
          "evalue": "ignored",
          "traceback": [
            "\u001b[0;31m---------------------------------------------------------------------------\u001b[0m",
            "\u001b[0;31mKeyError\u001b[0m                                  Traceback (most recent call last)",
            "\u001b[0;32m<ipython-input-10-a1ce1ebfe137>\u001b[0m in \u001b[0;36m<module>\u001b[0;34m()\u001b[0m\n\u001b[0;32m----> 1\u001b[0;31m \u001b[0mprint\u001b[0m\u001b[0;34m(\u001b[0m\u001b[0mmarks1\u001b[0m\u001b[0;34m[\u001b[0m\u001b[0;34m'415'\u001b[0m\u001b[0;34m]\u001b[0m\u001b[0;34m)\u001b[0m\u001b[0;34m\u001b[0m\u001b[0;34m\u001b[0m\u001b[0m\n\u001b[0m\u001b[1;32m      2\u001b[0m \u001b[0mprint\u001b[0m\u001b[0;34m(\u001b[0m\u001b[0mmarks1\u001b[0m\u001b[0;34m[\u001b[0m\u001b[0;36m415\u001b[0m\u001b[0;34m]\u001b[0m\u001b[0;34m)\u001b[0m\u001b[0;34m\u001b[0m\u001b[0;34m\u001b[0m\u001b[0m\n\u001b[1;32m      3\u001b[0m \u001b[0mprint\u001b[0m\u001b[0;34m(\u001b[0m\u001b[0mmarks_names\u001b[0m\u001b[0;34m[\u001b[0m\u001b[0;34m(\u001b[0m\u001b[0;34m'hema'\u001b[0m\u001b[0;34m,\u001b[0m\u001b[0;36m567\u001b[0m\u001b[0;34m)\u001b[0m\u001b[0;34m]\u001b[0m\u001b[0;34m)\u001b[0m\u001b[0;34m\u001b[0m\u001b[0;34m\u001b[0m\u001b[0m\n",
            "\u001b[0;31mKeyError\u001b[0m: '415'"
          ]
        }
      ]
    },
    {
      "cell_type": "code",
      "metadata": {
        "id": "zoX6jQVSdXZ-",
        "colab_type": "code",
        "outputId": "d62ced4c-e328-44e6-9029-15ff3cd43908",
        "colab": {
          "base_uri": "https://localhost:8080/",
          "height": 35
        }
      },
      "source": [
        "#How to add a new element to the dict\n",
        "marks['413']=78\n",
        "print(marks)"
      ],
      "execution_count": 0,
      "outputs": [
        {
          "output_type": "stream",
          "text": [
            "{'415': 78, '890': 92, '413': 78}\n"
          ],
          "name": "stdout"
        }
      ]
    },
    {
      "cell_type": "code",
      "metadata": {
        "id": "fyHLKdtjdXXV",
        "colab_type": "code",
        "outputId": "aadc271c-608c-4ccd-ab80-ddc6298d7f9f",
        "colab": {
          "base_uri": "https://localhost:8080/",
          "height": 35
        }
      },
      "source": [
        "#To update value in dictionary\n",
        "marks['413']=87\n",
        "print(marks)"
      ],
      "execution_count": 0,
      "outputs": [
        {
          "output_type": "stream",
          "text": [
            "{'415': 78, '890': 92, '413': 87}\n"
          ],
          "name": "stdout"
        }
      ]
    },
    {
      "cell_type": "code",
      "metadata": {
        "id": "bjouj72HdXSv",
        "colab_type": "code",
        "outputId": "5b4c409c-dbe2-4da1-c84f-2cc0cc36ffbe",
        "colab": {
          "base_uri": "https://localhost:8080/",
          "height": 35
        }
      },
      "source": [
        "#Trying to update the value but it will create new\n",
        "marks[413]=87\n",
        "print(marks)"
      ],
      "execution_count": 0,
      "outputs": [
        {
          "output_type": "stream",
          "text": [
            "{'415': 78, '890': 92, '413': 87, 413: 87}\n"
          ],
          "name": "stdout"
        }
      ]
    },
    {
      "cell_type": "code",
      "metadata": {
        "id": "Hig0iGONdXNr",
        "colab_type": "code",
        "outputId": "6448bcd1-4e57-4012-97f1-014e620d2414",
        "colab": {
          "base_uri": "https://localhost:8080/",
          "height": 35
        }
      },
      "source": [
        "var=\"413\"\n",
        "print(marks[var])"
      ],
      "execution_count": 0,
      "outputs": [
        {
          "output_type": "stream",
          "text": [
            "87\n"
          ],
          "name": "stdout"
        }
      ]
    },
    {
      "cell_type": "code",
      "metadata": {
        "id": "UB44NCgMdXE5",
        "colab_type": "code",
        "outputId": "6cee588c-33cd-4470-f63f-acad22fc88fe",
        "colab": {
          "base_uri": "https://localhost:8080/",
          "height": 35
        }
      },
      "source": [
        "var1=\"555\"\n",
        "marks[var1]=78\n",
        "print(marks)"
      ],
      "execution_count": 0,
      "outputs": [
        {
          "output_type": "stream",
          "text": [
            "{'415': 78, '890': 92, '413': 87, 413: 87, '555': 78}\n"
          ],
          "name": "stdout"
        }
      ]
    },
    {
      "cell_type": "code",
      "metadata": {
        "id": "LK6vjOTwkJHd",
        "colab_type": "code",
        "outputId": "748dad3d-9517-4889-816f-f48a3a814dd8",
        "colab": {
          "base_uri": "https://localhost:8080/",
          "height": 35
        }
      },
      "source": [
        "ratings={\"C\":6,\"PY\":9,\"R\":7,\"GO\":8}\n",
        "print(ratings)"
      ],
      "execution_count": 0,
      "outputs": [
        {
          "output_type": "stream",
          "text": [
            "{'C': 6, 'PY': 9, 'R': 7, 'GO': 8}\n"
          ],
          "name": "stdout"
        }
      ]
    },
    {
      "cell_type": "code",
      "metadata": {
        "id": "Mu88sk20jbWi",
        "colab_type": "code",
        "outputId": "5a6ab52e-c4d5-46cf-b314-4d6e3f6a2d26",
        "colab": {
          "base_uri": "https://localhost:8080/",
          "height": 35
        }
      },
      "source": [
        "for x in ratings:\n",
        "  print(x,end=' ')"
      ],
      "execution_count": 0,
      "outputs": [
        {
          "output_type": "stream",
          "text": [
            "C PY R GO "
          ],
          "name": "stdout"
        }
      ]
    },
    {
      "cell_type": "code",
      "metadata": {
        "id": "W93KzQGzhKDU",
        "colab_type": "code",
        "outputId": "55c82882-16d2-462d-cc89-67fba6756c90",
        "colab": {
          "base_uri": "https://localhost:8080/",
          "height": 35
        }
      },
      "source": [
        "ratings['C']"
      ],
      "execution_count": 0,
      "outputs": [
        {
          "output_type": "execute_result",
          "data": {
            "text/plain": [
              "6"
            ]
          },
          "metadata": {
            "tags": []
          },
          "execution_count": 22
        }
      ]
    },
    {
      "cell_type": "code",
      "metadata": {
        "id": "tCZUyN4ghKBc",
        "colab_type": "code",
        "outputId": "477024d6-c585-4640-d12c-2d39f66576ee",
        "colab": {
          "base_uri": "https://localhost:8080/",
          "height": 35
        }
      },
      "source": [
        "for x in ratings:\n",
        "  print(ratings[x],end='')"
      ],
      "execution_count": 0,
      "outputs": [
        {
          "output_type": "stream",
          "text": [
            "6978"
          ],
          "name": "stdout"
        }
      ]
    },
    {
      "cell_type": "code",
      "metadata": {
        "id": "QJ3tmobUko33",
        "colab_type": "code",
        "colab": {}
      },
      "source": [
        "#\"c\":6\n",
        "#\"py\":9"
      ],
      "execution_count": 0,
      "outputs": []
    },
    {
      "cell_type": "code",
      "metadata": {
        "id": "6Iu1bIjyhJ_b",
        "colab_type": "code",
        "outputId": "29f6cae8-e95b-4f48-ca41-853989c65221",
        "colab": {
          "base_uri": "https://localhost:8080/",
          "height": 87
        }
      },
      "source": [
        "for x in ratings:\n",
        "  print(x,ratings[x],sep=':')"
      ],
      "execution_count": 0,
      "outputs": [
        {
          "output_type": "stream",
          "text": [
            "C:6\n",
            "PY:9\n",
            "R:7\n",
            "GO:8\n"
          ],
          "name": "stdout"
        }
      ]
    },
    {
      "cell_type": "code",
      "metadata": {
        "id": "JaPVBFtUhJ9X",
        "colab_type": "code",
        "outputId": "412af454-779e-4d42-9260-2d9aa7ca8e40",
        "colab": {
          "base_uri": "https://localhost:8080/",
          "height": 87
        }
      },
      "source": [
        "for x in ratings:\n",
        "  print('\"'+x+'\"',ratings[x],sep=':')"
      ],
      "execution_count": 0,
      "outputs": [
        {
          "output_type": "stream",
          "text": [
            "\"C\":6\n",
            "\"PY\":9\n",
            "\"R\":7\n",
            "\"GO\":8\n"
          ],
          "name": "stdout"
        }
      ]
    },
    {
      "cell_type": "code",
      "metadata": {
        "id": "g-FgPuJAhJ0L",
        "colab_type": "code",
        "outputId": "b012c11a-ed6d-4f43-ac75-7863da703c8b",
        "colab": {
          "base_uri": "https://localhost:8080/",
          "height": 87
        }
      },
      "source": [
        "for x in ratings:\n",
        "  print('\"'+x+'\":'+str(ratings[x]))"
      ],
      "execution_count": 0,
      "outputs": [
        {
          "output_type": "stream",
          "text": [
            "\"C\":6\n",
            "\"PY\":9\n",
            "\"R\":7\n",
            "\"GO\":8\n"
          ],
          "name": "stdout"
        }
      ]
    },
    {
      "cell_type": "code",
      "metadata": {
        "id": "GpYFhUArhJxV",
        "colab_type": "code",
        "outputId": "46118d5b-f491-4705-82ea-9a576311d935",
        "colab": {
          "base_uri": "https://localhost:8080/",
          "height": 34
        }
      },
      "source": [
        "#{1:1,2:8,3:27,......,10:1000}\n",
        "d = {}\n",
        "for i in range(1,11):\n",
        "    d[i]=i**3\n",
        "d\n"
      ],
      "execution_count": 0,
      "outputs": [
        {
          "output_type": "execute_result",
          "data": {
            "text/plain": [
              "{1: 1, 2: 8, 3: 27, 4: 64, 5: 125, 6: 216, 7: 343, 8: 512, 9: 729, 10: 1000}"
            ]
          },
          "metadata": {
            "tags": []
          },
          "execution_count": 1
        }
      ]
    },
    {
      "cell_type": "code",
      "metadata": {
        "id": "2yd-AExGhJvL",
        "colab_type": "code",
        "colab": {}
      },
      "source": [
        "#i/p:[\"ian\",\"hari\",\"ali\",\"akash\",\"balu\"]"
      ],
      "execution_count": 0,
      "outputs": []
    },
    {
      "cell_type": "code",
      "metadata": {
        "id": "-kzSu-uwhJtG",
        "colab_type": "code",
        "outputId": "5b3fe83b-bba0-44bf-c513-3fdb19119674",
        "colab": {
          "base_uri": "https://localhost:8080/",
          "height": 34
        }
      },
      "source": [
        "for i in d:\n",
        "    print(i,end=' ')"
      ],
      "execution_count": 0,
      "outputs": [
        {
          "output_type": "stream",
          "text": [
            "1 2 3 4 5 6 7 8 9 10 "
          ],
          "name": "stdout"
        }
      ]
    },
    {
      "cell_type": "code",
      "metadata": {
        "id": "Fyn3vywohJlv",
        "colab_type": "code",
        "outputId": "0f1cc82a-b993-4802-8d55-d5f0e28701ed",
        "colab": {
          "base_uri": "https://localhost:8080/",
          "height": 51
        }
      },
      "source": [
        "print(4 in d)\n",
        "print(11 in d)"
      ],
      "execution_count": 0,
      "outputs": [
        {
          "output_type": "stream",
          "text": [
            "True\n",
            "False\n"
          ],
          "name": "stdout"
        }
      ]
    },
    {
      "cell_type": "code",
      "metadata": {
        "id": "ABMnM3ERhJgo",
        "colab_type": "code",
        "outputId": "28e92fd5-a119-4baf-af49-ce2d1f8a6c8a",
        "colab": {
          "base_uri": "https://localhost:8080/",
          "height": 34
        }
      },
      "source": [
        "#i/p :[\"ian\",\"hari\",\"ali\",\"akash\",\"balu\",\"roja\"]\n",
        "#o/p:{\"vowels\":[\"ian\",\"ali\",\"akash\"],\n",
        "#\"consonants\":[\"hari\",\"balu\",\"roja\"]\n",
        "out={}\n",
        "names=[\"ian\",\"hari\",\"ali\",\"akash\",\"balu\",\"roja\"]\n",
        "for i in range(len(names)):\n",
        "    if names[i][0]  in \"aeiou\":\n",
        "        if \"vowels\" in out:\n",
        "            out['vowels'].append(names[i])\n",
        "        else:\n",
        "            out['vowels']=[names[i]]\n",
        "    else:\n",
        "        if 'consonants' in out:\n",
        "            out['consonants'].append(names[i])\n",
        "        else:\n",
        "            out['consonants']=[names[i]]\n",
        "print(out)"
      ],
      "execution_count": 0,
      "outputs": [
        {
          "output_type": "stream",
          "text": [
            "{'vowels': ['ian', 'ali', 'akash'], 'consonants': ['hari', 'balu', 'roja']}\n"
          ],
          "name": "stdout"
        }
      ]
    },
    {
      "cell_type": "code",
      "metadata": {
        "id": "iOJfXYIcKiQR",
        "colab_type": "code",
        "colab": {}
      },
      "source": [
        "Peter Piper picked a peck of pickled peppers A peck of pickled peppers Peter Piper picked If Peter Piper picked a peck of pickled peppers Where’s the peck of pickled peppers Peter Piper picked?\n",
        "\n",
        "Get the word frequency as a dict from text above\n",
        "keys as unique words\n",
        "value as no of times that key ocuuered in text"
      ],
      "execution_count": 0,
      "outputs": []
    },
    {
      "cell_type": "code",
      "metadata": {
        "id": "3gb9QrVjGtxc",
        "colab_type": "code",
        "outputId": "1d800c01-cf8d-40ff-a961-78cd3d20197a",
        "colab": {
          "base_uri": "https://localhost:8080/",
          "height": 374
        }
      },
      "source": [
        "text = 'Peter Piper picked a peck of pickled peppers A peck of pickled peppers Peter Piper picked If Peter Piper picked a peck of pickled peppers Where’s the peck of pickled peppers Peter Piper picked?'\n",
        "set(text)"
      ],
      "execution_count": 0,
      "outputs": [
        {
          "output_type": "execute_result",
          "data": {
            "text/plain": [
              "{' ',\n",
              " '?',\n",
              " 'A',\n",
              " 'I',\n",
              " 'P',\n",
              " 'W',\n",
              " 'a',\n",
              " 'c',\n",
              " 'd',\n",
              " 'e',\n",
              " 'f',\n",
              " 'h',\n",
              " 'i',\n",
              " 'k',\n",
              " 'l',\n",
              " 'o',\n",
              " 'p',\n",
              " 'r',\n",
              " 's',\n",
              " 't',\n",
              " '’'}"
            ]
          },
          "metadata": {
            "tags": []
          },
          "execution_count": 11
        }
      ]
    },
    {
      "cell_type": "code",
      "metadata": {
        "id": "jR98j7shG7PI",
        "colab_type": "code",
        "outputId": "b9d4352a-0506-4ecb-f96f-d72c3c2d9f7f",
        "colab": {
          "base_uri": "https://localhost:8080/",
          "height": 1000
        }
      },
      "source": [
        "list(text)"
      ],
      "execution_count": 0,
      "outputs": [
        {
          "output_type": "execute_result",
          "data": {
            "text/plain": [
              "['P',\n",
              " 'e',\n",
              " 't',\n",
              " 'e',\n",
              " 'r',\n",
              " ' ',\n",
              " 'P',\n",
              " 'i',\n",
              " 'p',\n",
              " 'e',\n",
              " 'r',\n",
              " ' ',\n",
              " 'p',\n",
              " 'i',\n",
              " 'c',\n",
              " 'k',\n",
              " 'e',\n",
              " 'd',\n",
              " ' ',\n",
              " 'a',\n",
              " ' ',\n",
              " 'p',\n",
              " 'e',\n",
              " 'c',\n",
              " 'k',\n",
              " ' ',\n",
              " 'o',\n",
              " 'f',\n",
              " ' ',\n",
              " 'p',\n",
              " 'i',\n",
              " 'c',\n",
              " 'k',\n",
              " 'l',\n",
              " 'e',\n",
              " 'd',\n",
              " ' ',\n",
              " 'p',\n",
              " 'e',\n",
              " 'p',\n",
              " 'p',\n",
              " 'e',\n",
              " 'r',\n",
              " 's',\n",
              " ' ',\n",
              " 'A',\n",
              " ' ',\n",
              " 'p',\n",
              " 'e',\n",
              " 'c',\n",
              " 'k',\n",
              " ' ',\n",
              " 'o',\n",
              " 'f',\n",
              " ' ',\n",
              " 'p',\n",
              " 'i',\n",
              " 'c',\n",
              " 'k',\n",
              " 'l',\n",
              " 'e',\n",
              " 'd',\n",
              " ' ',\n",
              " 'p',\n",
              " 'e',\n",
              " 'p',\n",
              " 'p',\n",
              " 'e',\n",
              " 'r',\n",
              " 's',\n",
              " ' ',\n",
              " 'P',\n",
              " 'e',\n",
              " 't',\n",
              " 'e',\n",
              " 'r',\n",
              " ' ',\n",
              " 'P',\n",
              " 'i',\n",
              " 'p',\n",
              " 'e',\n",
              " 'r',\n",
              " ' ',\n",
              " 'p',\n",
              " 'i',\n",
              " 'c',\n",
              " 'k',\n",
              " 'e',\n",
              " 'd',\n",
              " ' ',\n",
              " 'I',\n",
              " 'f',\n",
              " ' ',\n",
              " 'P',\n",
              " 'e',\n",
              " 't',\n",
              " 'e',\n",
              " 'r',\n",
              " ' ',\n",
              " 'P',\n",
              " 'i',\n",
              " 'p',\n",
              " 'e',\n",
              " 'r',\n",
              " ' ',\n",
              " 'p',\n",
              " 'i',\n",
              " 'c',\n",
              " 'k',\n",
              " 'e',\n",
              " 'd',\n",
              " ' ',\n",
              " 'a',\n",
              " ' ',\n",
              " 'p',\n",
              " 'e',\n",
              " 'c',\n",
              " 'k',\n",
              " ' ',\n",
              " 'o',\n",
              " 'f',\n",
              " ' ',\n",
              " 'p',\n",
              " 'i',\n",
              " 'c',\n",
              " 'k',\n",
              " 'l',\n",
              " 'e',\n",
              " 'd',\n",
              " ' ',\n",
              " 'p',\n",
              " 'e',\n",
              " 'p',\n",
              " 'p',\n",
              " 'e',\n",
              " 'r',\n",
              " 's',\n",
              " ' ',\n",
              " 'W',\n",
              " 'h',\n",
              " 'e',\n",
              " 'r',\n",
              " 'e',\n",
              " '’',\n",
              " 's',\n",
              " ' ',\n",
              " 't',\n",
              " 'h',\n",
              " 'e',\n",
              " ' ',\n",
              " 'p',\n",
              " 'e',\n",
              " 'c',\n",
              " 'k',\n",
              " ' ',\n",
              " 'o',\n",
              " 'f',\n",
              " ' ',\n",
              " 'p',\n",
              " 'i',\n",
              " 'c',\n",
              " 'k',\n",
              " 'l',\n",
              " 'e',\n",
              " 'd',\n",
              " ' ',\n",
              " 'p',\n",
              " 'e',\n",
              " 'p',\n",
              " 'p',\n",
              " 'e',\n",
              " 'r',\n",
              " 's',\n",
              " ' ',\n",
              " 'P',\n",
              " 'e',\n",
              " 't',\n",
              " 'e',\n",
              " 'r',\n",
              " ' ',\n",
              " 'P',\n",
              " 'i',\n",
              " 'p',\n",
              " 'e',\n",
              " 'r',\n",
              " ' ',\n",
              " 'p',\n",
              " 'i',\n",
              " 'c',\n",
              " 'k',\n",
              " 'e',\n",
              " 'd',\n",
              " '?']"
            ]
          },
          "metadata": {
            "tags": []
          },
          "execution_count": 12
        }
      ]
    },
    {
      "cell_type": "code",
      "metadata": {
        "id": "2yq4yrZbG7Je",
        "colab_type": "code",
        "outputId": "ff5f7abe-a8cc-47a1-f63a-4b095ff82726",
        "colab": {
          "base_uri": "https://localhost:8080/",
          "height": 34
        }
      },
      "source": [
        "words = []\n",
        "for word in text.split():\n",
        "    words.append(word.lower())\n",
        "print(list(set(words)))"
      ],
      "execution_count": 0,
      "outputs": [
        {
          "output_type": "stream",
          "text": [
            "['piper', 'picked', 'a', 'peter', 'pickled', 'of', 'where’s', 'picked?', 'the', 'peck', 'peppers', 'if']\n"
          ],
          "name": "stdout"
        }
      ]
    },
    {
      "cell_type": "code",
      "metadata": {
        "id": "MD87XKWVG7EQ",
        "colab_type": "code",
        "outputId": "eb958759-7834-4019-8e75-1814d3cee558",
        "colab": {
          "base_uri": "https://localhost:8080/",
          "height": 221
        }
      },
      "source": [
        "unique_words = list(set(words))\n",
        "word_count = {}\n",
        "for word in words:\n",
        "    if word in word_count:\n",
        "        word_count[word] += 1\n",
        "    else:\n",
        "        word_count[word] = 1\n",
        "word_count"
      ],
      "execution_count": 0,
      "outputs": [
        {
          "output_type": "execute_result",
          "data": {
            "text/plain": [
              "{'a': 3,\n",
              " 'if': 1,\n",
              " 'of': 4,\n",
              " 'peck': 4,\n",
              " 'peppers': 4,\n",
              " 'peter': 4,\n",
              " 'picked': 3,\n",
              " 'picked?': 1,\n",
              " 'pickled': 4,\n",
              " 'piper': 4,\n",
              " 'the': 1,\n",
              " 'where’s': 1}"
            ]
          },
          "metadata": {
            "tags": []
          },
          "execution_count": 14
        }
      ]
    }
  ]
}