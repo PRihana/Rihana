{
  "nbformat": 4,
  "nbformat_minor": 0,
  "metadata": {
    "colab": {
      "name": "File operations",
      "provenance": [],
      "collapsed_sections": [],
      "authorship_tag": "ABX9TyMOI1KFAZer6Nx/hxyvOzTM",
      "include_colab_link": true
    },
    "kernelspec": {
      "name": "python3",
      "display_name": "Python 3"
    }
  },
  "cells": [
    {
      "cell_type": "markdown",
      "metadata": {
        "id": "view-in-github",
        "colab_type": "text"
      },
      "source": [
        "<a href=\"https://colab.research.google.com/github/PRihana/Rihana/blob/master/File_operations.ipynb\" target=\"_parent\"><img src=\"https://colab.research.google.com/assets/colab-badge.svg\" alt=\"Open In Colab\"/></a>"
      ]
    },
    {
      "cell_type": "markdown",
      "metadata": {
        "id": "Sxw5ClOomXLe",
        "colab_type": "text"
      },
      "source": [
        "# file"
      ]
    },
    {
      "cell_type": "markdown",
      "metadata": {
        "id": "OI-fvDajmUeN",
        "colab_type": "text"
      },
      "source": [
        "A file represents storage of data.a file stores data permanently so that it is available to all the programs\n",
        "1. text files\n",
        "2.binary files\n",
        "##text files\n",
        "\n",
        "  -  w=write data into file\n",
        "  -  r=read data from the file\n",
        "  -  a=append data to the file\n",
        "##binary files\n",
        "\n",
        "  -   w+=to write and read data of a file\n",
        "  -   a+=to append read data of a file\n",
        "  -   x=open the file in exclusive  mode.the files creation fails if the file already exists\n",
        "  -   r+=to read and write data into a file "
      ]
    },
    {
      "cell_type": "markdown",
      "metadata": {
        "id": "7lmQCBBKzjaP",
        "colab_type": "text"
      },
      "source": [
        "##file modes:\n",
        "\n",
        "    1.opening a file\n",
        "    2.append a file\n",
        "    3.read a file\n",
        "    4.close a file\n",
        "    5.write a file"
      ]
    },
    {
      "cell_type": "code",
      "metadata": {
        "id": "76NZkW7EoN3W",
        "colab_type": "code",
        "outputId": "d96a21ed-cbb8-471c-ec2b-aec599b99530",
        "colab": {
          "base_uri": "https://localhost:8080/",
          "height": 35
        }
      },
      "source": [
        "f=open(\"data.txt\",'a')\n",
        "f.write(\"hello\")"
      ],
      "execution_count": 0,
      "outputs": [
        {
          "output_type": "execute_result",
          "data": {
            "text/plain": [
              "5"
            ]
          },
          "metadata": {
            "tags": []
          },
          "execution_count": 8
        }
      ]
    },
    {
      "cell_type": "code",
      "metadata": {
        "id": "Ysh_HqCon0d3",
        "colab_type": "code",
        "colab": {}
      },
      "source": [
        "f.write(\"python\")\n",
        "f.close()"
      ],
      "execution_count": 0,
      "outputs": []
    },
    {
      "cell_type": "code",
      "metadata": {
        "id": "CPI4_cc5pdwO",
        "colab_type": "code",
        "colab": {}
      },
      "source": [
        "f=open(\"data.txt\",mode='w')\n",
        "f.write(\"string\")\n",
        "f.close()"
      ],
      "execution_count": 0,
      "outputs": []
    },
    {
      "cell_type": "code",
      "metadata": {
        "id": "KPG671YyqEcW",
        "colab_type": "code",
        "outputId": "ed1fa36f-88aa-4210-f573-ba0ebae8c6d0",
        "colab": {
          "base_uri": "https://localhost:8080/",
          "height": 35
        }
      },
      "source": [
        "f=open(\"data.txt\",mode='r')\n",
        "print(f.read())\n",
        "f.close()"
      ],
      "execution_count": 0,
      "outputs": [
        {
          "output_type": "stream",
          "text": [
            "string\n"
          ],
          "name": "stdout"
        }
      ]
    },
    {
      "cell_type": "code",
      "metadata": {
        "id": "yF9khOimqkBR",
        "colab_type": "code",
        "colab": {}
      },
      "source": [
        ""
      ],
      "execution_count": 0,
      "outputs": []
    }
  ]
}