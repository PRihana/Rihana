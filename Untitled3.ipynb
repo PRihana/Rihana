{
  "nbformat": 4,
  "nbformat_minor": 0,
  "metadata": {
    "colab": {
      "name": "Untitled3.ipynb",
      "provenance": [],
      "collapsed_sections": [],
      "toc_visible": true,
      "authorship_tag": "ABX9TyPCunAf/dOHg8HtEJK24D1i",
      "include_colab_link": true
    },
    "kernelspec": {
      "name": "python3",
      "display_name": "Python 3"
    }
  },
  "cells": [
    {
      "cell_type": "markdown",
      "metadata": {
        "id": "view-in-github",
        "colab_type": "text"
      },
      "source": [
        "<a href=\"https://colab.research.google.com/github/PRihana/Rihana/blob/master/Untitled3.ipynb\" target=\"_parent\"><img src=\"https://colab.research.google.com/assets/colab-badge.svg\" alt=\"Open In Colab\"/></a>"
      ]
    },
    {
      "cell_type": "code",
      "metadata": {
        "id": "yK1feocWNotA",
        "colab_type": "code",
        "colab": {}
      },
      "source": [
        "# baby"
      ],
      "execution_count": 0,
      "outputs": []
    },
    {
      "cell_type": "code",
      "metadata": {
        "id": "_n0JDjQ7Nun9",
        "colab_type": "code",
        "colab": {}
      },
      "source": [
        ""
      ],
      "execution_count": 0,
      "outputs": []
    },
    {
      "cell_type": "markdown",
      "metadata": {
        "id": "ZgsaUWSdN2J6",
        "colab_type": "text"
      },
      "source": [
        "# baby"
      ]
    },
    {
      "cell_type": "code",
      "metadata": {
        "id": "pDbNfUFHN328",
        "colab_type": "code",
        "colab": {}
      },
      "source": [
        ""
      ],
      "execution_count": 0,
      "outputs": []
    },
    {
      "cell_type": "markdown",
      "metadata": {
        "id": "FfJO1VY9N6Oy",
        "colab_type": "text"
      },
      "source": [
        "## baby"
      ]
    },
    {
      "cell_type": "markdown",
      "metadata": {
        "id": "rSxoQBSLN_Em",
        "colab_type": "text"
      },
      "source": [
        "![text](https://encrypted-tbn0.gstatic.com/images?q=tbn:ANd9GcToChdbOmTws55DXfDd59La1YY06xH7c7XHBWr40VtExLf177oS&s)"
      ]
    },
    {
      "cell_type": "code",
      "metadata": {
        "id": "yuQZhzNdOVjm",
        "colab_type": "code",
        "colab": {}
      },
      "source": [
        ""
      ],
      "execution_count": 0,
      "outputs": []
    },
    {
      "cell_type": "markdown",
      "metadata": {
        "id": "Kphxvx8ROXX0",
        "colab_type": "text"
      },
      "source": [
        "[barbie](https://encrypted-tbn0.gstatic.com/images?q=tbn:ANd9GcR240EIi0KOvJeeeaV47hQKtkx9u2_8WwJN9_YWpSJYg4iVQa3s&s)"
      ]
    },
    {
      "cell_type": "markdown",
      "metadata": {
        "id": "jekw_0lXO1FX",
        "colab_type": "text"
      },
      "source": [
        "1. chocolate\n",
        "2. ice cream\n",
        "3. fast foods"
      ]
    },
    {
      "cell_type": "code",
      "metadata": {
        "id": "ibethsT0OyDD",
        "colab_type": "code",
        "colab": {}
      },
      "source": [
        ""
      ],
      "execution_count": 0,
      "outputs": []
    },
    {
      "cell_type": "markdown",
      "metadata": {
        "id": "YAsk96_PPJaG",
        "colab_type": "text"
      },
      "source": [
        "1. chocolate\n",
        "   -  dairy milk\n",
        "   -  kit kat\n",
        "   -  fivestar\n",
        "   "
      ]
    },
    {
      "cell_type": "code",
      "metadata": {
        "id": "zyELmeMlPeZs",
        "colab_type": "code",
        "colab": {}
      },
      "source": [
        "-  birds\n",
        "  -  parrot\n",
        "  -  pigeon\n",
        "  -  crow"
      ],
      "execution_count": 0,
      "outputs": []
    },
    {
      "cell_type": "markdown",
      "metadata": {
        "id": "WFW8SakIQEuM",
        "colab_type": "text"
      },
      "source": [
        "-  birds\n",
        "  -  parrot\n",
        "  -  pigeon\n",
        "  -  crow"
      ]
    },
    {
      "cell_type": "markdown",
      "metadata": {
        "id": "1hUImx2mP0py",
        "colab_type": "text"
      },
      "source": [
        "*rihana*"
      ]
    },
    {
      "cell_type": "markdown",
      "metadata": {
        "id": "kezTkYqnyP2-",
        "colab_type": "text"
      },
      "source": [
        "!pwd"
      ]
    },
    {
      "cell_type": "markdown",
      "metadata": {
        "id": "pxMQzqZGyYJg",
        "colab_type": "text"
      },
      "source": [
        ""
      ]
    },
    {
      "cell_type": "markdown",
      "metadata": {
        "id": "5tMNJDSNP6-Y",
        "colab_type": "text"
      },
      "source": [
        "\n",
        "\n",
        "**rihana**"
      ]
    },
    {
      "cell_type": "markdown",
      "metadata": {
        "id": "evkQlQWRQBUf",
        "colab_type": "text"
      },
      "source": [
        "**rihu**\n",
        "*hummu*"
      ]
    },
    {
      "cell_type": "code",
      "metadata": {
        "id": "fNtP7rHdQxy3",
        "colab_type": "code",
        "colab": {}
      },
      "source": [
        ""
      ],
      "execution_count": 0,
      "outputs": []
    },
    {
      "cell_type": "markdown",
      "metadata": {
        "id": "FlmweXRUQ0M0",
        "colab_type": "text"
      },
      "source": [
        "**rihana**<br>\n",
        "*humayun*"
      ]
    },
    {
      "cell_type": "code",
      "metadata": {
        "id": "wfiEF6cfQ-Uq",
        "colab_type": "code",
        "colab": {}
      },
      "source": [
        ""
      ],
      "execution_count": 0,
      "outputs": []
    },
    {
      "cell_type": "code",
      "metadata": {
        "id": "TbQdhd6_z7AT",
        "colab_type": "code",
        "colab": {}
      },
      "source": [
        ""
      ],
      "execution_count": 0,
      "outputs": []
    },
    {
      "cell_type": "markdown",
      "metadata": {
        "id": "JVGqVMJxz93c",
        "colab_type": "text"
      },
      "source": [
        "# rihana\n",
        "## rihana\n",
        "### rihana\n",
        "#### rihana\n",
        "##### rihana\n",
        "###### rihana\n",
        "####### rihana"
      ]
    },
    {
      "cell_type": "code",
      "metadata": {
        "id": "fiJTpgNW0b5S",
        "colab_type": "code",
        "colab": {}
      },
      "source": [
        ""
      ],
      "execution_count": 0,
      "outputs": []
    }
  ]
}