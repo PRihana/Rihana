{
 "cells": [
  {
   "cell_type": "code",
   "execution_count": 9,
   "metadata": {},
   "outputs": [
    {
     "name": "stdout",
     "output_type": "stream",
     "text": [
      "<class 'str'>\n",
      "100\n"
     ]
    }
   ],
   "source": [
    "a=100\n",
    "s1 = str(a)\n",
    "print(type(s1))\n",
    "print(a)"
   ]
  },
  {
   "cell_type": "markdown",
   "metadata": {},
   "source": [
    "# data types\n",
    "1. int\n",
    "2. float\n",
    "3. string\n",
    "4. boolean\n",
    "5. complex"
   ]
  },
  {
   "cell_type": "code",
   "execution_count": 3,
   "metadata": {},
   "outputs": [
    {
     "name": "stdout",
     "output_type": "stream",
     "text": [
      "<class 'str'>\n"
     ]
    }
   ],
   "source": [
    "\n",
    "a=\"python\"\n",
    "print(type(a))\n"
   ]
  },
  {
   "cell_type": "code",
   "execution_count": 4,
   "metadata": {},
   "outputs": [
    {
     "name": "stdout",
     "output_type": "stream",
     "text": [
      "<class 'float'>\n"
     ]
    }
   ],
   "source": [
    "x=9.8\n",
    "print(type(x))\n"
   ]
  },
  {
   "cell_type": "code",
   "execution_count": 10,
   "metadata": {},
   "outputs": [
    {
     "name": "stdout",
     "output_type": "stream",
     "text": [
      "<class 'int'>\n",
      "<class 'str'>\n"
     ]
    }
   ],
   "source": [
    "i=100\n",
    "print(type(i))\n",
    "s1=str(i)\n",
    "print(type(s1))"
   ]
  },
  {
   "cell_type": "code",
   "execution_count": 11,
   "metadata": {},
   "outputs": [
    {
     "name": "stdout",
     "output_type": "stream",
     "text": [
      "<class 'int'>\n",
      "<class 'float'>\n"
     ]
    }
   ],
   "source": [
    "s1=90\n",
    "print(type(s1))\n",
    "s2=float(s1)\n",
    "print(type(s2))"
   ]
  },
  {
   "cell_type": "markdown",
   "metadata": {},
   "source": [
    "x = 25 + 56 ** 7/9_9\n",
    "print(x)"
   ]
  },
  {
   "cell_type": "markdown",
   "metadata": {},
   "source": [
    "# arithmetic operators"
   ]
  },
  {
   "cell_type": "code",
   "execution_count": 17,
   "metadata": {},
   "outputs": [
    {
     "name": "stdout",
     "output_type": "stream",
     "text": [
      "86\n",
      "-26\n",
      "1680\n",
      "0.5357142857142857\n",
      "26\n",
      "52334763302736053721351152100000000000000000000000000000000000000000000000000000000\n",
      "0\n"
     ]
    }
   ],
   "source": [
    "a,b = 30,56\n",
    "add = a+b\n",
    "sub = a-b\n",
    "mul = a*b\n",
    "div = a/b\n",
    "modulus = b%a\n",
    "power = a**b\n",
    "floor_division = a//b\n",
    "print(add)\n",
    "print(sub)\n",
    "print(mul)\n",
    "print(div)\n",
    "print(modulus)\n",
    "print(power)\n",
    "print(floor_division)"
   ]
  },
  {
   "cell_type": "markdown",
   "metadata": {},
   "source": [
    "# logical operators"
   ]
  },
  {
   "cell_type": "markdown",
   "metadata": {},
   "source": [
    "## and\n",
    "## or\n",
    "## not"
   ]
  },
  {
   "cell_type": "code",
   "execution_count": 18,
   "metadata": {},
   "outputs": [
    {
     "name": "stdout",
     "output_type": "stream",
     "text": [
      "False\n",
      "True\n",
      "True\n"
     ]
    }
   ],
   "source": [
    "a = 34\n",
    "b = 56\n",
    "print(a>=20 and b<=10)\n",
    "print(a>= 10 or b<=20)\n",
    "print(not a>b)"
   ]
  },
  {
   "cell_type": "markdown",
   "metadata": {},
   "source": [
    "# Relational operators"
   ]
  },
  {
   "cell_type": "code",
   "execution_count": 19,
   "metadata": {},
   "outputs": [
    {
     "name": "stdout",
     "output_type": "stream",
     "text": [
      "False\n",
      "True\n"
     ]
    }
   ],
   "source": [
    "a = 10\n",
    "b = 20\n",
    "print(a==b)\n",
    "print(a!=b)"
   ]
  },
  {
   "cell_type": "markdown",
   "metadata": {},
   "source": [
    "# Membership Operators"
   ]
  },
  {
   "cell_type": "code",
   "execution_count": 20,
   "metadata": {},
   "outputs": [
    {
     "name": "stdout",
     "output_type": "stream",
     "text": [
      "False\n",
      "True\n"
     ]
    }
   ],
   "source": [
    "a = \"string\"\n",
    "b = \"string\"\n",
    "print(a not in b)\n",
    "print(a in b)"
   ]
  },
  {
   "cell_type": "markdown",
   "metadata": {},
   "source": [
    "# indexing"
   ]
  },
  {
   "cell_type": "code",
   "execution_count": 21,
   "metadata": {},
   "outputs": [
    {
     "name": "stdout",
     "output_type": "stream",
     "text": [
      "<class 'str'>\n",
      "<class 'str'>\n",
      "5\n",
      "h\n",
      "o\n",
      "ell\n",
      "olleh\n"
     ]
    }
   ],
   "source": [
    "s1 = \"hello\"\n",
    "s2 = 'hello'\n",
    "print(type(s1))\n",
    "print(type(s2))\n",
    "print(len(s1))\n",
    "print(s1[0])\n",
    "print(s1[4])\n",
    "print(s1[1:4])\n",
    "print(s1[::-1])"
   ]
  },
  {
   "cell_type": "code",
   "execution_count": 23,
   "metadata": {},
   "outputs": [
    {
     "name": "stdout",
     "output_type": "stream",
     "text": [
      "enter the value7\n",
      "7\n"
     ]
    }
   ],
   "source": [
    "x = int(input(\"enter the value\"))\n",
    "print(x)"
   ]
  },
  {
   "cell_type": "markdown",
   "metadata": {},
   "source": [
    "# string examples"
   ]
  },
  {
   "cell_type": "code",
   "execution_count": 24,
   "metadata": {},
   "outputs": [
    {
     "name": "stdout",
     "output_type": "stream",
     "text": [
      "18\n",
      "g\n",
      "m\n"
     ]
    }
   ],
   "source": [
    "s1 = \"python programming\"\n",
    "print(len(s1))\n",
    "print(s1[-1])\n",
    "print(s1[-5])"
   ]
  },
  {
   "cell_type": "markdown",
   "metadata": {},
   "source": [
    "# access the first two characters\n"
   ]
  },
  {
   "cell_type": "code",
   "execution_count": 25,
   "metadata": {},
   "outputs": [
    {
     "name": "stdout",
     "output_type": "stream",
     "text": [
      "py\n",
      "py\n",
      "thon programming\n",
      "ing\n",
      "ython programmin\n",
      "o\n",
      "gnimmargorp nohtyp\n",
      "gnimmargorp nohtyp\n"
     ]
    }
   ],
   "source": [
    "s1 = \"python programming\"\n",
    "print(s1[0:2])\n",
    "print(s1[:2])\n",
    "print(s1[2:])\n",
    "print(s1[-3:])\n",
    "print(s1[1:-1])\n",
    "print(s1[len(s1)//2])\n",
    "print(s1[::-1])\n",
    "print(s1[-1::-1])"
   ]
  },
  {
   "cell_type": "markdown",
   "metadata": {},
   "source": [
    "# String in methods"
   ]
  },
  {
   "cell_type": "markdown",
   "metadata": {},
   "source": [
    "- lower\n",
    "- upper\n",
    "- join\n",
    "- split\n",
    "- replace"
   ]
  },
  {
   "cell_type": "code",
   "execution_count": 26,
   "metadata": {},
   "outputs": [
    {
     "name": "stdout",
     "output_type": "stream",
     "text": [
      "python\n",
      "PROGRAM\n",
      "p,y,t,h,o,n\n",
      "p.y.t.h.o.n\n",
      "p-y-t-h-o-n\n",
      "['python', 'programming', 'easy', 'to', 'learn']\n",
      "Abthon programming easy to learn\n"
     ]
    }
   ],
   "source": [
    "# lower\n",
    "string = \"python\"\n",
    "string2 = \"program\"\n",
    "s1 = string.lower()\n",
    "print(s1)\n",
    "# upper\n",
    "print(string2.upper())\n",
    "# join\n",
    "print(\",\".join(string))\n",
    "print(\".\".join(string))\n",
    "print(\"-\".join(string))\n",
    "# split\n",
    "str2 = \"python programming easy to learn\"\n",
    "print(str2.split())\n",
    "# replace\n",
    "print(str2.replace(\"py\",\"Ab\"))"
   ]
  },
  {
   "cell_type": "code",
   "execution_count": 3,
   "metadata": {},
   "outputs": [
    {
     "name": "stdout",
     "output_type": "stream",
     "text": [
      "enter a value:7\n",
      "false\n"
     ]
    }
   ],
   "source": [
    "n = int(input(\"enter a value:\"))\n",
    "if n%2 != 0:\n",
    "    print(\"false\")\n",
    "else:\n",
    "    print(\"true\")\n",
    "    "
   ]
  },
  {
   "cell_type": "code",
   "execution_count": null,
   "metadata": {},
   "outputs": [],
   "source": [
    "\n"
   ]
  }
 ],
 "metadata": {
  "kernelspec": {
   "display_name": "Python 3",
   "language": "python",
   "name": "python3"
  },
  "language_info": {
   "codemirror_mode": {
    "name": "ipython",
    "version": 3
   },
   "file_extension": ".py",
   "mimetype": "text/x-python",
   "name": "python",
   "nbconvert_exporter": "python",
   "pygments_lexer": "ipython3",
   "version": "3.7.1"
  }
 },
 "nbformat": 4,
 "nbformat_minor": 2
}
