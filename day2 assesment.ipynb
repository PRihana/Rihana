{
 "cells": [
  {
   "cell_type": "code",
   "execution_count": 6,
   "metadata": {},
   "outputs": [
    {
     "name": "stdout",
     "output_type": "stream",
     "text": [
      "enter a number10\n",
      "even number is 2\n",
      "even number is 4\n",
      "even number is 6\n",
      "even number is 8\n",
      "even number is 10\n",
      "sum of elements 30\n"
     ]
    }
   ],
   "source": [
    "#Read a number as input and output as only even numbers sum from 1 to N\n",
    "n = int(input(\"enter a number\"))\n",
    "i = 1\n",
    "sum=0\n",
    "while i<=n:\n",
    "    if i%2==0:\n",
    "        print(\"even number is\",i)\n",
    "        sum = sum+i\n",
    "    i = i+1\n",
    "print(\"sum of elements\",sum)"
   ]
  },
  {
   "cell_type": "code",
   "execution_count": 12,
   "metadata": {},
   "outputs": [
    {
     "name": "stdout",
     "output_type": "stream",
     "text": [
      "dcba4321\n"
     ]
    }
   ],
   "source": [
    "#python function to reverse a string\n",
    "string = \"1234abcd\"\n",
    "print(string[::-1])"
   ]
  },
  {
   "cell_type": "code",
   "execution_count": 17,
   "metadata": {},
   "outputs": [
    {
     "name": "stdout",
     "output_type": "stream",
     "text": [
      "11 12 13 14 15 16 17 18 19 20 21 22 23 24 "
     ]
    }
   ],
   "source": [
    "  # function to print the numbers between 11 to 25 limits\n",
    "for i in range(11,25):\n",
    "    print(i,end=\" \")"
   ]
  },
  {
   "cell_type": "code",
   "execution_count": 18,
   "metadata": {},
   "outputs": [
    {
     "name": "stdout",
     "output_type": "stream",
     "text": [
      "141\n"
     ]
    }
   ],
   "source": [
    "n =[11,12,13,141,51,65,78,89 ]\n",
    "print(max(n))\n"
   ]
  },
  {
   "cell_type": "code",
   "execution_count": 39,
   "metadata": {},
   "outputs": [
    {
     "name": "stdout",
     "output_type": "stream",
     "text": [
      "abz\n",
      "xyc\n",
      "abz xyc\n"
     ]
    }
   ],
   "source": [
    "l1 = \"abc\"\n",
    "l2 = \"xyz\"\n",
    "new_string1 = l1[:2]+l2[2:]\n",
    "new_string2 = l2[:2]+l1[2:]\n",
    "print(new_string1)\n",
    "print(new_string2)\n",
    "print(new_string1+\" \"+new_string2)\n"
   ]
  },
  {
   "cell_type": "code",
   "execution_count": 40,
   "metadata": {},
   "outputs": [
    {
     "ename": "SyntaxError",
     "evalue": "invalid syntax (<ipython-input-40-902ec25cceb8>, line 1)",
     "output_type": "error",
     "traceback": [
      "\u001b[1;36m  File \u001b[1;32m\"<ipython-input-40-902ec25cceb8>\"\u001b[1;36m, line \u001b[1;32m1\u001b[0m\n\u001b[1;33m    while(i=9):\u001b[0m\n\u001b[1;37m           ^\u001b[0m\n\u001b[1;31mSyntaxError\u001b[0m\u001b[1;31m:\u001b[0m invalid syntax\n"
     ]
    }
   ],
   "source": [
    "while(i=9):\n",
    "    print(i)"
   ]
  },
  {
   "cell_type": "code",
   "execution_count": 34,
   "metadata": {},
   "outputs": [
    {
     "name": "stdout",
     "output_type": "stream",
     "text": [
      "enter a date2019\n",
      "2019 is not a leap year\n"
     ]
    }
   ],
   "source": [
    "n = int(input(\"enter a date\"))\n",
    "if n%4==0 and n%400!=0:\n",
    "    print(n, \"is a leap year\")\n",
    "else:\n",
    "    print(n, \"is not a leap year\")\n"
   ]
  },
  {
   "cell_type": "code",
   "execution_count": null,
   "metadata": {},
   "outputs": [],
   "source": []
  }
 ],
 "metadata": {
  "kernelspec": {
   "display_name": "Python 3",
   "language": "python",
   "name": "python3"
  },
  "language_info": {
   "codemirror_mode": {
    "name": "ipython",
    "version": 3
   },
   "file_extension": ".py",
   "mimetype": "text/x-python",
   "name": "python",
   "nbconvert_exporter": "python",
   "pygments_lexer": "ipython3",
   "version": "3.7.1"
  }
 },
 "nbformat": 4,
 "nbformat_minor": 2
}
