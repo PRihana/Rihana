{
  "nbformat": 4,
  "nbformat_minor": 0,
  "metadata": {
    "colab": {
      "name": "day3 task",
      "provenance": [],
      "collapsed_sections": [],
      "authorship_tag": "ABX9TyMS0gxGwpad8Y3zs4BsKSCX",
      "include_colab_link": true
    },
    "kernelspec": {
      "name": "python3",
      "display_name": "Python 3"
    }
  },
  "cells": [
    {
      "cell_type": "markdown",
      "metadata": {
        "id": "view-in-github",
        "colab_type": "text"
      },
      "source": [
        "<a href=\"https://colab.research.google.com/github/PRihana/Rihana/blob/master/day3_task.ipynb\" target=\"_parent\"><img src=\"https://colab.research.google.com/assets/colab-badge.svg\" alt=\"Open In Colab\"/></a>"
      ]
    },
    {
      "cell_type": "code",
      "metadata": {
        "id": "grO762NlwuDx",
        "colab_type": "code",
        "outputId": "4cd65124-0698-49b2-b876-24c0d18f1033",
        "colab": {
          "base_uri": "https://localhost:8080/",
          "height": 34
        }
      },
      "source": [
        "#write python program to print a specified list after removing the 0th,4th and 5th elements\n",
        "L=['red','green','white','black','pink','yellow']\n",
        "print(L)"
      ],
      "execution_count": 0,
      "outputs": [
        {
          "output_type": "stream",
          "text": [
            "['red', 'green', 'white', 'black', 'pink', 'yellow']\n"
          ],
          "name": "stdout"
        }
      ]
    },
    {
      "cell_type": "code",
      "metadata": {
        "id": "J8lqKzo9zvs_",
        "colab_type": "code",
        "outputId": "339cf47e-e498-4c58-8abf-754ee3bd71fc",
        "colab": {
          "base_uri": "https://localhost:8080/",
          "height": 34
        }
      },
      "source": [
        "L.remove(L[0])\n",
        "print(L)"
      ],
      "execution_count": 0,
      "outputs": [
        {
          "output_type": "stream",
          "text": [
            "['green', 'white', 'black', 'yellow']\n"
          ],
          "name": "stdout"
        }
      ]
    },
    {
      "cell_type": "code",
      "metadata": {
        "id": "LCs-YGXEzv5L",
        "colab_type": "code",
        "outputId": "9cdfc4a6-2cbc-4aff-f009-6bde8cb7fc8d",
        "colab": {
          "base_uri": "https://localhost:8080/",
          "height": 34
        }
      },
      "source": [
        "L.remove(L[3])\n",
        "print(L)"
      ],
      "execution_count": 0,
      "outputs": [
        {
          "output_type": "stream",
          "text": [
            "['green', 'white', 'black']\n"
          ],
          "name": "stdout"
        }
      ]
    },
    {
      "cell_type": "code",
      "metadata": {
        "id": "TsCQnsWH1iOK",
        "colab_type": "code",
        "outputId": "31eb9ca3-8ba7-4562-d6b5-898988d50de9",
        "colab": {
          "base_uri": "https://localhost:8080/",
          "height": 34
        }
      },
      "source": [
        "#write python program to removesulte duplicates from dictionary\n",
        "dic={\"red\":\"1\",\"green\":\"2\",\"white\":\"3\",\"pink\":\"4\",\"voilet\":\"1\"}\n",
        "print(dic)"
      ],
      "execution_count": 0,
      "outputs": [
        {
          "output_type": "stream",
          "text": [
            "{'red': '1', 'green': '2', 'white': '3', 'pink': '4', 'voilet': '1'}\n"
          ],
          "name": "stdout"
        }
      ]
    },
    {
      "cell_type": "code",
      "metadata": {
        "id": "bv8iHVAf35ZH",
        "colab_type": "code",
        "colab": {}
      },
      "source": [
        "result={}\n",
        "for key,value in dic.items():\n",
        "  if value not in result.values():\n",
        "    result[key]=value\n"
      ],
      "execution_count": 0,
      "outputs": []
    },
    {
      "cell_type": "code",
      "metadata": {
        "id": "UAuDxqxA5QRk",
        "colab_type": "code",
        "outputId": "c1669768-453e-4069-ac73-073c30d7fec9",
        "colab": {
          "base_uri": "https://localhost:8080/",
          "height": 34
        }
      },
      "source": [
        "print(result)"
      ],
      "execution_count": 0,
      "outputs": [
        {
          "output_type": "stream",
          "text": [
            "{'red': '1', 'green': '2', 'white': '3', 'pink': '4'}\n"
          ],
          "name": "stdout"
        }
      ]
    },
    {
      "cell_type": "code",
      "metadata": {
        "id": "LLxOb3PS57C1",
        "colab_type": "code",
        "outputId": "0c0d0bc0-2a0a-4622-ed6a-9010920e2625",
        "colab": {
          "base_uri": "https://localhost:8080/",
          "height": 51
        }
      },
      "source": [
        "#write python program to get a list,sorted in increasing order by the last element in each tuple from a given list of non empty tuple\n",
        "L1=[(2,5),(1,2),(4,4),(2,3),(2,1)]\n",
        "L1.sort()\n",
        "print(L1)\n",
        "tuple(L1)\n",
        "print(L1)"
      ],
      "execution_count": 0,
      "outputs": [
        {
          "output_type": "stream",
          "text": [
            "[(1, 2), (2, 1), (2, 3), (2, 5), (4, 4)]\n",
            "[(1, 2), (2, 1), (2, 3), (2, 5), (4, 4)]\n"
          ],
          "name": "stdout"
        }
      ]
    },
    {
      "cell_type": "code",
      "metadata": {
        "id": "sWkl-qTN73xP",
        "colab_type": "code",
        "colab": {}
      },
      "source": [
        "#write python program to create a dictionary from a string\n",
        "s=\"Dhyanahita\"\n",
        "dic={}\n",
        "for i in s:\n",
        "  dic[i]=dic.get(i,0)+1"
      ],
      "execution_count": 0,
      "outputs": []
    },
    {
      "cell_type": "code",
      "metadata": {
        "id": "ZwobsKtp80VU",
        "colab_type": "code",
        "outputId": "347590eb-5bd2-44bf-b5d3-10a3839c4973",
        "colab": {
          "base_uri": "https://localhost:8080/",
          "height": 34
        }
      },
      "source": [
        "print(dic)"
      ],
      "execution_count": 0,
      "outputs": [
        {
          "output_type": "stream",
          "text": [
            "{'D': 1, 'h': 2, 'y': 1, 'a': 3, 'n': 1, 'i': 1, 't': 1}\n"
          ],
          "name": "stdout"
        }
      ]
    },
    {
      "cell_type": "code",
      "metadata": {
        "id": "Dlr1iehe85xL",
        "colab_type": "code",
        "outputId": "67cc5f4b-003d-4209-d695-69a49ec5c355",
        "colab": {
          "base_uri": "https://localhost:8080/",
          "height": 34
        }
      },
      "source": [
        "#write python program to find the second smallest number in a list\n",
        "l=[9,5,1,10,4,6]\n",
        "#m_value=min(l)\n",
        "#print(m_value)\n",
        "l.sort()\n",
        "print(l[1])"
      ],
      "execution_count": 0,
      "outputs": [
        {
          "output_type": "stream",
          "text": [
            "4\n"
          ],
          "name": "stdout"
        }
      ]
    },
    {
      "cell_type": "code",
      "metadata": {
        "id": "FOsZQKXt_J0N",
        "colab_type": "code",
        "outputId": "7a1a3ca7-a8ff-401b-8fef-cb14c25b8411",
        "colab": {
          "base_uri": "https://localhost:8080/",
          "height": 34
        }
      },
      "source": [
        "#write python program to create a tuples with numbers and print one item\n",
        "t=(8,7,6,5,3)\n",
        "print(t[2])"
      ],
      "execution_count": 0,
      "outputs": [
        {
          "output_type": "stream",
          "text": [
            "6\n"
          ],
          "name": "stdout"
        }
      ]
    },
    {
      "cell_type": "code",
      "metadata": {
        "id": "AtQecQRgBr51",
        "colab_type": "code",
        "outputId": "446b91c8-7b8c-4483-9edd-b2e26c14098d",
        "colab": {
          "base_uri": "https://localhost:8080/",
          "height": 34
        }
      },
      "source": [
        "#write python program to convert a list of tuple\n",
        "l=[1,2,3,4,5,\"string\"]\n",
        "tuple(l) "
      ],
      "execution_count": 0,
      "outputs": [
        {
          "output_type": "execute_result",
          "data": {
            "text/plain": [
              "(1, 2, 3, 4, 5, 'string')"
            ]
          },
          "metadata": {
            "tags": []
          },
          "execution_count": 57
        }
      ]
    },
    {
      "cell_type": "code",
      "metadata": {
        "id": "7CVGH57VCKMX",
        "colab_type": "code",
        "outputId": "e437b192-b5bd-4e3c-980e-0b1abb0a122f",
        "colab": {
          "base_uri": "https://localhost:8080/",
          "height": 136
        }
      },
      "source": [
        "#write python program to convert a list of characters into a string\n",
        "L=[8,9,7,6,5,4]\n",
        "for i in L:\n",
        "   a=str(i)\n",
        "   print(a)\n",
        "type(a)   \n",
        "    "
      ],
      "execution_count": 0,
      "outputs": [
        {
          "output_type": "stream",
          "text": [
            "8\n",
            "9\n",
            "7\n",
            "6\n",
            "5\n",
            "4\n"
          ],
          "name": "stdout"
        },
        {
          "output_type": "execute_result",
          "data": {
            "text/plain": [
              "str"
            ]
          },
          "metadata": {
            "tags": []
          },
          "execution_count": 94
        }
      ]
    },
    {
      "cell_type": "code",
      "metadata": {
        "id": "zBDbDnUWGMXS",
        "colab_type": "code",
        "outputId": "42f85551-2e12-4799-e07c-c5e0f8f25612",
        "colab": {
          "base_uri": "https://localhost:8080/",
          "height": 34
        }
      },
      "source": [
        "#write python program to generate groups of five consecutive numbers in a list\n",
        "L=[[5*i +j for j in range(1,6)] for i in range(5)]\n",
        "print(L)"
      ],
      "execution_count": 0,
      "outputs": [
        {
          "output_type": "stream",
          "text": [
            "[[1, 2, 3, 4, 5], [6, 7, 8, 9, 10], [11, 12, 13, 14, 15], [16, 17, 18, 19, 20], [21, 22, 23, 24, 25]]\n"
          ],
          "name": "stdout"
        }
      ]
    }
  ]
}